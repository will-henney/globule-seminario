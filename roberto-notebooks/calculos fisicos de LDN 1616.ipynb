{
 "cells": [
  {
   "cell_type": "code",
   "execution_count": 1,
   "metadata": {},
   "outputs": [],
   "source": [
    "from astropy.coordinates import SkyCoord #import astropy and numpy\n",
    "import numpy as np\n",
    "import astropy.units as u"
   ]
  },
  {
   "cell_type": "code",
   "execution_count": 2,
   "metadata": {},
   "outputs": [
    {
     "name": "stdout",
     "output_type": "stream",
     "text": [
      "eps Ori coordinates: <SkyCoord (ICRS): (ra, dec) in deg\n",
      "    (84.05338894, -1.20191914)>\n",
      "LDN 1616 coordinates: <SkyCoord (ICRS): (ra, dec) in deg\n",
      "    (76.75, -3.35166667)>\n"
     ]
    }
   ],
   "source": [
    "eps_ori = SkyCoord.from_name('eps ori')  #epsilon Ori coordinates\n",
    "LDN_1616 = SkyCoord.from_name('LDN 1616')    #LDN 1616 coordinates\n",
    "print('eps Ori coordinates:', eps_ori)\n",
    "print('LDN 1616 coordinates:', LDN_1616)"
   ]
  },
  {
   "cell_type": "code",
   "execution_count": 3,
   "metadata": {},
   "outputs": [
    {
     "name": "stdout",
     "output_type": "stream",
     "text": [
      "the separation angular is:\n"
     ]
    },
    {
     "data": {
      "text/latex": [
       "$7^\\circ36{}^\\prime26.1181{}^{\\prime\\prime}$"
      ],
      "text/plain": [
       "<Angle 7.60725501 deg>"
      ]
     },
     "execution_count": 3,
     "metadata": {},
     "output_type": "execute_result"
    }
   ],
   "source": [
    "separation = eps_ori.separation(LDN_1616)\n",
    "print('the separation angular is:')\n",
    "separation"
   ]
  },
  {
   "cell_type": "code",
   "execution_count": 4,
   "metadata": {},
   "outputs": [
    {
     "data": {
      "text/latex": [
       "$53.069658 \\; \\mathrm{pc}$"
      ],
      "text/plain": [
       "<Quantity 53.06965841 pc>"
      ]
     },
     "execution_count": 4,
     "metadata": {},
     "output_type": "execute_result"
    }
   ],
   "source": [
    "from math import pi, e, sin, cos\n",
    "import math\n",
    "from IPython.display import display, Markdown\n",
    "distance = 400*u.pc # distance to Orion OB stars\n",
    "Distance = 2*distance*sin(math.radians((separation).value)/2)\n",
    "Distance"
   ]
  },
  {
   "cell_type": "code",
   "execution_count": 5,
   "metadata": {},
   "outputs": [
    {
     "data": {
      "text/latex": [
       "$53.069658 \\; \\mathrm{pc}$"
      ],
      "text/plain": [
       "<Quantity 53.06965841 pc>"
      ]
     },
     "execution_count": 5,
     "metadata": {},
     "output_type": "execute_result"
    }
   ],
   "source": [
    "Distance "
   ]
  },
  {
   "cell_type": "code",
   "execution_count": 6,
   "metadata": {},
   "outputs": [
    {
     "data": {
      "text/markdown": [
       "The ionizing flux of $\\epsilon$ Ori is 1.78E+07 1 / (cm2 s)"
      ],
      "text/plain": [
       "<IPython.core.display.Markdown object>"
      ]
     },
     "metadata": {},
     "output_type": "display_data"
    },
    {
     "data": {
      "text/markdown": [
       "The ionizing flux of $\\sigma$ Ori is 2.25E+06 1 / (cm2 s)"
      ],
      "text/plain": [
       "<IPython.core.display.Markdown object>"
      ]
     },
     "metadata": {},
     "output_type": "display_data"
    }
   ],
   "source": [
    "cms = (u.cm**2 *u.second)**(-1) # units for cgs\n",
    "flux_io_sig_ori = ((7.59E47)/(1*u.second))/(4*pi*Distance**2) #ionizing flux for sigma ori\n",
    "flux_io_eps_ori = ((6.0E48)/(1*u.second))/(4*pi*Distance**2) #ionizing flux for epsilon ori\n",
    "flux_io_eps_ori_cms=(flux_io_eps_ori.to(cms)) #unit in cgs\n",
    "flux_eps = format(flux_io_eps_ori_cms,'0.2E') \n",
    "display(Markdown(rf'The ionizing flux of $'r'\\epsilon$ Ori is 'f'{flux_eps}'))\n",
    "flux_io_sig_ori_cms=(flux_io_sig_ori.to(cms)) #units in cgs\n",
    "flux_sig = format(flux_io_sig_ori_cms,'0.2E')\n",
    "display(Markdown(rf'The ionizing flux of $'r'\\sigma$ Ori is 'f'{flux_sig}'))"
   ]
  },
  {
   "cell_type": "code",
   "execution_count": null,
   "metadata": {},
   "outputs": [],
   "source": []
  },
  {
   "cell_type": "code",
   "execution_count": 12,
   "metadata": {},
   "outputs": [
    {
     "name": "stdout",
     "output_type": "stream",
     "text": [
      "The globule radius in pc is: 1.3404101434459132 pc\n",
      "The globule radius in cm is: 4.136073529634682e+18 cm\n"
     ]
    }
   ],
   "source": [
    "angular_radius_LDN_1616 = 0.2*u.degree\n",
    "distance_globule = 384*u.pc\n",
    "globule_radius = distance_globule*sin(math.radians(angular_radius_LDN_1616.value))\n",
    "print('The globule radius in pc is:',globule_radius)\n",
    "print('The globule radius in cm is:',globule_radius.to('cm'))"
   ]
  },
  {
   "cell_type": "code",
   "execution_count": null,
   "metadata": {},
   "outputs": [],
   "source": []
  },
  {
   "cell_type": "code",
   "execution_count": 13,
   "metadata": {},
   "outputs": [
    {
     "data": {
      "text/latex": [
       "$9.3998478 \\; \\mathrm{\\frac{1}{cm^{3}}}$"
      ],
      "text/plain": [
       "<Quantity 9.39984778 1 / cm3>"
      ]
     },
     "execution_count": 13,
     "metadata": {},
     "output_type": "execute_result"
    }
   ],
   "source": [
    "h = 0.1 * globule_radius.to('cm') #The effective thickness\n",
    "alpha_beta = 2.3E-13 * u.cm**3 / (u.second) #The recombination coefficient\n",
    "u_0 = 10 * u.kilometer / (u.second) #The gas velocity\n",
    "cm_s = u.cm / u.second\n",
    "F_0 = flux_io_eps_ori_cms\n",
    "a = h*alpha_beta\n",
    "b = u_0.to(cm_s)\n",
    "c = -F_0\n",
    "n_0 = (-b+(b**2-(4*a*c))**(1/2))/(2*a)\n",
    "n_0"
   ]
  },
  {
   "cell_type": "code",
   "execution_count": null,
   "metadata": {},
   "outputs": [],
   "source": []
  },
  {
   "cell_type": "code",
   "execution_count": 14,
   "metadata": {},
   "outputs": [
    {
     "data": {
      "text/latex": [
       "$13.680936 \\; \\mathrm{\\frac{1}{cm^{3}}}$"
      ],
      "text/plain": [
       "<Quantity 13.68093603 1 / cm3>"
      ]
     },
     "execution_count": 14,
     "metadata": {},
     "output_type": "execute_result"
    }
   ],
   "source": [
    "#1)\n",
    "(F_0/(h*alpha_beta))**(1/2)"
   ]
  },
  {
   "cell_type": "code",
   "execution_count": 15,
   "metadata": {},
   "outputs": [
    {
     "data": {
      "text/latex": [
       "$17.805235 \\; \\mathrm{\\frac{1}{cm^{3}}}$"
      ],
      "text/plain": [
       "<Quantity 17.80523506 1 / cm3>"
      ]
     },
     "execution_count": 15,
     "metadata": {},
     "output_type": "execute_result"
    }
   ],
   "source": [
    "#2)\n",
    "F_0/(u_0.to(cm_s))"
   ]
  },
  {
   "cell_type": "code",
   "execution_count": null,
   "metadata": {},
   "outputs": [],
   "source": []
  }
 ],
 "metadata": {
  "kernelspec": {
   "display_name": "Python 3.8.5 64-bit ('base': conda)",
   "language": "python",
   "name": "python38564bitbasecondab56a9e3744354fe6950b72f8491071c9"
  },
  "language_info": {
   "codemirror_mode": {
    "name": "ipython",
    "version": 3
   },
   "file_extension": ".py",
   "mimetype": "text/x-python",
   "name": "python",
   "nbconvert_exporter": "python",
   "pygments_lexer": "ipython3",
   "version": "3.8.5"
  }
 },
 "nbformat": 4,
 "nbformat_minor": 4
}
