{
 "cells": [
  {
   "cell_type": "markdown",
   "metadata": {},
   "source": [
    "We invetigate about the globules in M1-67 and we find some papers for [M1-67 and WR 124](https://github.com/will-henney/globule-seminario/issues/19#issuecomment-1517063395).\n",
    "In our discussion we take some values for the wind velocity $v_\\inf$,  mass-loss rate $\\dot{M}$, distance $d$, ionizing luminosity $L_*$.\n",
    "We [obtain](https://github.com/will-henney/globule-seminario/issues/20) the angular size of the globules (radius).\n",
    "We found that en this case the electronic density are between $n_e\\approx500 cm^{-3}$ at the exterior and $n_e\\approx 2000cm^{-3}$ and we compare this with an stimate similarly to LDN 1616"
   ]
  },
  {
   "cell_type": "code",
   "execution_count": 1,
   "metadata": {},
   "outputs": [],
   "source": [
    "# for Packages\n",
    "import numpy as np\n",
    "from IPython.display import display, Markdown #this is for the text in our code\n",
    "from astropy.coordinates import SkyCoord #import astropy \n",
    "import astropy.units as u #import the units\n",
    "from astropy.coordinates import SkyCoord #coordinates from astropy"
   ]
  },
  {
   "cell_type": "code",
   "execution_count": 7,
   "metadata": {},
   "outputs": [],
   "source": [
    "#Parameters\n",
    "D = 5429*u.pc\n",
    "v_inf = 710*u.km*(1/u.second)\n",
    "M_loss = (8.0E-5)*u.M_sun*(1/u.yr)\n",
    "L = 10**(49.1)*(1/u.second)"
   ]
  },
  {
   "cell_type": "code",
   "execution_count": 8,
   "metadata": {},
   "outputs": [
    {
     "data": {
      "text/latex": [
       "$1.2589254 \\times 10^{49} \\; \\mathrm{\\frac{1}{s}}$"
      ],
      "text/plain": [
       "<Quantity 1.25892541e+49 1 / s>"
      ]
     },
     "execution_count": 8,
     "metadata": {},
     "output_type": "execute_result"
    }
   ],
   "source": [
    "L"
   ]
  },
  {
   "cell_type": "markdown",
   "metadata": {},
   "source": [
    "For the radius globule we use the definition of $pc$ and we have that $0.1 arcsec \\times D[pc]=r[UA]$, where $D$ is in $pc$ and $r$ in $UA$.\n",
    "_scipy dont have UA so we convert to pc directly_"
   ]
  },
  {
   "cell_type": "code",
   "execution_count": 9,
   "metadata": {},
   "outputs": [
    {
     "data": {
      "text/latex": [
       "$0.0026320335 \\; \\mathrm{pc}$"
      ],
      "text/plain": [
       "<Quantity 0.00263203 pc>"
      ]
     },
     "execution_count": 9,
     "metadata": {},
     "output_type": "execute_result"
    }
   ],
   "source": [
    "r = 542.9*(4.8481E-6)*u.pc  #globule radius in pc"
   ]
  },
  {
   "cell_type": "markdown",
   "metadata": {},
   "source": [
    "For an stimate similar to LDN 1616 considering the wind velocity and ionizing flux we have\n",
    "$$n_0=\\frac{-u_0+\\sqrt{u_0^2+4h\\alpha_\\beta F_0}}{2h\\alpha_\\beta}$$"
   ]
  },
  {
   "cell_type": "code",
   "execution_count": 36,
   "metadata": {},
   "outputs": [
    {
     "data": {
      "text/latex": [
       "$1561.381 \\; \\mathrm{\\frac{1}{cm\\,cm^{2}}}$"
      ],
      "text/plain": [
       "<Quantity 1561.38100593 1 / (cm cm2)>"
      ]
     },
     "execution_count": 36,
     "metadata": {},
     "output_type": "execute_result"
    }
   ],
   "source": [
    "#values that we considered\n",
    "h = 0.1 * r.to('cm')           #The effective thickness\n",
    "alpha_beta = 2.3E-13 * u.cm**3 / (u.second) #The recombination coefficient\n",
    "u_0 = 710 * u.kilometer / (u.second)         #The gas velocity\n",
    "cm_s = u.cm / u.second                      #convert the gas velocity to cgs\n",
    "cms = (u.cm**2 *u.second)**(-1)             # units for cgs\n",
    "F_0 = L*(1/(4*np.pi*(3.0E18*u.cm)**2))     #flux of WR 124?\n",
    "                                           # this is with a distance of ~0.98 pc\n",
    "                                           #what is the distance?\n",
    "#coefficients to solve the qudratic function\n",
    "a = h*alpha_beta\n",
    "b = u_0.to(cm_s)\n",
    "c = -F_0\n",
    "n_0 = (-b+(b**2-(4*a*c))**(1/2))/(2*a)\n",
    "n_0"
   ]
  },
  {
   "cell_type": "code",
   "execution_count": null,
   "metadata": {},
   "outputs": [],
   "source": []
  }
 ],
 "metadata": {
  "kernelspec": {
   "display_name": "Python 3",
   "language": "python",
   "name": "python3"
  },
  "language_info": {
   "codemirror_mode": {
    "name": "ipython",
    "version": 3
   },
   "file_extension": ".py",
   "mimetype": "text/x-python",
   "name": "python",
   "nbconvert_exporter": "python",
   "pygments_lexer": "ipython3",
   "version": "3.8.5"
  }
 },
 "nbformat": 4,
 "nbformat_minor": 4
}
