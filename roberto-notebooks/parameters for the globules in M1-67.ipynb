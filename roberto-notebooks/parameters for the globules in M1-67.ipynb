{
 "cells": [
  {
   "cell_type": "markdown",
   "metadata": {},
   "source": [
    "We invetigate about the globules in M1-67 and we find some papers for [M1-67 and WR 124](https://github.com/will-henney/globule-seminario/issues/19#issuecomment-1517063395).\n",
    "In our discussion we take some values for the wind velocity $v_\\inf$,  mass-loss rate $\\dot{M}$, distance $d$, ionizing luminosity $L_*$.\n",
    "We [obtain](https://github.com/will-henney/globule-seminario/issues/20) the angular size of the globules (radius).\n",
    "We found that en this case the electronic density are between $n_e\\approx500 cm^{-3}$ at the exterior and $n_e\\approx 2000cm^{-3}$ and we compare this with an stimate similarly to LDN 1616"
   ]
  },
  {
   "cell_type": "code",
   "execution_count": 1,
   "metadata": {},
   "outputs": [],
   "source": [
    "# for Packages\n",
    "import numpy as np\n",
    "from IPython.display import display, Markdown #this is for the text in our code\n",
    "from astropy.coordinates import SkyCoord #import astropy \n",
    "import astropy.units as u #import the units\n",
    "from astropy.coordinates import SkyCoord #coordinates from astropy\n",
    "from astropy import constants as const #constants"
   ]
  },
  {
   "cell_type": "code",
   "execution_count": 2,
   "metadata": {},
   "outputs": [],
   "source": [
    "#Parameters\n",
    "D = 5429*u.pc\n",
    "v_inf = 710*u.km*(1/u.second)\n",
    "M_loss = (8.0E-5)*u.M_sun*(1/u.yr)\n",
    "L = 10**(49.1)*(1/u.second)"
   ]
  },
  {
   "cell_type": "code",
   "execution_count": 3,
   "metadata": {},
   "outputs": [
    {
     "data": {
      "text/latex": [
       "$1.2589254 \\times 10^{49} \\; \\mathrm{\\frac{1}{s}}$"
      ],
      "text/plain": [
       "<Quantity 1.25892541e+49 1 / s>"
      ]
     },
     "execution_count": 3,
     "metadata": {},
     "output_type": "execute_result"
    }
   ],
   "source": [
    "L"
   ]
  },
  {
   "cell_type": "markdown",
   "metadata": {},
   "source": [
    "For the radius globule we use the definition of $pc$ and we have that $0.1 arcsec \\times D[pc]=r[UA]$, where $D$ is in $pc$ and $r$ in $UA$.\n",
    "_scipy dont have UA so we convert to pc directly_"
   ]
  },
  {
   "cell_type": "code",
   "execution_count": 3,
   "metadata": {},
   "outputs": [],
   "source": [
    "r = 542.9*(4.8481E-6)*u.pc  #globule radius in pc"
   ]
  },
  {
   "cell_type": "markdown",
   "metadata": {},
   "source": [
    "For an stimate similar to LDN 1616 considering the wind velocity and ionizing flux we have\n",
    "$$n_0=\\frac{-u_0+\\sqrt{u_0^2+4h\\alpha_\\beta F_0}}{2h\\alpha_\\beta}$$"
   ]
  },
  {
   "cell_type": "code",
   "execution_count": null,
   "metadata": {},
   "outputs": [],
   "source": []
  },
  {
   "cell_type": "code",
   "execution_count": null,
   "metadata": {},
   "outputs": [],
   "source": []
  },
  {
   "cell_type": "markdown",
   "metadata": {},
   "source": [
    "For the luminosity we have $$L=\\int_{4\\pi}d\\Omega\\int_V j_\\nu dV$$ and for $H_\\alpha$ we have\n",
    "$$L(H\\alpha)=\\int_{4\\pi}d\\Omega\\int_V j dV=4\\pi\\int_V jdV$$ with $j$ our source therefore\n",
    "$$L(H\\alpha)=4\\pi \\int_V  \\alpha_\\beta n_e n_p(h\\nu)_{H\\alpha}f_{H \\alpha} dV$$ where $f_{H\\alpha}$ is a efficient factor, and because $\\alpha_\\beta,(h\\nu)_{H\\alpha},f_{H\\alpha}$ are constant and assuming that $n_e=n_p$ and using the definition for VEM we have\n",
    "$$L(H\\alpha)=4\\pi\\alpha_\\beta(h\\nu)_{H\\alpha}f_{H\\alpha}VEM$$ on the other hand for the flux we have $L=4\\pi r^2F$ so we have\n",
    "$$4\\pi D^2F(H\\alpha)=4\\pi\\alpha_\\beta(h\\nu)_{H\\alpha}f_{H\\alpha}VEM$$\n",
    "$$\\Rightarrow VEM=\\frac{D^2F(H\\alpha)}{\\alpha_\\beta(h\\nu)_{H\\alpha}f_{H\\alpha}}$$\n",
    "\n",
    "Now for VEM we use the result that we obtain \n",
    "$$VEM=\\pi\\xi_0n_0^2r_0^3$$\n",
    "$$\\Rightarrow n_0=\\sqrt{\\frac{VEM}{\\pi\\xi_0 r_0^3}}$$"
   ]
  },
  {
   "cell_type": "code",
   "execution_count": 4,
   "metadata": {},
   "outputs": [
    {
     "data": {
      "text/latex": [
       "$1.2707763 \\times 10^{55} \\; \\mathrm{\\frac{cm^{2}}{cm^{5}}}$"
      ],
      "text/plain": [
       "<Quantity 1.27077629e+55 cm2 / cm5>"
      ]
     },
     "execution_count": 4,
     "metadata": {},
     "output_type": "execute_result"
    }
   ],
   "source": [
    "F_Ha = 3.0E-14*(u.erg/(u.cm**2*u.second))\n",
    "E = (6.61E-27*2.99E10)/(6.563E-5)*(u.erg)\n",
    "alpha_Halpha = 2.20E-13*(u.cm**3/u.second)    # with T=6 000K\n",
    "VEM = ((D.to('cm'))**2*F_Ha)/(alpha_Halpha*E)\n",
    "VEM"
   ]
  },
  {
   "cell_type": "code",
   "execution_count": 5,
   "metadata": {},
   "outputs": [
    {
     "data": {
      "text/latex": [
       "$5739.8616 \\; \\mathrm{\\frac{1}{cm^{1/2}\\,cm^{5/2}}}$"
      ],
      "text/plain": [
       "<Quantity 5739.86160329 1 / (cm(1/2) cm(5/2))>"
      ]
     },
     "execution_count": 5,
     "metadata": {},
     "output_type": "execute_result"
    }
   ],
   "source": [
    "r = (542.9*u.AU) #globule radius \n",
    "xi = 0.2291820650049779\n",
    "n_0 = ((VEM)/(np.pi*xi*(r.to('cm'))**3))**(1/2)\n",
    "n_0"
   ]
  },
  {
   "cell_type": "markdown",
   "metadata": {},
   "source": [
    "We have a density similarly to Grosdidier $\\approx 5739 cm^{-3}$, Now we want the ioniziong flux that we need"
   ]
  },
  {
   "cell_type": "code",
   "execution_count": 6,
   "metadata": {},
   "outputs": [
    {
     "data": {
      "text/latex": [
       "$4.1368444 \\times 10^{11} \\; \\mathrm{\\frac{1}{s\\,cm^{2}}}$"
      ],
      "text/plain": [
       "<Quantity 4.13684435e+11 1 / (cm2 s)>"
      ]
     },
     "execution_count": 6,
     "metadata": {},
     "output_type": "execute_result"
    }
   ],
   "source": [
    "alpha_beta = 2.3E-13 * u.cm**3 / (u.second)\n",
    "h = 0.1*r\n",
    "F0 = n_0**2*alpha_beta*(h.to('cm'))+n_0*v_inf\n",
    "F0"
   ]
  },
  {
   "cell_type": "markdown",
   "metadata": {},
   "source": [
    "Now we calculated the distance to which are localizated"
   ]
  },
  {
   "cell_type": "code",
   "execution_count": 7,
   "metadata": {},
   "outputs": [
    {
     "data": {
      "text/latex": [
       "$1.5561823 \\times 10^{18} \\; \\mathrm{cm}$"
      ],
      "text/plain": [
       "<Quantity 1.55618232e+18 cm>"
      ]
     },
     "execution_count": 7,
     "metadata": {},
     "output_type": "execute_result"
    }
   ],
   "source": [
    "L_lyman = 10**(49.1)*(1/u.second)\n",
    "distance = (L/(4*np.pi*F0))**(1/2)\n",
    "distance"
   ]
  },
  {
   "cell_type": "code",
   "execution_count": 8,
   "metadata": {},
   "outputs": [
    {
     "data": {
      "text/latex": [
       "$0.50432434 \\; \\mathrm{pc}$"
      ],
      "text/plain": [
       "<Quantity 0.50432434 pc>"
      ]
     },
     "execution_count": 8,
     "metadata": {},
     "output_type": "execute_result"
    }
   ],
   "source": [
    "distance.to('pc')"
   ]
  },
  {
   "cell_type": "markdown",
   "metadata": {},
   "source": [
    "$0.5 pc$ is the distance, and we considerer that globules are between 10\" and 30\"."
   ]
  },
  {
   "cell_type": "code",
   "execution_count": 9,
   "metadata": {},
   "outputs": [
    {
     "data": {
      "text/latex": [
       "$0.26320535 \\; \\mathrm{pc}$"
      ],
      "text/plain": [
       "<Quantity 0.26320535 pc>"
      ]
     },
     "execution_count": 9,
     "metadata": {},
     "output_type": "execute_result"
    }
   ],
   "source": [
    "distance1 = 10*5429*u.AU\n",
    "distance1.to('pc')"
   ]
  },
  {
   "cell_type": "code",
   "execution_count": 10,
   "metadata": {},
   "outputs": [
    {
     "data": {
      "text/latex": [
       "$0.78961604 \\; \\mathrm{pc}$"
      ],
      "text/plain": [
       "<Quantity 0.78961604 pc>"
      ]
     },
     "execution_count": 10,
     "metadata": {},
     "output_type": "execute_result"
    }
   ],
   "source": [
    "distance2 = 30*5429*u.AU\n",
    "distance2.to('pc')"
   ]
  },
  {
   "cell_type": "markdown",
   "metadata": {},
   "source": [
    "The distance that we obtain is in the range of 10\" and 30\", $0.26 pc$ and $0.78pc$."
   ]
  },
  {
   "cell_type": "markdown",
   "metadata": {},
   "source": [
    "Now we calculated the pressure of the wind and we have"
   ]
  },
  {
   "cell_type": "code",
   "execution_count": 38,
   "metadata": {},
   "outputs": [
    {
     "data": {
      "text/latex": [
       "$4.3176746 \\times 10^{-8} \\; \\mathrm{\\frac{P}{s}}$"
      ],
      "text/plain": [
       "<Quantity 4.31767459e-08 P / s>"
      ]
     },
     "execution_count": 38,
     "metadata": {},
     "output_type": "execute_result"
    }
   ],
   "source": [
    "# for distance 1\n",
    "P = (M_loss*v_inf)/(4*np.pi*(distance1.to('cm'))**2)\n",
    "(P).cgs"
   ]
  },
  {
   "cell_type": "markdown",
   "metadata": {},
   "source": [
    "For the velocity sound we calculated with a Temperature at 6000 K"
   ]
  },
  {
   "cell_type": "code",
   "execution_count": 31,
   "metadata": {},
   "outputs": [
    {
     "data": {
      "text/latex": [
       "$9.0853727 \\; \\mathrm{\\frac{km}{s}}$"
      ],
      "text/plain": [
       "<Quantity 9.08537273 km / s>"
      ]
     },
     "execution_count": 31,
     "metadata": {},
     "output_type": "execute_result"
    }
   ],
   "source": [
    "T = 6000*u.K\n",
    "m = (0.6*u.M_p).to('g')\n",
    "c_s=((const.k_B).to('erg/K')*T/m)**(1/2)\n",
    "c_s.to('km/second')"
   ]
  },
  {
   "cell_type": "markdown",
   "metadata": {},
   "source": [
    "Now we calculated the pressure of the globule"
   ]
  },
  {
   "cell_type": "code",
   "execution_count": 33,
   "metadata": {},
   "outputs": [
    {
     "data": {
      "text/latex": [
       "$9.509681 \\times 10^{-9} \\; \\mathrm{\\frac{P}{s}}$"
      ],
      "text/plain": [
       "<Quantity 9.50968102e-09 P / s>"
      ]
     },
     "execution_count": 33,
     "metadata": {},
     "output_type": "execute_result"
    }
   ],
   "source": [
    "P_g = 2*n_0*m*c_s**2\n",
    "P_g.to('P/s')"
   ]
  },
  {
   "cell_type": "markdown",
   "metadata": {},
   "source": [
    "Finally we obtain a ratio of"
   ]
  },
  {
   "cell_type": "code",
   "execution_count": 36,
   "metadata": {},
   "outputs": [
    {
     "data": {
      "text/latex": [
       "$0.22025006 \\; \\mathrm{}$"
      ],
      "text/plain": [
       "<Quantity 0.22025006>"
      ]
     },
     "execution_count": 36,
     "metadata": {},
     "output_type": "execute_result"
    }
   ],
   "source": [
    "(P_g).cgs/(P).cgs"
   ]
  },
  {
   "cell_type": "code",
   "execution_count": null,
   "metadata": {},
   "outputs": [],
   "source": []
  }
 ],
 "metadata": {
  "kernelspec": {
   "display_name": "Python 3",
   "language": "python",
   "name": "python3"
  },
  "language_info": {
   "codemirror_mode": {
    "name": "ipython",
    "version": 3
   },
   "file_extension": ".py",
   "mimetype": "text/x-python",
   "name": "python",
   "nbconvert_exporter": "python",
   "pygments_lexer": "ipython3",
   "version": "3.8.5"
  }
 },
 "nbformat": 4,
 "nbformat_minor": 4
}
