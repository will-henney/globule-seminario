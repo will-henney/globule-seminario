{
 "cells": [
  {
   "cell_type": "markdown",
   "metadata": {},
   "source": [
    "We invetigate about the globules in M1-67 and we find some papers for [M1-67 and WR 124](https://github.com/will-henney/globule-seminario/issues/19#issuecomment-1517063395).\n",
    "In our discussion we take some values for the wind velocity $v_\\inf$,  mass-loss rate $\\dot{M}$, distance $d$, ionizing luminosity $L_*$.\n",
    "We [obtain](https://github.com/will-henney/globule-seminario/issues/20) the angular size of the globules (radius).\n",
    "We found that en this case the electronic density are between $n_e\\approx500 cm^{-3}$ at the exterior and $n_e\\approx 2000cm^{-3}$ and we compare this with an stimate similarly to LDN 1616"
   ]
  },
  {
   "cell_type": "code",
   "execution_count": 1,
   "metadata": {},
   "outputs": [],
   "source": [
    "# for Packages\n",
    "import numpy as np\n",
    "from IPython.display import display, Markdown #this is for the text in our code\n",
    "from astropy.coordinates import SkyCoord #import astropy \n",
    "import astropy.units as u #import the units\n",
    "from astropy.coordinates import SkyCoord #coordinates from astropy"
   ]
  },
  {
   "cell_type": "code",
   "execution_count": 2,
   "metadata": {},
   "outputs": [],
   "source": [
    "#Parameters\n",
    "D = 5429*u.pc\n",
    "v_inf = 710*u.km*(1/u.second)\n",
    "M_loss = (8.0E-5)*u.M_sun*(1/u.yr)\n",
    "L = 10**(49.1)*(1/u.second)"
   ]
  },
  {
   "cell_type": "code",
   "execution_count": 3,
   "metadata": {},
   "outputs": [
    {
     "data": {
      "text/latex": [
       "$1.2589254 \\times 10^{49} \\; \\mathrm{\\frac{1}{s}}$"
      ],
      "text/plain": [
       "<Quantity 1.25892541e+49 1 / s>"
      ]
     },
     "execution_count": 3,
     "metadata": {},
     "output_type": "execute_result"
    }
   ],
   "source": [
    "L"
   ]
  },
  {
   "cell_type": "markdown",
   "metadata": {},
   "source": [
    "For the radius globule we use the definition of $pc$ and we have that $0.1 arcsec \\times D[pc]=r[UA]$, where $D$ is in $pc$ and $r$ in $UA$.\n",
    "_scipy dont have UA so we convert to pc directly_"
   ]
  },
  {
   "cell_type": "code",
   "execution_count": 3,
   "metadata": {},
   "outputs": [],
   "source": [
    "r = 542.9*(4.8481E-6)*u.pc  #globule radius in pc"
   ]
  },
  {
   "cell_type": "markdown",
   "metadata": {},
   "source": [
    "For an stimate similar to LDN 1616 considering the wind velocity and ionizing flux we have\n",
    "$$n_0=\\frac{-u_0+\\sqrt{u_0^2+4h\\alpha_\\beta F_0}}{2h\\alpha_\\beta}$$"
   ]
  },
  {
   "cell_type": "code",
   "execution_count": null,
   "metadata": {},
   "outputs": [],
   "source": []
  },
  {
   "cell_type": "code",
   "execution_count": null,
   "metadata": {},
   "outputs": [],
   "source": []
  },
  {
   "cell_type": "markdown",
   "metadata": {},
   "source": [
    "For the luminosity we have $$L=\\int_{4\\pi}d\\Omega\\int_V j_\\nu dV$$ and for $H_\\alpha$ we have\n",
    "$$L(H\\alpha)=\\int_{4\\pi}d\\Omega\\int_V j dV=4\\pi\\int_V jdV$$ with $j$ our source therefore\n",
    "$$L(H\\alpha)=4\\pi \\int_V  \\alpha_\\beta n_e n_p(h\\nu)_{H\\alpha}f_{H \\alpha} dV$$ where $f_{H\\alpha}$ is a efficient factor, and because $\\alpha_\\beta,(h\\nu)_{H\\alpha},f_{H\\alpha}$ are constant and assuming that $n_e=n_p$ and using the definition for VEM we have\n",
    "$$L(H\\alpha)=4\\pi\\alpha_\\beta(h\\nu)_{H\\alpha}f_{H\\alpha}VEM$$ on the other hand for the flux we have $L=4\\pi r^2F$ so we have\n",
    "$$4\\pi D^2F(H\\alpha)=4\\pi\\alpha_\\beta(h\\nu)_{H\\alpha}f_{H\\alpha}VEM$$\n",
    "$$\\Rightarrow VEM=\\frac{D^2F(H\\alpha)}{\\alpha_\\beta(h\\nu)_{H\\alpha}f_{H\\alpha}}$$\n",
    "\n",
    "Now for VEM we use the result that we obtain \n",
    "$$VEM=\\pi\\xi_0n_0^2r_0^3$$\n",
    "$$\\Rightarrow n_0=\\sqrt{\\frac{VEM}{\\pi\\xi_0 r_0^3}}$$"
   ]
  },
  {
   "cell_type": "code",
   "execution_count": 20,
   "metadata": {},
   "outputs": [
    {
     "data": {
      "text/latex": [
       "$1.5620665 \\times 10^{58} \\; \\mathrm{\\frac{1}{cm^{3}}}$"
      ],
      "text/plain": [
       "<Quantity 1.56206646e+58 1 / cm3>"
      ]
     },
     "execution_count": 20,
     "metadata": {},
     "output_type": "execute_result"
    }
   ],
   "source": [
    "F_Ha = 3.7E-11*(u.erg/(u.cm**2*u.second))\n",
    "E = (6.61E-27*3.0E10)/(6.563E-5)*(u.erg)\n",
    "alpha_Halpha = 2.20E-13*(u.cm**3/u.second)    # with T=6 000K\n",
    "VEM = ((D.to('cm'))**2*F_Ha)/(alpha_Halpha*E)\n",
    "VEM"
   ]
  },
  {
   "cell_type": "code",
   "execution_count": 23,
   "metadata": {},
   "outputs": [
    {
     "data": {
      "text/latex": [
       "$201241.07 \\; \\mathrm{\\frac{1}{cm^{3}}}$"
      ],
      "text/plain": [
       "<Quantity 201241.07217761 1 / cm3>"
      ]
     },
     "execution_count": 23,
     "metadata": {},
     "output_type": "execute_result"
    }
   ],
   "source": [
    "r = (542.9*u.AU) #globule radius \n",
    "xi = 0.2291820650049779\n",
    "n_0 = ((VEM)/(np.pi*xi*(r.to('cm'))**3))**(1/2)\n",
    "n_0"
   ]
  },
  {
   "cell_type": "code",
   "execution_count": null,
   "metadata": {},
   "outputs": [],
   "source": []
  }
 ],
 "metadata": {
  "kernelspec": {
   "display_name": "Python 3",
   "language": "python",
   "name": "python3"
  },
  "language_info": {
   "codemirror_mode": {
    "name": "ipython",
    "version": 3
   },
   "file_extension": ".py",
   "mimetype": "text/x-python",
   "name": "python",
   "nbconvert_exporter": "python",
   "pygments_lexer": "ipython3",
   "version": "3.8.5"
  }
 },
 "nbformat": 4,
 "nbformat_minor": 4
}
