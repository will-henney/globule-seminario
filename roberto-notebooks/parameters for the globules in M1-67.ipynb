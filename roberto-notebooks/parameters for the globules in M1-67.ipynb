{
 "cells": [
  {
   "cell_type": "markdown",
   "metadata": {},
   "source": [
    "We invetigate about the globules in M1-67 and we find some papers for [M1-67 and WR 124](https://github.com/will-henney/globule-seminario/issues/19#issuecomment-1517063395).\n",
    "In our discussion we take some values for the wind velocity $v_\\inf$,  mass-loss rate $\\dot{M}$, distance $d$, ionizing luminosity $L_*$.\n",
    "We [obtain](https://github.com/will-henney/globule-seminario/issues/20) the angular size of the globules (radius).\n",
    "We found that en this case the electronic density are between $n_e\\approx500 cm^{-3}$ at the exterior and $n_e\\approx 2000cm^{-3}$ and we compare this with an stimate similarly to LDN 1616"
   ]
  },
  {
   "cell_type": "code",
   "execution_count": 1,
   "metadata": {},
   "outputs": [],
   "source": [
    "# for Packages\n",
    "import numpy as np\n",
    "from IPython.display import display, Markdown #this is for the text in our code\n",
    "from astropy.coordinates import SkyCoord #import astropy \n",
    "import astropy.units as u #import the units\n",
    "from astropy.coordinates import SkyCoord #coordinates from astropy\n",
    "from astropy import constants as const #constants"
   ]
  },
  {
   "cell_type": "code",
   "execution_count": 2,
   "metadata": {},
   "outputs": [
    {
     "name": "stderr",
     "output_type": "stream",
     "text": [
      "/home/roberto/anaconda3/lib/python3.8/_collections_abc.py:832: MatplotlibDeprecationWarning: Support for setting the 'text.latex.preamble' or 'pgf.preamble' rcParam to a list of strings is deprecated since 3.3 and will be removed two minor releases later; set it to a single string instead.\n",
      "  self[key] = other[key]\n"
     ]
    }
   ],
   "source": [
    "import matplotlib.pyplot as plt\n",
    "\n",
    "rc_fonts = {\n",
    "        \"text.usetex\": True,\n",
    "        \"font.size\": 30,\n",
    "        'mathtext.default': 'regular',\n",
    "        'axes.titlesize': 33,\n",
    "        \"axes.labelsize\": 33,\n",
    "        \"legend.fontsize\": 30,\n",
    "        \"xtick.labelsize\": 30,\n",
    "        \"ytick.labelsize\": 30,\n",
    "        'figure.titlesize': 33,\n",
    "        'figure.figsize': (13,11),\n",
    "        'text.latex.preamble': [r'\\usepackage{amsmath,amssymb,bm,physics,lmodern}'],\n",
    "        \"font.family\": \"serif\",\n",
    "        \"font.serif\": \"computer modern roman\",\n",
    "        }\n",
    "\n",
    "plt.rcParams.update(rc_fonts)"
   ]
  },
  {
   "cell_type": "code",
   "execution_count": 3,
   "metadata": {},
   "outputs": [],
   "source": [
    "#Parameters\n",
    "#decir de donde se sacaron los parametros\n",
    "D = 5429*u.pc                      # conversation with Jane\n",
    "v_inf = 710*u.km*(1/u.second)      # Hanmman\n",
    "M_loss = (2.0E-5)*u.M_sun*(1/u.yr) #Crowther 1999\n",
    "L = 10**(49.1)*(1/u.second)        # Hanmman"
   ]
  },
  {
   "cell_type": "code",
   "execution_count": 4,
   "metadata": {},
   "outputs": [
    {
     "data": {
      "text/latex": [
       "$1.2589254 \\times 10^{49} \\; \\mathrm{\\frac{1}{s}}$"
      ],
      "text/plain": [
       "<Quantity 1.25892541e+49 1 / s>"
      ]
     },
     "execution_count": 4,
     "metadata": {},
     "output_type": "execute_result"
    }
   ],
   "source": [
    "L"
   ]
  },
  {
   "cell_type": "markdown",
   "metadata": {},
   "source": [
    "For the radius globule we use the definition of $pc$ and we have that $0.1 arcsec \\times D[pc]=r[UA]$, where $D$ is in $pc$ and $r$ in $UA$.\n",
    "_scipy dont have UA so we convert to pc directly_"
   ]
  },
  {
   "cell_type": "code",
   "execution_count": 5,
   "metadata": {},
   "outputs": [],
   "source": [
    "r = 542.9*(4.8481E-6)*u.pc  #globule radius in pc"
   ]
  },
  {
   "cell_type": "markdown",
   "metadata": {},
   "source": [
    "For an stimate similar to LDN 1616 considering the wind velocity and ionizing flux we have\n",
    "$$n_0=\\frac{-u_0+\\sqrt{u_0^2+4h\\alpha_\\beta F_0}}{2h\\alpha_\\beta}$$"
   ]
  },
  {
   "cell_type": "code",
   "execution_count": null,
   "metadata": {},
   "outputs": [],
   "source": []
  },
  {
   "cell_type": "code",
   "execution_count": 6,
   "metadata": {},
   "outputs": [],
   "source": [
    "#checar si no se se va el 4pi con la j_nu para tener consistencia"
   ]
  },
  {
   "cell_type": "markdown",
   "metadata": {},
   "source": [
    "For the luminosity we have $$L=\\int_{4\\pi}d\\Omega\\int_V j_\\nu dV$$ and for $H_\\alpha$ we have\n",
    "$$L(H\\alpha)=\\int_{4\\pi}d\\Omega\\int_V j dV=4\\pi\\int_V jdV$$ with $j$ our source therefore\n",
    "$$L(H\\alpha)= \\int_V  \\alpha_\\beta n_e n_p(h\\nu)_{H\\alpha}f_{H \\alpha} dV$$ where $f_{H\\alpha}$ is a efficient factor, and because $\\alpha_\\beta,(h\\nu)_{H\\alpha},f_{H\\alpha}$ are constant and assuming that $n_e=n_p$ and using the definition for VEM we have\n",
    "$$L(H\\alpha)=4\\pi\\alpha_\\beta(h\\nu)_{H\\alpha}f_{H\\alpha}VEM$$ on the other hand for the flux we have $L=4\\pi r^2F$ so we have\n",
    "$$4\\pi D^2F(H\\alpha)=\\alpha_\\beta(h\\nu)_{H\\alpha}f_{H\\alpha}VEM$$\n",
    "$$\\Rightarrow VEM=\\frac{4\\pi D^2F(H\\alpha)}{\\alpha_\\beta(h\\nu)_{H\\alpha}f_{H\\alpha}}$$\n",
    "\n",
    "Now for VEM we use the result that we obtain \n",
    "$$VEM=\\pi\\xi_0n_0^2r_0^3$$\n",
    "$$\\Rightarrow n_0=\\sqrt{\\frac{VEM}{\\pi\\xi_0 r_0^3}}$$"
   ]
  },
  {
   "cell_type": "code",
   "execution_count": 7,
   "metadata": {},
   "outputs": [
    {
     "data": {
      "text/latex": [
       "$1.5969046 \\times 10^{56} \\; \\mathrm{\\frac{cm^{2}}{cm^{5}}}$"
      ],
      "text/plain": [
       "<Quantity 1.59690459e+56 cm2 / cm5>"
      ]
     },
     "execution_count": 7,
     "metadata": {},
     "output_type": "execute_result"
    }
   ],
   "source": [
    "F_Ha = 3.0E-14*(u.erg/(u.cm**2*u.second))\n",
    "E = (6.61E-27*2.99E10)/(6.563E-5)*(u.erg)\n",
    "alpha_Halpha = 2.20E-13*(u.cm**3/u.second)    # with T=6 000K\n",
    "VEM = (4*np.pi*(D.to('cm'))**2*F_Ha)/(alpha_Halpha*E)\n",
    "VEM"
   ]
  },
  {
   "cell_type": "code",
   "execution_count": 8,
   "metadata": {},
   "outputs": [
    {
     "data": {
      "text/latex": [
       "$20347.28 \\; \\mathrm{\\frac{1}{cm^{1/2}\\,cm^{5/2}}}$"
      ],
      "text/plain": [
       "<Quantity 20347.27960482 1 / (cm(1/2) cm(5/2))>"
      ]
     },
     "execution_count": 8,
     "metadata": {},
     "output_type": "execute_result"
    }
   ],
   "source": [
    "r = (542.9*u.AU) #globule radius \n",
    "xi = 0.2291820650049779\n",
    "n_0 = ((VEM)/(np.pi*xi*(r.to('cm'))**3))**(1/2)\n",
    "n_0"
   ]
  },
  {
   "cell_type": "markdown",
   "metadata": {},
   "source": [
    "We have a density similarly to Grosdidier $\\approx 5739 cm^{-3}$, Now we want the ioniziong flux that we need"
   ]
  },
  {
   "cell_type": "code",
   "execution_count": 9,
   "metadata": {},
   "outputs": [
    {
     "data": {
      "text/latex": [
       "$1.5219936 \\times 10^{12} \\; \\mathrm{\\frac{1}{s\\,cm^{2}}}$"
      ],
      "text/plain": [
       "<Quantity 1.52199358e+12 1 / (cm2 s)>"
      ]
     },
     "execution_count": 9,
     "metadata": {},
     "output_type": "execute_result"
    }
   ],
   "source": [
    "alpha_beta = 2.3E-13 * u.cm**3 / (u.second)\n",
    "h = 0.1*r\n",
    "F0 = n_0**2*alpha_beta*(h.to('cm'))+n_0*v_inf\n",
    "F0"
   ]
  },
  {
   "cell_type": "markdown",
   "metadata": {},
   "source": [
    "Now we calculated the distance to which are localizated"
   ]
  },
  {
   "cell_type": "code",
   "execution_count": 10,
   "metadata": {},
   "outputs": [
    {
     "data": {
      "text/latex": [
       "$8.1131342 \\times 10^{17} \\; \\mathrm{cm}$"
      ],
      "text/plain": [
       "<Quantity 8.11313416e+17 cm>"
      ]
     },
     "execution_count": 10,
     "metadata": {},
     "output_type": "execute_result"
    }
   ],
   "source": [
    "L_lyman = 10**(49.1)*(1/u.second)\n",
    "distance = (L/(4*np.pi*F0))**(1/2)\n",
    "distance"
   ]
  },
  {
   "cell_type": "code",
   "execution_count": 11,
   "metadata": {},
   "outputs": [
    {
     "data": {
      "text/latex": [
       "$0.26292877 \\; \\mathrm{pc}$"
      ],
      "text/plain": [
       "<Quantity 0.26292877 pc>"
      ]
     },
     "execution_count": 11,
     "metadata": {},
     "output_type": "execute_result"
    }
   ],
   "source": [
    "distance.to('pc')"
   ]
  },
  {
   "cell_type": "markdown",
   "metadata": {},
   "source": [
    "$0.5 pc$ is the distance, and we considerer that globules are between 10\" and 30\"."
   ]
  },
  {
   "cell_type": "code",
   "execution_count": 12,
   "metadata": {},
   "outputs": [
    {
     "data": {
      "text/latex": [
       "$0.26320535 \\; \\mathrm{pc}$"
      ],
      "text/plain": [
       "<Quantity 0.26320535 pc>"
      ]
     },
     "execution_count": 12,
     "metadata": {},
     "output_type": "execute_result"
    }
   ],
   "source": [
    "distance1 = 10*5429*u.AU\n",
    "distance1.to('pc')"
   ]
  },
  {
   "cell_type": "code",
   "execution_count": 13,
   "metadata": {},
   "outputs": [
    {
     "data": {
      "text/latex": [
       "$0.78961604 \\; \\mathrm{pc}$"
      ],
      "text/plain": [
       "<Quantity 0.78961604 pc>"
      ]
     },
     "execution_count": 13,
     "metadata": {},
     "output_type": "execute_result"
    }
   ],
   "source": [
    "distance2 = 30*5429*u.AU\n",
    "distance2.to('pc')"
   ]
  },
  {
   "cell_type": "markdown",
   "metadata": {},
   "source": [
    "The distance that we obtain is in the range of 10\" and 30\", $0.26 pc$ and $0.78pc$."
   ]
  },
  {
   "cell_type": "markdown",
   "metadata": {},
   "source": [
    "Now we calculated the pressure of the wind and we have"
   ]
  },
  {
   "cell_type": "code",
   "execution_count": 14,
   "metadata": {},
   "outputs": [
    {
     "data": {
      "text/latex": [
       "$1.7131207 \\times 10^{-39} \\; \\mathrm{\\frac{km\\,M_{\\odot}}{s\\,yr\\,cm^{2}}}$"
      ],
      "text/plain": [
       "<Quantity 1.71312074e-39 km solMass / (cm2 s yr)>"
      ]
     },
     "execution_count": 14,
     "metadata": {},
     "output_type": "execute_result"
    }
   ],
   "source": [
    "# for distance 1\n",
    "P = (M_loss*v_inf)/(4*np.pi*(distance1.to('cm'))**2)\n",
    "P\n",
    "#(P).cgs"
   ]
  },
  {
   "cell_type": "code",
   "execution_count": 15,
   "metadata": {},
   "outputs": [
    {
     "data": {
      "text/latex": [
       "$1.0794186 \\times 10^{-8} \\; \\mathrm{\\frac{cm\\,g}{cm^{2}\\,s^{2}}}$"
      ],
      "text/plain": [
       "<Quantity 1.07941865e-08 cm g / (cm2 s2)>"
      ]
     },
     "execution_count": 15,
     "metadata": {},
     "output_type": "execute_result"
    }
   ],
   "source": [
    "P = ((M_loss).cgs*(v_inf).cgs)/(4*np.pi*(distance1.to('cm'))**2)\n",
    "P"
   ]
  },
  {
   "cell_type": "markdown",
   "metadata": {},
   "source": [
    "For the velocity sound we calculated with a Temperature at 6000 K"
   ]
  },
  {
   "cell_type": "code",
   "execution_count": 16,
   "metadata": {},
   "outputs": [
    {
     "data": {
      "text/latex": [
       "$9.0853727 \\; \\mathrm{\\frac{km}{s}}$"
      ],
      "text/plain": [
       "<Quantity 9.08537273 km / s>"
      ]
     },
     "execution_count": 16,
     "metadata": {},
     "output_type": "execute_result"
    }
   ],
   "source": [
    "T = 6000*u.K\n",
    "m = (0.6*u.M_p).to('g')\n",
    "c_s=((const.k_B).to('erg/K')*T/m)**(1/2)\n",
    "c_s.to('km/second')"
   ]
  },
  {
   "cell_type": "markdown",
   "metadata": {},
   "source": [
    "Now we calculated the pressure of the globule"
   ]
  },
  {
   "cell_type": "code",
   "execution_count": 17,
   "metadata": {},
   "outputs": [
    {
     "data": {
      "text/latex": [
       "$3.3710941 \\times 10^{-8} \\; \\mathrm{\\frac{erg}{cm^{1/2}\\,cm^{5/2}}}$"
      ],
      "text/plain": [
       "<Quantity 3.37109415e-08 erg / (cm(1/2) cm(5/2))>"
      ]
     },
     "execution_count": 17,
     "metadata": {},
     "output_type": "execute_result"
    }
   ],
   "source": [
    "P_g = 2*n_0*m*c_s**2\n",
    "P_g#.to('P/s')"
   ]
  },
  {
   "cell_type": "markdown",
   "metadata": {},
   "source": [
    "Finally we obtain a ratio of"
   ]
  },
  {
   "cell_type": "code",
   "execution_count": 18,
   "metadata": {},
   "outputs": [
    {
     "data": {
      "text/latex": [
       "$0.32019831 \\; \\mathrm{}$"
      ],
      "text/plain": [
       "<Quantity 0.32019831>"
      ]
     },
     "execution_count": 18,
     "metadata": {},
     "output_type": "execute_result"
    }
   ],
   "source": [
    "(P).cgs/(P_g).cgs"
   ]
  },
  {
   "cell_type": "code",
   "execution_count": null,
   "metadata": {},
   "outputs": [],
   "source": []
  },
  {
   "cell_type": "code",
   "execution_count": 19,
   "metadata": {},
   "outputs": [
    {
     "data": {
      "text/latex": [
       "$1.1993541 \\times 10^{-9} \\; \\mathrm{\\frac{P}{s}}$"
      ],
      "text/plain": [
       "<Quantity 1.19935405e-09 P / s>"
      ]
     },
     "execution_count": 19,
     "metadata": {},
     "output_type": "execute_result"
    }
   ],
   "source": [
    "# for distance 2\n",
    "P2 = (M_loss*v_inf)/(4*np.pi*(distance2.to('cm'))**2)\n",
    "(P2).cgs"
   ]
  },
  {
   "cell_type": "code",
   "execution_count": 20,
   "metadata": {},
   "outputs": [
    {
     "data": {
      "text/latex": [
       "$0.03557759 \\; \\mathrm{}$"
      ],
      "text/plain": [
       "<Quantity 0.03557759>"
      ]
     },
     "execution_count": 20,
     "metadata": {},
     "output_type": "execute_result"
    }
   ],
   "source": [
    "(P2).cgs/(P_g).cgs"
   ]
  },
  {
   "cell_type": "code",
   "execution_count": 21,
   "metadata": {
    "scrolled": false
   },
   "outputs": [
    {
     "name": "stderr",
     "output_type": "stream",
     "text": [
      "findfont: Font family ['serif'] not found. Falling back to DejaVu Sans.\n"
     ]
    },
    {
     "data": {
      "image/png": "[encoded data removed]",
      "text/plain": [
       "<Figure size 936x792 with 1 Axes>"
      ]
     },
     "metadata": {
      "needs_background": "light"
     },
     "output_type": "display_data"
    }
   ],
   "source": [
    "rang = np.arange(10,30,0.1)\n",
    "distances = rang*5429*u.AU\n",
    "P_r = (M_loss*v_inf)/(4*np.pi*(distances.to('cm'))**2)\n",
    "Pr_P = (P_r).cgs/(P_g).cgs\n",
    "\n",
    "plt.plot(rang,Pr_P,label=r'$P_{RAM}/P_g$')\n",
    "plt.xlabel('arcsec')\n",
    "plt.grid()\n",
    "plt.legend()\n",
    "plt.show()"
   ]
  },
  {
   "cell_type": "code",
   "execution_count": null,
   "metadata": {},
   "outputs": [],
   "source": []
  },
  {
   "cell_type": "code",
   "execution_count": null,
   "metadata": {},
   "outputs": [],
   "source": []
  },
  {
   "cell_type": "code",
   "execution_count": 22,
   "metadata": {},
   "outputs": [],
   "source": [
    "from astropy.table import QTable\n",
    "\n",
    "tab = QTable.read(\"/home/roberto/globule-seminario/m1-67/m1-67-globule-parameters.ecsv\")\n",
    "df = tab.to_pandas()"
   ]
  },
  {
   "cell_type": "code",
   "execution_count": 23,
   "metadata": {},
   "outputs": [
    {
     "data": {
      "text/html": [
       "<div>\n",
       "<style scoped>\n",
       "    .dataframe tbody tr th:only-of-type {\n",
       "        vertical-align: middle;\n",
       "    }\n",
       "\n",
       "    .dataframe tbody tr th {\n",
       "        vertical-align: top;\n",
       "    }\n",
       "\n",
       "    .dataframe thead th {\n",
       "        text-align: right;\n",
       "    }\n",
       "</style>\n",
       "<table border=\"1\" class=\"dataframe\">\n",
       "  <thead>\n",
       "    <tr style=\"text-align: right;\">\n",
       "      <th></th>\n",
       "      <th>PA</th>\n",
       "      <th>Sep</th>\n",
       "      <th>Bcore</th>\n",
       "      <th>Bshell</th>\n",
       "      <th>Bbg</th>\n",
       "      <th>Rcore</th>\n",
       "      <th>Rshell</th>\n",
       "      <th>Hshell</th>\n",
       "      <th>Group</th>\n",
       "      <th>Lat</th>\n",
       "    </tr>\n",
       "  </thead>\n",
       "  <tbody>\n",
       "    <tr>\n",
       "      <th>0</th>\n",
       "      <td>296.281536</td>\n",
       "      <td>2.984163</td>\n",
       "      <td>0.315384</td>\n",
       "      <td>0.254769</td>\n",
       "      <td>0.494154</td>\n",
       "      <td>0.054657</td>\n",
       "      <td>NaN</td>\n",
       "      <td>0.140865</td>\n",
       "      <td>null</td>\n",
       "      <td>71.281536</td>\n",
       "    </tr>\n",
       "    <tr>\n",
       "      <th>1</th>\n",
       "      <td>66.852776</td>\n",
       "      <td>3.155305</td>\n",
       "      <td>NaN</td>\n",
       "      <td>NaN</td>\n",
       "      <td>0.728026</td>\n",
       "      <td>NaN</td>\n",
       "      <td>1.097835</td>\n",
       "      <td>NaN</td>\n",
       "      <td>\"NE-04\"</td>\n",
       "      <td>21.852776</td>\n",
       "    </tr>\n",
       "    <tr>\n",
       "      <th>2</th>\n",
       "      <td>30.919261</td>\n",
       "      <td>3.310825</td>\n",
       "      <td>1.171778</td>\n",
       "      <td>0.408419</td>\n",
       "      <td>0.913299</td>\n",
       "      <td>0.138252</td>\n",
       "      <td>0.453276</td>\n",
       "      <td>0.155584</td>\n",
       "      <td>\"NE-04\"</td>\n",
       "      <td>14.080739</td>\n",
       "    </tr>\n",
       "    <tr>\n",
       "      <th>3</th>\n",
       "      <td>71.974379</td>\n",
       "      <td>3.523556</td>\n",
       "      <td>0.538592</td>\n",
       "      <td>NaN</td>\n",
       "      <td>0.542482</td>\n",
       "      <td>0.102971</td>\n",
       "      <td>NaN</td>\n",
       "      <td>NaN</td>\n",
       "      <td>\"NE-04\"</td>\n",
       "      <td>26.974379</td>\n",
       "    </tr>\n",
       "    <tr>\n",
       "      <th>4</th>\n",
       "      <td>16.829908</td>\n",
       "      <td>3.803228</td>\n",
       "      <td>0.644903</td>\n",
       "      <td>NaN</td>\n",
       "      <td>0.819601</td>\n",
       "      <td>0.090352</td>\n",
       "      <td>NaN</td>\n",
       "      <td>NaN</td>\n",
       "      <td>\"NE-04\"</td>\n",
       "      <td>28.170092</td>\n",
       "    </tr>\n",
       "    <tr>\n",
       "      <th>...</th>\n",
       "      <td>...</td>\n",
       "      <td>...</td>\n",
       "      <td>...</td>\n",
       "      <td>...</td>\n",
       "      <td>...</td>\n",
       "      <td>...</td>\n",
       "      <td>...</td>\n",
       "      <td>...</td>\n",
       "      <td>...</td>\n",
       "      <td>...</td>\n",
       "    </tr>\n",
       "    <tr>\n",
       "      <th>164</th>\n",
       "      <td>156.449653</td>\n",
       "      <td>32.850701</td>\n",
       "      <td>0.276684</td>\n",
       "      <td>0.118413</td>\n",
       "      <td>0.094555</td>\n",
       "      <td>0.167154</td>\n",
       "      <td>0.605998</td>\n",
       "      <td>0.416320</td>\n",
       "      <td>\"S-33\"</td>\n",
       "      <td>68.550347</td>\n",
       "    </tr>\n",
       "    <tr>\n",
       "      <th>165</th>\n",
       "      <td>157.043369</td>\n",
       "      <td>33.096804</td>\n",
       "      <td>0.123377</td>\n",
       "      <td>0.174499</td>\n",
       "      <td>0.135181</td>\n",
       "      <td>0.102036</td>\n",
       "      <td>0.101609</td>\n",
       "      <td>0.557308</td>\n",
       "      <td>\"S-33\"</td>\n",
       "      <td>67.956631</td>\n",
       "    </tr>\n",
       "    <tr>\n",
       "      <th>166</th>\n",
       "      <td>155.777517</td>\n",
       "      <td>33.608446</td>\n",
       "      <td>0.283296</td>\n",
       "      <td>0.079442</td>\n",
       "      <td>0.192088</td>\n",
       "      <td>0.160548</td>\n",
       "      <td>0.758748</td>\n",
       "      <td>0.221632</td>\n",
       "      <td>\"S-33\"</td>\n",
       "      <td>69.222483</td>\n",
       "    </tr>\n",
       "    <tr>\n",
       "      <th>167</th>\n",
       "      <td>163.513534</td>\n",
       "      <td>33.665709</td>\n",
       "      <td>0.144208</td>\n",
       "      <td>0.198356</td>\n",
       "      <td>0.080671</td>\n",
       "      <td>0.077778</td>\n",
       "      <td>0.302595</td>\n",
       "      <td>0.388896</td>\n",
       "      <td>\"S-33\"</td>\n",
       "      <td>61.486466</td>\n",
       "    </tr>\n",
       "    <tr>\n",
       "      <th>168</th>\n",
       "      <td>158.038097</td>\n",
       "      <td>35.096394</td>\n",
       "      <td>0.175587</td>\n",
       "      <td>NaN</td>\n",
       "      <td>0.323997</td>\n",
       "      <td>0.143006</td>\n",
       "      <td>NaN</td>\n",
       "      <td>NaN</td>\n",
       "      <td>\"S-33\"</td>\n",
       "      <td>66.961903</td>\n",
       "    </tr>\n",
       "  </tbody>\n",
       "</table>\n",
       "<p>169 rows × 10 columns</p>\n",
       "</div>"
      ],
      "text/plain": [
       "             PA        Sep     Bcore    Bshell       Bbg     Rcore    Rshell  \\\n",
       "0    296.281536   2.984163  0.315384  0.254769  0.494154  0.054657       NaN   \n",
       "1     66.852776   3.155305       NaN       NaN  0.728026       NaN  1.097835   \n",
       "2     30.919261   3.310825  1.171778  0.408419  0.913299  0.138252  0.453276   \n",
       "3     71.974379   3.523556  0.538592       NaN  0.542482  0.102971       NaN   \n",
       "4     16.829908   3.803228  0.644903       NaN  0.819601  0.090352       NaN   \n",
       "..          ...        ...       ...       ...       ...       ...       ...   \n",
       "164  156.449653  32.850701  0.276684  0.118413  0.094555  0.167154  0.605998   \n",
       "165  157.043369  33.096804  0.123377  0.174499  0.135181  0.102036  0.101609   \n",
       "166  155.777517  33.608446  0.283296  0.079442  0.192088  0.160548  0.758748   \n",
       "167  163.513534  33.665709  0.144208  0.198356  0.080671  0.077778  0.302595   \n",
       "168  158.038097  35.096394  0.175587       NaN  0.323997  0.143006       NaN   \n",
       "\n",
       "       Hshell    Group        Lat  \n",
       "0    0.140865     null  71.281536  \n",
       "1         NaN  \"NE-04\"  21.852776  \n",
       "2    0.155584  \"NE-04\"  14.080739  \n",
       "3         NaN  \"NE-04\"  26.974379  \n",
       "4         NaN  \"NE-04\"  28.170092  \n",
       "..        ...      ...        ...  \n",
       "164  0.416320   \"S-33\"  68.550347  \n",
       "165  0.557308   \"S-33\"  67.956631  \n",
       "166  0.221632   \"S-33\"  69.222483  \n",
       "167  0.388896   \"S-33\"  61.486466  \n",
       "168       NaN   \"S-33\"  66.961903  \n",
       "\n",
       "[169 rows x 10 columns]"
      ]
     },
     "execution_count": 23,
     "metadata": {},
     "output_type": "execute_result"
    }
   ],
   "source": [
    "df"
   ]
  },
  {
   "cell_type": "code",
   "execution_count": 24,
   "metadata": {},
   "outputs": [],
   "source": [
    "df1=df"
   ]
  },
  {
   "cell_type": "code",
   "execution_count": 25,
   "metadata": {},
   "outputs": [
    {
     "data": {
      "text/html": [
       "<div>\n",
       "<style scoped>\n",
       "    .dataframe tbody tr th:only-of-type {\n",
       "        vertical-align: middle;\n",
       "    }\n",
       "\n",
       "    .dataframe tbody tr th {\n",
       "        vertical-align: top;\n",
       "    }\n",
       "\n",
       "    .dataframe thead th {\n",
       "        text-align: right;\n",
       "    }\n",
       "</style>\n",
       "<table border=\"1\" class=\"dataframe\">\n",
       "  <thead>\n",
       "    <tr style=\"text-align: right;\">\n",
       "      <th></th>\n",
       "      <th>PA</th>\n",
       "      <th>Sep</th>\n",
       "      <th>Bcore</th>\n",
       "      <th>Bshell</th>\n",
       "      <th>Bbg</th>\n",
       "      <th>Rcore</th>\n",
       "      <th>Rshell</th>\n",
       "      <th>Hshell</th>\n",
       "      <th>Group</th>\n",
       "      <th>Lat</th>\n",
       "    </tr>\n",
       "  </thead>\n",
       "  <tbody>\n",
       "    <tr>\n",
       "      <th>0</th>\n",
       "      <td>296.281536</td>\n",
       "      <td>2.984163</td>\n",
       "      <td>0.315384</td>\n",
       "      <td>0.254769</td>\n",
       "      <td>0.494154</td>\n",
       "      <td>0.054657</td>\n",
       "      <td>0.000000</td>\n",
       "      <td>0.140865</td>\n",
       "      <td>null</td>\n",
       "      <td>71.281536</td>\n",
       "    </tr>\n",
       "    <tr>\n",
       "      <th>1</th>\n",
       "      <td>66.852776</td>\n",
       "      <td>3.155305</td>\n",
       "      <td>0.000000</td>\n",
       "      <td>0.000000</td>\n",
       "      <td>0.728026</td>\n",
       "      <td>0.000000</td>\n",
       "      <td>1.097835</td>\n",
       "      <td>0.000000</td>\n",
       "      <td>\"NE-04\"</td>\n",
       "      <td>21.852776</td>\n",
       "    </tr>\n",
       "    <tr>\n",
       "      <th>2</th>\n",
       "      <td>30.919261</td>\n",
       "      <td>3.310825</td>\n",
       "      <td>1.171778</td>\n",
       "      <td>0.408419</td>\n",
       "      <td>0.913299</td>\n",
       "      <td>0.138252</td>\n",
       "      <td>0.453276</td>\n",
       "      <td>0.155584</td>\n",
       "      <td>\"NE-04\"</td>\n",
       "      <td>14.080739</td>\n",
       "    </tr>\n",
       "    <tr>\n",
       "      <th>3</th>\n",
       "      <td>71.974379</td>\n",
       "      <td>3.523556</td>\n",
       "      <td>0.538592</td>\n",
       "      <td>0.000000</td>\n",
       "      <td>0.542482</td>\n",
       "      <td>0.102971</td>\n",
       "      <td>0.000000</td>\n",
       "      <td>0.000000</td>\n",
       "      <td>\"NE-04\"</td>\n",
       "      <td>26.974379</td>\n",
       "    </tr>\n",
       "    <tr>\n",
       "      <th>4</th>\n",
       "      <td>16.829908</td>\n",
       "      <td>3.803228</td>\n",
       "      <td>0.644903</td>\n",
       "      <td>0.000000</td>\n",
       "      <td>0.819601</td>\n",
       "      <td>0.090352</td>\n",
       "      <td>0.000000</td>\n",
       "      <td>0.000000</td>\n",
       "      <td>\"NE-04\"</td>\n",
       "      <td>28.170092</td>\n",
       "    </tr>\n",
       "    <tr>\n",
       "      <th>...</th>\n",
       "      <td>...</td>\n",
       "      <td>...</td>\n",
       "      <td>...</td>\n",
       "      <td>...</td>\n",
       "      <td>...</td>\n",
       "      <td>...</td>\n",
       "      <td>...</td>\n",
       "      <td>...</td>\n",
       "      <td>...</td>\n",
       "      <td>...</td>\n",
       "    </tr>\n",
       "    <tr>\n",
       "      <th>164</th>\n",
       "      <td>156.449653</td>\n",
       "      <td>32.850701</td>\n",
       "      <td>0.276684</td>\n",
       "      <td>0.118413</td>\n",
       "      <td>0.094555</td>\n",
       "      <td>0.167154</td>\n",
       "      <td>0.605998</td>\n",
       "      <td>0.416320</td>\n",
       "      <td>\"S-33\"</td>\n",
       "      <td>68.550347</td>\n",
       "    </tr>\n",
       "    <tr>\n",
       "      <th>165</th>\n",
       "      <td>157.043369</td>\n",
       "      <td>33.096804</td>\n",
       "      <td>0.123377</td>\n",
       "      <td>0.174499</td>\n",
       "      <td>0.135181</td>\n",
       "      <td>0.102036</td>\n",
       "      <td>0.101609</td>\n",
       "      <td>0.557308</td>\n",
       "      <td>\"S-33\"</td>\n",
       "      <td>67.956631</td>\n",
       "    </tr>\n",
       "    <tr>\n",
       "      <th>166</th>\n",
       "      <td>155.777517</td>\n",
       "      <td>33.608446</td>\n",
       "      <td>0.283296</td>\n",
       "      <td>0.079442</td>\n",
       "      <td>0.192088</td>\n",
       "      <td>0.160548</td>\n",
       "      <td>0.758748</td>\n",
       "      <td>0.221632</td>\n",
       "      <td>\"S-33\"</td>\n",
       "      <td>69.222483</td>\n",
       "    </tr>\n",
       "    <tr>\n",
       "      <th>167</th>\n",
       "      <td>163.513534</td>\n",
       "      <td>33.665709</td>\n",
       "      <td>0.144208</td>\n",
       "      <td>0.198356</td>\n",
       "      <td>0.080671</td>\n",
       "      <td>0.077778</td>\n",
       "      <td>0.302595</td>\n",
       "      <td>0.388896</td>\n",
       "      <td>\"S-33\"</td>\n",
       "      <td>61.486466</td>\n",
       "    </tr>\n",
       "    <tr>\n",
       "      <th>168</th>\n",
       "      <td>158.038097</td>\n",
       "      <td>35.096394</td>\n",
       "      <td>0.175587</td>\n",
       "      <td>0.000000</td>\n",
       "      <td>0.323997</td>\n",
       "      <td>0.143006</td>\n",
       "      <td>0.000000</td>\n",
       "      <td>0.000000</td>\n",
       "      <td>\"S-33\"</td>\n",
       "      <td>66.961903</td>\n",
       "    </tr>\n",
       "  </tbody>\n",
       "</table>\n",
       "<p>169 rows × 10 columns</p>\n",
       "</div>"
      ],
      "text/plain": [
       "             PA        Sep     Bcore    Bshell       Bbg     Rcore    Rshell  \\\n",
       "0    296.281536   2.984163  0.315384  0.254769  0.494154  0.054657  0.000000   \n",
       "1     66.852776   3.155305  0.000000  0.000000  0.728026  0.000000  1.097835   \n",
       "2     30.919261   3.310825  1.171778  0.408419  0.913299  0.138252  0.453276   \n",
       "3     71.974379   3.523556  0.538592  0.000000  0.542482  0.102971  0.000000   \n",
       "4     16.829908   3.803228  0.644903  0.000000  0.819601  0.090352  0.000000   \n",
       "..          ...        ...       ...       ...       ...       ...       ...   \n",
       "164  156.449653  32.850701  0.276684  0.118413  0.094555  0.167154  0.605998   \n",
       "165  157.043369  33.096804  0.123377  0.174499  0.135181  0.102036  0.101609   \n",
       "166  155.777517  33.608446  0.283296  0.079442  0.192088  0.160548  0.758748   \n",
       "167  163.513534  33.665709  0.144208  0.198356  0.080671  0.077778  0.302595   \n",
       "168  158.038097  35.096394  0.175587  0.000000  0.323997  0.143006  0.000000   \n",
       "\n",
       "       Hshell    Group        Lat  \n",
       "0    0.140865     null  71.281536  \n",
       "1    0.000000  \"NE-04\"  21.852776  \n",
       "2    0.155584  \"NE-04\"  14.080739  \n",
       "3    0.000000  \"NE-04\"  26.974379  \n",
       "4    0.000000  \"NE-04\"  28.170092  \n",
       "..        ...      ...        ...  \n",
       "164  0.416320   \"S-33\"  68.550347  \n",
       "165  0.557308   \"S-33\"  67.956631  \n",
       "166  0.221632   \"S-33\"  69.222483  \n",
       "167  0.388896   \"S-33\"  61.486466  \n",
       "168  0.000000   \"S-33\"  66.961903  \n",
       "\n",
       "[169 rows x 10 columns]"
      ]
     },
     "execution_count": 25,
     "metadata": {},
     "output_type": "execute_result"
    }
   ],
   "source": [
    "df1.fillna(0, inplace=True)\n",
    "df"
   ]
  },
  {
   "cell_type": "markdown",
   "metadata": {},
   "source": [
    "To calculate $\\ell$ we have \n",
    "$$\\ell = 2(rh)^{1/2}$$\n",
    "where $r$ is $Rshell$ and $h$ is $Hshell$, in the data they are in arcsec, so we multiply by $D$, so $[\\ell]=AU$ and finally we convert to $pc$"
   ]
  },
  {
   "cell_type": "code",
   "execution_count": 38,
   "metadata": {
    "scrolled": true
   },
   "outputs": [
    {
     "data": {
      "text/plain": [
       "0      0.000000e+00\n",
       "1      0.000000e+00\n",
       "2      4.313648e+16\n",
       "3      0.000000e+00\n",
       "4      0.000000e+00\n",
       "           ...     \n",
       "164    8.158884e+16\n",
       "165    3.865403e+16\n",
       "166    6.661112e+16\n",
       "167    5.572230e+16\n",
       "168    0.000000e+00\n",
       "Length: 169, dtype: float64"
      ]
     },
     "execution_count": 38,
     "metadata": {},
     "output_type": "execute_result"
    }
   ],
   "source": [
    "l = 2*(df1['Rshell']*df1['Hshell'])**(1/2)*D*1.496e+13 #factor to converto to cm\n",
    "l #in cm"
   ]
  },
  {
   "cell_type": "markdown",
   "metadata": {},
   "source": [
    "For $EM$ we have\n",
    "$$\\frac{B}{cgs}=(h\\nu)_{H\\alpha}0.0137$$\n",
    "and for the intensity\n",
    "$$\\frac{I}{cgs}=\\frac{1.17\\times10^{-13}3.086\\times10^{18}}{4\\pi}EM$$\n",
    "$$\\Rightarrow EM=\\Big(\\frac{I}{B}\\Big)\\frac{4\\pi 0.0137(h\\nu)_{\\alpha}}{3.61\\times10^5}$$"
   ]
  },
  {
   "cell_type": "code",
   "execution_count": 39,
   "metadata": {},
   "outputs": [
    {
     "data": {
      "text/plain": [
       "0      40345.854671\n",
       "1          0.000000\n",
       "2      64678.338947\n",
       "3          0.000000\n",
       "4          0.000000\n",
       "           ...     \n",
       "164    18752.235109\n",
       "165    27634.196047\n",
       "166    12580.705268\n",
       "167    31412.204330\n",
       "168        0.000000\n",
       "Name: Bshell, Length: 169, dtype: float64"
      ]
     },
     "execution_count": 39,
     "metadata": {},
     "output_type": "execute_result"
    }
   ],
   "source": [
    "EM = (df1['Bshell'])*(0.0137*4*np.pi)/(3.61E5*E)\n",
    "EM"
   ]
  },
  {
   "cell_type": "markdown",
   "metadata": {},
   "source": [
    "Now for the density we have\n",
    "$$EM=\\ell n^2\\Rightarrow n=\\sqrt{\\frac{EM}{\\ell}}$$"
   ]
  },
  {
   "cell_type": "code",
   "execution_count": 40,
   "metadata": {},
   "outputs": [
    {
     "data": {
      "text/plain": [
       "0               inf\n",
       "1               NaN\n",
       "2      1.224495e-06\n",
       "3               NaN\n",
       "4               NaN\n",
       "           ...     \n",
       "164    4.794145e-07\n",
       "165    8.455242e-07\n",
       "166    4.345894e-07\n",
       "167    7.508180e-07\n",
       "168             NaN\n",
       "Length: 169, dtype: float64"
      ]
     },
     "execution_count": 40,
     "metadata": {},
     "output_type": "execute_result"
    }
   ],
   "source": [
    "n_shell = (EM/(l))**(1/2)\n",
    "n_shell"
   ]
  },
  {
   "cell_type": "code",
   "execution_count": 41,
   "metadata": {},
   "outputs": [
    {
     "data": {
      "text/plain": [
       "0               inf\n",
       "1               NaN\n",
       "2      2.028718e-18\n",
       "3               NaN\n",
       "4               NaN\n",
       "           ...     \n",
       "164    7.942837e-19\n",
       "165    1.400847e-18\n",
       "166    7.200185e-19\n",
       "167    1.243939e-18\n",
       "168             NaN\n",
       "Length: 169, dtype: float64"
      ]
     },
     "execution_count": 41,
     "metadata": {},
     "output_type": "execute_result"
    }
   ],
   "source": [
    "P_shell = 2*n_shell*m*c_s**2\n",
    "P_shell"
   ]
  },
  {
   "cell_type": "code",
   "execution_count": 42,
   "metadata": {},
   "outputs": [
    {
     "data": {
      "text/plain": [
       "0      1.212084e-07\n",
       "1      1.084163e-07\n",
       "2      9.847026e-08\n",
       "3      8.693909e-08\n",
       "4      7.462303e-08\n",
       "           ...     \n",
       "164    1.000203e-09\n",
       "165    9.853838e-10\n",
       "166    9.556100e-10\n",
       "167    9.523619e-10\n",
       "168    8.762995e-10\n",
       "Name: Sep, Length: 169, dtype: float64"
      ]
     },
     "execution_count": 42,
     "metadata": {},
     "output_type": "execute_result"
    }
   ],
   "source": [
    "radius = df1['Sep']*D*1.496e+13\n",
    "P_RAM = ((M_loss).cgs*(v_inf).cgs)/(4*np.pi*radius**2)\n",
    "P_RAM"
   ]
  },
  {
   "cell_type": "code",
   "execution_count": 43,
   "metadata": {},
   "outputs": [
    {
     "data": {
      "image/png": "[encoded data removed]",
      "text/plain": [
       "<Figure size 936x792 with 1 Axes>"
      ]
     },
     "metadata": {
      "needs_background": "light"
     },
     "output_type": "display_data"
    }
   ],
   "source": [
    "plt.plot(df1['Sep'],P_shell,'o',label = r'$P_{shell}$')\n",
    "#plt.plot(df1['Sep'],P_RAM,label=r'$P_{RAM}$')\n",
    "plt.legend()\n",
    "#plt.yscale('log')\n",
    "#plt.xlim(20,30)\n",
    "plt.grid()\n",
    "plt.show()"
   ]
  },
  {
   "cell_type": "code",
   "execution_count": 32,
   "metadata": {},
   "outputs": [
    {
     "data": {
      "text/plain": [
       "33.79185046844191"
      ]
     },
     "execution_count": 32,
     "metadata": {},
     "output_type": "execute_result"
    }
   ],
   "source": [
    "sum(df1['Bshell'])"
   ]
  },
  {
   "cell_type": "code",
   "execution_count": null,
   "metadata": {},
   "outputs": [],
   "source": []
  }
 ],
 "metadata": {
  "kernelspec": {
   "display_name": "Python 3",
   "language": "python",
   "name": "python3"
  },
  "language_info": {
   "codemirror_mode": {
    "name": "ipython",
    "version": 3
   },
   "file_extension": ".py",
   "mimetype": "text/x-python",
   "name": "python",
   "nbconvert_exporter": "python",
   "pygments_lexer": "ipython3",
   "version": "3.8.5"
  }
 },
 "nbformat": 4,
 "nbformat_minor": 4
}
