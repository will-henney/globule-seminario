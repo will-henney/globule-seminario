{
 "cells": [
  {
   "cell_type": "markdown",
   "metadata": {},
   "source": [
    "We invetigate about the globules in M1-67 and we find some papers for [M1-67 and WR 124](https://github.com/will-henney/globule-seminario/issues/19#issuecomment-1517063395).\n",
    "In our discussion we take some values for the wind velocity $v_\\inf$,  mass-loss rate $\\dot{M}$, distance $d$, ionizing luminosity $L_*$.\n",
    "We [obtain](https://github.com/will-henney/globule-seminario/issues/20) the angular size of the globules (radius).\n",
    "We found that en this case the electronic density are between $n_e\\approx500 cm^{-3}$ at the exterior and $n_e\\approx 2000cm^{-3}$ and we compare this with an stimate similarly to LDN 1616"
   ]
  },
  {
   "cell_type": "code",
   "execution_count": 1,
   "metadata": {},
   "outputs": [],
   "source": [
    "# for Packages\n",
    "import numpy as np\n",
    "from IPython.display import display, Markdown #this is for the text in our code\n",
    "from astropy.coordinates import SkyCoord #import astropy \n",
    "import astropy.units as u #import the units\n",
    "from astropy.coordinates import SkyCoord #coordinates from astropy\n",
    "from astropy import constants as const #constants"
   ]
  },
  {
   "cell_type": "code",
   "execution_count": 2,
   "metadata": {},
   "outputs": [
    {
     "name": "stderr",
     "output_type": "stream",
     "text": [
      "/home/roberto/anaconda3/lib/python3.8/_collections_abc.py:832: MatplotlibDeprecationWarning: Support for setting the 'text.latex.preamble' or 'pgf.preamble' rcParam to a list of strings is deprecated since 3.3 and will be removed two minor releases later; set it to a single string instead.\n",
      "  self[key] = other[key]\n"
     ]
    }
   ],
   "source": [
    "import matplotlib.pyplot as plt\n",
    "\n",
    "rc_fonts = {\n",
    "        \"text.usetex\": True,\n",
    "        \"font.size\": 30,\n",
    "        'mathtext.default': 'regular',\n",
    "        'axes.titlesize': 33,\n",
    "        \"axes.labelsize\": 33,\n",
    "        \"legend.fontsize\": 30,\n",
    "        \"xtick.labelsize\": 30,\n",
    "        \"ytick.labelsize\": 30,\n",
    "        'figure.titlesize': 33,\n",
    "        'figure.figsize': (13,11),\n",
    "        'text.latex.preamble': [r'\\usepackage{amsmath,amssymb,bm,physics,lmodern}'],\n",
    "        \"font.family\": \"serif\",\n",
    "        \"font.serif\": \"computer modern roman\",\n",
    "        }\n",
    "\n",
    "plt.rcParams.update(rc_fonts)"
   ]
  },
  {
   "cell_type": "code",
   "execution_count": 3,
   "metadata": {},
   "outputs": [],
   "source": [
    "#Parameters\n",
    "D = 5429*u.pc\n",
    "v_inf = 710*u.km*(1/u.second)\n",
    "M_loss = (2.0E-5)*u.M_sun*(1/u.yr)\n",
    "L = 10**(49.1)*(1/u.second)"
   ]
  },
  {
   "cell_type": "code",
   "execution_count": 4,
   "metadata": {},
   "outputs": [
    {
     "data": {
      "text/latex": [
       "$1.2589254 \\times 10^{49} \\; \\mathrm{\\frac{1}{s}}$"
      ],
      "text/plain": [
       "<Quantity 1.25892541e+49 1 / s>"
      ]
     },
     "execution_count": 4,
     "metadata": {},
     "output_type": "execute_result"
    }
   ],
   "source": [
    "L"
   ]
  },
  {
   "cell_type": "markdown",
   "metadata": {},
   "source": [
    "For the radius globule we use the definition of $pc$ and we have that $0.1 arcsec \\times D[pc]=r[UA]$, where $D$ is in $pc$ and $r$ in $UA$.\n",
    "_scipy dont have UA so we convert to pc directly_"
   ]
  },
  {
   "cell_type": "code",
   "execution_count": 5,
   "metadata": {},
   "outputs": [],
   "source": [
    "r = 542.9*(4.8481E-6)*u.pc  #globule radius in pc"
   ]
  },
  {
   "cell_type": "markdown",
   "metadata": {},
   "source": [
    "For an stimate similar to LDN 1616 considering the wind velocity and ionizing flux we have\n",
    "$$n_0=\\frac{-u_0+\\sqrt{u_0^2+4h\\alpha_\\beta F_0}}{2h\\alpha_\\beta}$$"
   ]
  },
  {
   "cell_type": "code",
   "execution_count": null,
   "metadata": {},
   "outputs": [],
   "source": []
  },
  {
   "cell_type": "code",
   "execution_count": null,
   "metadata": {},
   "outputs": [],
   "source": []
  },
  {
   "cell_type": "markdown",
   "metadata": {},
   "source": [
    "For the luminosity we have $$L=\\int_{4\\pi}d\\Omega\\int_V j_\\nu dV$$ and for $H_\\alpha$ we have\n",
    "$$L(H\\alpha)=\\int_{4\\pi}d\\Omega\\int_V j dV=4\\pi\\int_V jdV$$ with $j$ our source therefore\n",
    "$$L(H\\alpha)=4\\pi \\int_V  \\alpha_\\beta n_e n_p(h\\nu)_{H\\alpha}f_{H \\alpha} dV$$ where $f_{H\\alpha}$ is a efficient factor, and because $\\alpha_\\beta,(h\\nu)_{H\\alpha},f_{H\\alpha}$ are constant and assuming that $n_e=n_p$ and using the definition for VEM we have\n",
    "$$L(H\\alpha)=4\\pi\\alpha_\\beta(h\\nu)_{H\\alpha}f_{H\\alpha}VEM$$ on the other hand for the flux we have $L=4\\pi r^2F$ so we have\n",
    "$$4\\pi D^2F(H\\alpha)=4\\pi\\alpha_\\beta(h\\nu)_{H\\alpha}f_{H\\alpha}VEM$$\n",
    "$$\\Rightarrow VEM=\\frac{D^2F(H\\alpha)}{\\alpha_\\beta(h\\nu)_{H\\alpha}f_{H\\alpha}}$$\n",
    "\n",
    "Now for VEM we use the result that we obtain \n",
    "$$VEM=\\pi\\xi_0n_0^2r_0^3$$\n",
    "$$\\Rightarrow n_0=\\sqrt{\\frac{VEM}{\\pi\\xi_0 r_0^3}}$$"
   ]
  },
  {
   "cell_type": "code",
   "execution_count": 6,
   "metadata": {},
   "outputs": [
    {
     "data": {
      "text/latex": [
       "$1.5969046 \\times 10^{56} \\; \\mathrm{\\frac{1}{cm^{3}}}$"
      ],
      "text/plain": [
       "<Quantity 1.59690459e+56 1 / cm3>"
      ]
     },
     "execution_count": 6,
     "metadata": {},
     "output_type": "execute_result"
    }
   ],
   "source": [
    "F_Ha = 3.0E-14*(u.erg/(u.cm**2*u.second))\n",
    "E = (6.61E-27*2.99E10)/(6.563E-5)*(u.erg)\n",
    "alpha_Halpha = 2.20E-13*(u.cm**3/u.second)    # with T=6 000K\n",
    "VEM = (4*np.pi*(D.to('cm'))**2*F_Ha)/(alpha_Halpha*E)\n",
    "VEM"
   ]
  },
  {
   "cell_type": "code",
   "execution_count": 7,
   "metadata": {},
   "outputs": [
    {
     "data": {
      "text/latex": [
       "$20347.28 \\; \\mathrm{\\frac{1}{cm^{3}}}$"
      ],
      "text/plain": [
       "<Quantity 20347.27960482 1 / cm3>"
      ]
     },
     "execution_count": 7,
     "metadata": {},
     "output_type": "execute_result"
    }
   ],
   "source": [
    "r = (542.9*u.AU) #globule radius \n",
    "xi = 0.2291820650049779\n",
    "n_0 = ((VEM)/(np.pi*xi*(r.to('cm'))**3))**(1/2)\n",
    "n_0"
   ]
  },
  {
   "cell_type": "markdown",
   "metadata": {},
   "source": [
    "We have a density similarly to Grosdidier $\\approx 5739 cm^{-3}$, Now we want the ioniziong flux that we need"
   ]
  },
  {
   "cell_type": "code",
   "execution_count": 8,
   "metadata": {},
   "outputs": [
    {
     "data": {
      "text/latex": [
       "$1.5219936 \\times 10^{12} \\; \\mathrm{\\frac{1}{s\\,cm^{2}}}$"
      ],
      "text/plain": [
       "<Quantity 1.52199358e+12 1 / (cm2 s)>"
      ]
     },
     "execution_count": 8,
     "metadata": {},
     "output_type": "execute_result"
    }
   ],
   "source": [
    "alpha_beta = 2.3E-13 * u.cm**3 / (u.second)\n",
    "h = 0.1*r\n",
    "F0 = n_0**2*alpha_beta*(h.to('cm'))+n_0*v_inf\n",
    "F0"
   ]
  },
  {
   "cell_type": "markdown",
   "metadata": {},
   "source": [
    "Now we calculated the distance to which are localizated"
   ]
  },
  {
   "cell_type": "code",
   "execution_count": 9,
   "metadata": {},
   "outputs": [
    {
     "data": {
      "text/latex": [
       "$8.1131342 \\times 10^{17} \\; \\mathrm{cm}$"
      ],
      "text/plain": [
       "<Quantity 8.11313416e+17 cm>"
      ]
     },
     "execution_count": 9,
     "metadata": {},
     "output_type": "execute_result"
    }
   ],
   "source": [
    "L_lyman = 10**(49.1)*(1/u.second)\n",
    "distance = (L/(4*np.pi*F0))**(1/2)\n",
    "distance"
   ]
  },
  {
   "cell_type": "code",
   "execution_count": 10,
   "metadata": {},
   "outputs": [
    {
     "data": {
      "text/latex": [
       "$0.26292877 \\; \\mathrm{pc}$"
      ],
      "text/plain": [
       "<Quantity 0.26292877 pc>"
      ]
     },
     "execution_count": 10,
     "metadata": {},
     "output_type": "execute_result"
    }
   ],
   "source": [
    "distance.to('pc')"
   ]
  },
  {
   "cell_type": "markdown",
   "metadata": {},
   "source": [
    "$0.5 pc$ is the distance, and we considerer that globules are between 10\" and 30\"."
   ]
  },
  {
   "cell_type": "code",
   "execution_count": 11,
   "metadata": {},
   "outputs": [
    {
     "data": {
      "text/latex": [
       "$0.26320535 \\; \\mathrm{pc}$"
      ],
      "text/plain": [
       "<Quantity 0.26320535 pc>"
      ]
     },
     "execution_count": 11,
     "metadata": {},
     "output_type": "execute_result"
    }
   ],
   "source": [
    "distance1 = 10*5429*u.AU\n",
    "distance1.to('pc')"
   ]
  },
  {
   "cell_type": "code",
   "execution_count": 12,
   "metadata": {},
   "outputs": [
    {
     "data": {
      "text/latex": [
       "$0.78961604 \\; \\mathrm{pc}$"
      ],
      "text/plain": [
       "<Quantity 0.78961604 pc>"
      ]
     },
     "execution_count": 12,
     "metadata": {},
     "output_type": "execute_result"
    }
   ],
   "source": [
    "distance2 = 30*5429*u.AU\n",
    "distance2.to('pc')"
   ]
  },
  {
   "cell_type": "markdown",
   "metadata": {},
   "source": [
    "The distance that we obtain is in the range of 10\" and 30\", $0.26 pc$ and $0.78pc$."
   ]
  },
  {
   "cell_type": "markdown",
   "metadata": {},
   "source": [
    "Now we calculated the pressure of the wind and we have"
   ]
  },
  {
   "cell_type": "code",
   "execution_count": 13,
   "metadata": {},
   "outputs": [
    {
     "data": {
      "text/latex": [
       "$1.0794186 \\times 10^{-8} \\; \\mathrm{\\frac{P}{s}}$"
      ],
      "text/plain": [
       "<Quantity 1.07941865e-08 P / s>"
      ]
     },
     "execution_count": 13,
     "metadata": {},
     "output_type": "execute_result"
    }
   ],
   "source": [
    "# for distance 1\n",
    "P = (M_loss*v_inf)/(4*np.pi*(distance1.to('cm'))**2)\n",
    "(P).cgs"
   ]
  },
  {
   "cell_type": "markdown",
   "metadata": {},
   "source": [
    "For the velocity sound we calculated with a Temperature at 6000 K"
   ]
  },
  {
   "cell_type": "code",
   "execution_count": 14,
   "metadata": {},
   "outputs": [
    {
     "data": {
      "text/latex": [
       "$9.0853727 \\; \\mathrm{\\frac{km}{s}}$"
      ],
      "text/plain": [
       "<Quantity 9.08537273 km / s>"
      ]
     },
     "execution_count": 14,
     "metadata": {},
     "output_type": "execute_result"
    }
   ],
   "source": [
    "T = 6000*u.K\n",
    "m = (0.6*u.M_p).to('g')\n",
    "c_s=((const.k_B).to('erg/K')*T/m)**(1/2)\n",
    "c_s.to('km/second')"
   ]
  },
  {
   "cell_type": "markdown",
   "metadata": {},
   "source": [
    "Now we calculated the pressure of the globule"
   ]
  },
  {
   "cell_type": "code",
   "execution_count": 15,
   "metadata": {},
   "outputs": [
    {
     "data": {
      "text/latex": [
       "$3.3710941 \\times 10^{-8} \\; \\mathrm{\\frac{P}{s}}$"
      ],
      "text/plain": [
       "<Quantity 3.37109415e-08 P / s>"
      ]
     },
     "execution_count": 15,
     "metadata": {},
     "output_type": "execute_result"
    }
   ],
   "source": [
    "P_g = 2*n_0*m*c_s**2\n",
    "P_g.to('P/s')"
   ]
  },
  {
   "cell_type": "markdown",
   "metadata": {},
   "source": [
    "Finally we obtain a ratio of"
   ]
  },
  {
   "cell_type": "code",
   "execution_count": 16,
   "metadata": {},
   "outputs": [
    {
     "data": {
      "text/latex": [
       "$0.32019831 \\; \\mathrm{}$"
      ],
      "text/plain": [
       "<Quantity 0.32019831>"
      ]
     },
     "execution_count": 16,
     "metadata": {},
     "output_type": "execute_result"
    }
   ],
   "source": [
    "(P).cgs/(P_g).cgs"
   ]
  },
  {
   "cell_type": "code",
   "execution_count": null,
   "metadata": {},
   "outputs": [],
   "source": []
  },
  {
   "cell_type": "code",
   "execution_count": 17,
   "metadata": {},
   "outputs": [
    {
     "data": {
      "text/latex": [
       "$1.1993541 \\times 10^{-9} \\; \\mathrm{\\frac{P}{s}}$"
      ],
      "text/plain": [
       "<Quantity 1.19935405e-09 P / s>"
      ]
     },
     "execution_count": 17,
     "metadata": {},
     "output_type": "execute_result"
    }
   ],
   "source": [
    "# for distance 2\n",
    "P2 = (M_loss*v_inf)/(4*np.pi*(distance2.to('cm'))**2)\n",
    "(P2).cgs"
   ]
  },
  {
   "cell_type": "code",
   "execution_count": 18,
   "metadata": {},
   "outputs": [
    {
     "data": {
      "text/latex": [
       "$0.03557759 \\; \\mathrm{}$"
      ],
      "text/plain": [
       "<Quantity 0.03557759>"
      ]
     },
     "execution_count": 18,
     "metadata": {},
     "output_type": "execute_result"
    }
   ],
   "source": [
    "(P2).cgs/(P_g).cgs"
   ]
  },
  {
   "cell_type": "code",
   "execution_count": 19,
   "metadata": {
    "scrolled": false
   },
   "outputs": [
    {
     "name": "stderr",
     "output_type": "stream",
     "text": [
      "findfont: Font family ['serif'] not found. Falling back to DejaVu Sans.\n"
     ]
    },
    {
     "data": {
      "image/png": "[encoded data removed]",
      "text/plain": [
       "<Figure size 936x792 with 2 Axes>"
      ]
     },
     "metadata": {
      "needs_background": "light"
     },
     "output_type": "display_data"
    }
   ],
   "source": [
    "rang = np.arange(10,30,0.1)\n",
    "distances = rang*5429*u.AU\n",
    "P_r = (M_loss*v_inf)/(4*np.pi*(distances.to('cm'))**2)\n",
    "Pr_P = (P_r).cgs/(P_g).cgs\n",
    "inverse = 1/Pr_P\n",
    "\n",
    "fig, axes = plt.subplots()\n",
    "axes.plot(rang, Pr_P, 'b',label = r'$(P_{RAM}/P_{g})$')\n",
    "#twin_axes.plot(distances.to('pc'), inverse, 'r', label = r'$(P_{g}/P_{RAM})$')\n",
    "#twin_axes.set_xlabel('pc')\n",
    "axes.set_xlabel('arcsec')\n",
    "plt.grid()\n",
    "plt.legend()\n",
    "twin_axes = axes.twiny()\n",
    "#twin_axes.plot(distances.to('pc'), inverse, 'r', label = r'$(P_{g}/P_{RAM})$')\n",
    "twin_axes.set_xlabel('pc')\n",
    "plt.grid()\n",
    "#plt.legend()\n",
    "plt.show()"
   ]
  },
  {
   "cell_type": "code",
   "execution_count": null,
   "metadata": {},
   "outputs": [],
   "source": []
  },
  {
   "cell_type": "code",
   "execution_count": 20,
   "metadata": {},
   "outputs": [
    {
     "data": {
      "text/plain": [
       "1.9952623149688786e-05"
      ]
     },
     "execution_count": 20,
     "metadata": {},
     "output_type": "execute_result"
    }
   ],
   "source": [
    "10**(-4.2)*(0.1**(1/2))"
   ]
  },
  {
   "cell_type": "code",
   "execution_count": 21,
   "metadata": {},
   "outputs": [
    {
     "data": {
      "text/latex": [
       "$2.117579 \\; \\mathrm{}$"
      ],
      "text/plain": [
       "<Quantity 2.11757896>"
      ]
     },
     "execution_count": 21,
     "metadata": {},
     "output_type": "execute_result"
    }
   ],
   "source": [
    "L_bol= 10**(5.52)*u.L_sun\n",
    "eta = M_loss*v_inf*(3.0E10)*(u.cm/u.second)/L_bol\n",
    "(eta).cgs"
   ]
  },
  {
   "cell_type": "code",
   "execution_count": 22,
   "metadata": {},
   "outputs": [
    {
     "data": {
      "text/latex": [
       "$2.117579 \\; \\mathrm{}$"
      ],
      "text/plain": [
       "<Quantity 2.11757896>"
      ]
     },
     "execution_count": 22,
     "metadata": {},
     "output_type": "execute_result"
    }
   ],
   "source": [
    "M_loss1=2.0E-5*(u.M_sun/u.yr)\n",
    "eta1 = M_loss1*v_inf*(3.0E10)*(u.cm/u.second)/L_bol\n",
    "(eta1).cgs"
   ]
  },
  {
   "cell_type": "code",
   "execution_count": null,
   "metadata": {},
   "outputs": [],
   "source": []
  }
 ],
 "metadata": {
  "kernelspec": {
   "display_name": "Python 3",
   "language": "python",
   "name": "python3"
  },
  "language_info": {
   "codemirror_mode": {
    "name": "ipython",
    "version": 3
   },
   "file_extension": ".py",
   "mimetype": "text/x-python",
   "name": "python",
   "nbconvert_exporter": "python",
   "pygments_lexer": "ipython3",
   "version": "3.8.5"
  }
 },
 "nbformat": 4,
 "nbformat_minor": 4
}
