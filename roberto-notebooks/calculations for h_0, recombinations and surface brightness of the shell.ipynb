{
 "cells": [
  {
   "cell_type": "code",
   "execution_count": 1,
   "metadata": {},
   "outputs": [
    {
     "data": {
      "text/markdown": [
       "The values of $h_0/r_0$ for $\\alpha=2$ is 0.12149200100709526"
      ],
      "text/plain": [
       "<IPython.core.display.Markdown object>"
      ]
     },
     "metadata": {},
     "output_type": "display_data"
    }
   ],
   "source": [
    "from scipy import integrate\n",
    "from math import pi, e, cos, sin\n",
    "import numpy as np\n",
    "from IPython.display import display, Markdown\n",
    "\n",
    "def alpha_values(alpha):\n",
    "    function = lambda x: ((e**(1-x**2))**(1-1/(2*alpha)))*(x**((alpha-1)/alpha)-x**(-(alpha+1)/alpha))/alpha\n",
    "    return(function)\n",
    "\n",
    "h_0, err = integrate.quad(alpha_values(2), 1, np.inf)\n",
    "display(Markdown(rf'The values of $h_0/r_0$ for $\\alpha=2$ is 'f'{h_0}'))"
   ]
  },
  {
   "cell_type": "code",
   "execution_count": null,
   "metadata": {},
   "outputs": [],
   "source": []
  }
 ],
 "metadata": {
  "kernelspec": {
   "display_name": "Python 3.8.5 64-bit ('base': conda)",
   "language": "python",
   "name": "python38564bitbasecondab56a9e3744354fe6950b72f8491071c9"
  },
  "language_info": {
   "codemirror_mode": {
    "name": "ipython",
    "version": 3
   },
   "file_extension": ".py",
   "mimetype": "text/x-python",
   "name": "python",
   "nbconvert_exporter": "python",
   "pygments_lexer": "ipython3",
   "version": "3.8.5"
  }
 },
 "nbformat": 4,
 "nbformat_minor": 4
}
