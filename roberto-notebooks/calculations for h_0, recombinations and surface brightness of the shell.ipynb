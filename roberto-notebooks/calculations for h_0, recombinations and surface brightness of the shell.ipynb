{
 "cells": [
  {
   "cell_type": "code",
   "execution_count": null,
   "metadata": {
    "pycharm": {
     "name": "#%%\n"
    }
   },
   "outputs": [],
   "source": [
    "from scipy import integrate\n",
    "from scipy.optimize import fsolve\n",
    "from math import pi, e, cos, sin\n",
    "import numpy as np\n",
    "from IPython.display import display, Markdown\n",
    "import pandas as pd\n",
    "\n"
   ]
  },
  {
   "cell_type": "markdown",
   "metadata": {},
   "source": [
    "## Find the effective thickness of the photoevaporation flow"
   ]
  },
  {
   "cell_type": "markdown",
   "metadata": {},
   "source": [
    "*Add description of what equations we are solving*"
   ]
  },
  {
   "cell_type": "code",
   "execution_count": 1,
   "metadata": {
    "pycharm": {
     "name": "#%%\n"
    }
   },
   "outputs": [
    {
     "data": {
      "text/markdown": [
       "The values of $h_0/r_0$ for $\\alpha=2$ is"
      ],
      "text/plain": [
       "<IPython.core.display.Markdown object>"
      ]
     },
     "metadata": {},
     "output_type": "display_data"
    },
    {
     "data": {
      "text/markdown": [
       "$h_0/r_0=$0.12149200100709526"
      ],
      "text/plain": [
       "<IPython.core.display.Markdown object>"
      ]
     },
     "metadata": {},
     "output_type": "display_data"
    }
   ],
   "source": [
    "def alpha_values(alpha):\n",
    "    function = lambda x: ((e**(1-x**2))**(1-1/(2*alpha)))*(x**((alpha-1)/alpha)-x**(-(alpha+1)/alpha))/alpha\n",
    "    return(function)\n",
    "\n",
    "h_0, err = integrate.quad(alpha_values(2), 1, np.inf)\n",
    "display(Markdown(rf'The values of $h_0/r_0$ for $\\alpha=2$ is'))\n",
    "display(Markdown(rf'$h_0/r_0=$'f'{h_0}'))"
   ]
  },
  {
   "cell_type": "markdown",
   "metadata": {},
   "source": [
    "*Repeat for the cylindrical case*"
   ]
  },
  {
   "cell_type": "markdown",
   "metadata": {},
   "source": [
    "## Properties of the shocked shell for photoevaporation flow that interacts with an ambient pressure"
   ]
  },
  {
   "cell_type": "markdown",
   "metadata": {},
   "source": [
    "We investigate a range of pressure contrasts $P / P_0$ between the ambient gas and the base of the photoevaporatoin flow. "
   ]
  },
  {
   "cell_type": "code",
   "execution_count": 9,
   "metadata": {
    "pycharm": {
     "name": "#%%\n"
    }
   },
   "outputs": [
    {
     "data": {
      "text/html": [
       "<style type=\"text/css\">\n",
       "</style>\n",
       "<table id=\"T_c4d13\">\n",
       "  <thead>\n",
       "    <tr>\n",
       "      <th class=\"blank level0\" >&nbsp;</th>\n",
       "      <th id=\"T_c4d13_level0_col0\" class=\"col_heading level0 col0\" >0</th>\n",
       "    </tr>\n",
       "  </thead>\n",
       "  <tbody>\n",
       "    <tr>\n",
       "      <th id=\"T_c4d13_level0_row0\" class=\"row_heading level0 row0\" >0</th>\n",
       "      <td id=\"T_c4d13_row0_col0\" class=\"data row0 col0\" >0.90</td>\n",
       "    </tr>\n",
       "    <tr>\n",
       "      <th id=\"T_c4d13_level0_row1\" class=\"row_heading level0 row1\" >1</th>\n",
       "      <td id=\"T_c4d13_row1_col0\" class=\"data row1 col0\" >0.80</td>\n",
       "    </tr>\n",
       "    <tr>\n",
       "      <th id=\"T_c4d13_level0_row2\" class=\"row_heading level0 row2\" >2</th>\n",
       "      <td id=\"T_c4d13_row2_col0\" class=\"data row2 col0\" >0.70</td>\n",
       "    </tr>\n",
       "    <tr>\n",
       "      <th id=\"T_c4d13_level0_row3\" class=\"row_heading level0 row3\" >3</th>\n",
       "      <td id=\"T_c4d13_row3_col0\" class=\"data row3 col0\" >0.60</td>\n",
       "    </tr>\n",
       "    <tr>\n",
       "      <th id=\"T_c4d13_level0_row4\" class=\"row_heading level0 row4\" >4</th>\n",
       "      <td id=\"T_c4d13_row4_col0\" class=\"data row4 col0\" >0.50</td>\n",
       "    </tr>\n",
       "    <tr>\n",
       "      <th id=\"T_c4d13_level0_row5\" class=\"row_heading level0 row5\" >5</th>\n",
       "      <td id=\"T_c4d13_row5_col0\" class=\"data row5 col0\" >0.33</td>\n",
       "    </tr>\n",
       "    <tr>\n",
       "      <th id=\"T_c4d13_level0_row6\" class=\"row_heading level0 row6\" >6</th>\n",
       "      <td id=\"T_c4d13_row6_col0\" class=\"data row6 col0\" >0.25</td>\n",
       "    </tr>\n",
       "    <tr>\n",
       "      <th id=\"T_c4d13_level0_row7\" class=\"row_heading level0 row7\" >7</th>\n",
       "      <td id=\"T_c4d13_row7_col0\" class=\"data row7 col0\" >0.20</td>\n",
       "    </tr>\n",
       "    <tr>\n",
       "      <th id=\"T_c4d13_level0_row8\" class=\"row_heading level0 row8\" >8</th>\n",
       "      <td id=\"T_c4d13_row8_col0\" class=\"data row8 col0\" >0.17</td>\n",
       "    </tr>\n",
       "    <tr>\n",
       "      <th id=\"T_c4d13_level0_row9\" class=\"row_heading level0 row9\" >9</th>\n",
       "      <td id=\"T_c4d13_row9_col0\" class=\"data row9 col0\" >0.14</td>\n",
       "    </tr>\n",
       "    <tr>\n",
       "      <th id=\"T_c4d13_level0_row10\" class=\"row_heading level0 row10\" >10</th>\n",
       "      <td id=\"T_c4d13_row10_col0\" class=\"data row10 col0\" >0.12</td>\n",
       "    </tr>\n",
       "    <tr>\n",
       "      <th id=\"T_c4d13_level0_row11\" class=\"row_heading level0 row11\" >11</th>\n",
       "      <td id=\"T_c4d13_row11_col0\" class=\"data row11 col0\" >0.11</td>\n",
       "    </tr>\n",
       "    <tr>\n",
       "      <th id=\"T_c4d13_level0_row12\" class=\"row_heading level0 row12\" >12</th>\n",
       "      <td id=\"T_c4d13_row12_col0\" class=\"data row12 col0\" >0.10</td>\n",
       "    </tr>\n",
       "    <tr>\n",
       "      <th id=\"T_c4d13_level0_row13\" class=\"row_heading level0 row13\" >13</th>\n",
       "      <td id=\"T_c4d13_row13_col0\" class=\"data row13 col0\" >0.09</td>\n",
       "    </tr>\n",
       "    <tr>\n",
       "      <th id=\"T_c4d13_level0_row14\" class=\"row_heading level0 row14\" >14</th>\n",
       "      <td id=\"T_c4d13_row14_col0\" class=\"data row14 col0\" >0.08</td>\n",
       "    </tr>\n",
       "    <tr>\n",
       "      <th id=\"T_c4d13_level0_row15\" class=\"row_heading level0 row15\" >15</th>\n",
       "      <td id=\"T_c4d13_row15_col0\" class=\"data row15 col0\" >0.08</td>\n",
       "    </tr>\n",
       "    <tr>\n",
       "      <th id=\"T_c4d13_level0_row16\" class=\"row_heading level0 row16\" >16</th>\n",
       "      <td id=\"T_c4d13_row16_col0\" class=\"data row16 col0\" >0.07</td>\n",
       "    </tr>\n",
       "    <tr>\n",
       "      <th id=\"T_c4d13_level0_row17\" class=\"row_heading level0 row17\" >17</th>\n",
       "      <td id=\"T_c4d13_row17_col0\" class=\"data row17 col0\" >0.07</td>\n",
       "    </tr>\n",
       "  </tbody>\n",
       "</table>\n"
      ],
      "text/plain": [
       "<pandas.io.formats.style.Styler at 0x136933dc0>"
      ]
     },
     "execution_count": 9,
     "metadata": {},
     "output_type": "execute_result"
    }
   ],
   "source": [
    "P_P_0_1 = [i+2 for i in range(14)]\n",
    "Extr=[1/0.9,1/0.8,1/0.7,1/0.6]\n",
    "P_P_0 = 1 / np.array(Extr + P_P_0_1)\n",
    "pd.DataFrame(P_P_0).style.format(precision=2)"
   ]
  },
  {
   "cell_type": "markdown",
   "metadata": {},
   "source": [
    "Find the Mach number of the flow at radius where the shocked shell will form, assuming that the flow ram pressure is equal to the ambient pressure. \n",
    "\n",
    "*Give the relevant equation for this*"
   ]
  },
  {
   "cell_type": "code",
   "execution_count": 6,
   "metadata": {
    "pycharm": {
     "name": "#%%\n"
    }
   },
   "outputs": [
    {
     "data": {
      "text/plain": [
       "array([1.43653166, 1.62750626, 1.78737193, 1.93722551, 2.0872695 ,\n",
       "       2.36189814, 2.52690899, 2.64359919, 2.73319847, 2.80555349,\n",
       "       2.86601589, 2.91780729, 2.96301204, 3.00305324, 3.03894401,\n",
       "       3.07143012, 3.10107584, 3.12831796])"
      ]
     },
     "execution_count": 6,
     "metadata": {},
     "output_type": "execute_result"
    }
   ],
   "source": [
    "def func_to_find_M0(x):\n",
    "    \"\"\"Should be called with vector argument of same length as P_P_0\"\"\"\n",
    "    return ((1+x**2)/2)*(e**((1-x**2)/2)) - P_P_0\n",
    "\n",
    "M0 = fsolve(func_to_find_M0, 1.5 * np.ones_like(P_P_0))\n",
    "M0"
   ]
  },
  {
   "cell_type": "markdown",
   "metadata": {},
   "source": [
    "Find the other parameters of the shocked shell: $r_1 / r_0$, $n_1 / n_0$ (density just before shock). \n",
    "\n",
    "*Give the relevant equations*"
   ]
  },
  {
   "cell_type": "code",
   "execution_count": null,
   "metadata": {},
   "outputs": [],
   "source": []
  },
  {
   "cell_type": "markdown",
   "metadata": {},
   "source": [
    "Find the properties of the shocked shell itself (density and thickness): $n_2 / n_0$, $h_2 / h_0$. \n",
    "\n",
    "*Give the relevant equations*\n",
    "\n",
    "*Make a table of these quantities*"
   ]
  },
  {
   "cell_type": "code",
   "execution_count": 2,
   "metadata": {
    "pycharm": {
     "name": "#%%\n"
    }
   },
   "outputs": [
    {
     "data": {
      "text/html": [
       "<div>\n",
       "<style scoped>\n",
       "    .dataframe tbody tr th:only-of-type {\n",
       "        vertical-align: middle;\n",
       "    }\n",
       "\n",
       "    .dataframe tbody tr th {\n",
       "        vertical-align: top;\n",
       "    }\n",
       "\n",
       "    .dataframe thead th {\n",
       "        text-align: right;\n",
       "    }\n",
       "</style>\n",
       "<table border=\"1\" class=\"dataframe\">\n",
       "  <thead>\n",
       "    <tr style=\"text-align: right;\">\n",
       "      <th></th>\n",
       "      <th>$P/P_0$</th>\n",
       "      <th>$M_1$</th>\n",
       "      <th>$\\rho_2/\\rho_0$</th>\n",
       "      <th>$h/r_0$</th>\n",
       "      <th>($\\alpha_\\beta h_2 n_2)/(\\alpha_\\beta h_0 n_0$)</th>\n",
       "    </tr>\n",
       "  </thead>\n",
       "  <tbody>\n",
       "    <tr>\n",
       "      <th>0</th>\n",
       "      <td>0.900000</td>\n",
       "      <td>[1.43653166229611]</td>\n",
       "      <td>[1.212460386727212]</td>\n",
       "      <td>[0.3955985401577511]</td>\n",
       "      <td>[40.66866708341336]</td>\n",
       "    </tr>\n",
       "    <tr>\n",
       "      <th>1</th>\n",
       "      <td>0.800000</td>\n",
       "      <td>[1.62750625745831]</td>\n",
       "      <td>[1.161496861145731]</td>\n",
       "      <td>[0.335172394947937]</td>\n",
       "      <td>[101.91362555071417]</td>\n",
       "    </tr>\n",
       "    <tr>\n",
       "      <th>2</th>\n",
       "      <td>0.700000</td>\n",
       "      <td>[1.7873719314700518]</td>\n",
       "      <td>[1.066245374672153]</td>\n",
       "      <td>[0.30395569363387]</td>\n",
       "      <td>[232.0781132269163]</td>\n",
       "    </tr>\n",
       "    <tr>\n",
       "      <th>3</th>\n",
       "      <td>0.600000</td>\n",
       "      <td>[1.9372255119437625]</td>\n",
       "      <td>[0.9475195204739406]</td>\n",
       "      <td>[0.28575702167852984]</td>\n",
       "      <td>[526.1151053896526]</td>\n",
       "    </tr>\n",
       "    <tr>\n",
       "      <th>4</th>\n",
       "      <td>0.500000</td>\n",
       "      <td>[2.0872695034502167]</td>\n",
       "      <td>[0.8133176911491646]</td>\n",
       "      <td>[0.2757803777585336]</td>\n",
       "      <td>[1251.6701644116563]</td>\n",
       "    </tr>\n",
       "    <tr>\n",
       "      <th>5</th>\n",
       "      <td>0.333333</td>\n",
       "      <td>[2.3618981411410918]</td>\n",
       "      <td>[0.565327410056532]</td>\n",
       "      <td>[0.2748017508441885]</td>\n",
       "      <td>[6939.488790260166]</td>\n",
       "    </tr>\n",
       "    <tr>\n",
       "      <th>6</th>\n",
       "      <td>0.250000</td>\n",
       "      <td>[2.5269089927774195]</td>\n",
       "      <td>[0.43229765955875116]</td>\n",
       "      <td>[0.2839784731235524]</td>\n",
       "      <td>[21050.1508783226]</td>\n",
       "    </tr>\n",
       "    <tr>\n",
       "      <th>7</th>\n",
       "      <td>0.200000</td>\n",
       "      <td>[2.643599193146395]</td>\n",
       "      <td>[0.3499287529591649]</td>\n",
       "      <td>[0.29497012544141]</td>\n",
       "      <td>[47885.32219070201]</td>\n",
       "    </tr>\n",
       "    <tr>\n",
       "      <th>8</th>\n",
       "      <td>0.166667</td>\n",
       "      <td>[2.733198469715219]</td>\n",
       "      <td>[0.2939804856009608]</td>\n",
       "      <td>[0.3061225050545589]</td>\n",
       "      <td>[91927.69226537192]</td>\n",
       "    </tr>\n",
       "    <tr>\n",
       "      <th>9</th>\n",
       "      <td>0.142857</td>\n",
       "      <td>[2.8055534914820472]</td>\n",
       "      <td>[0.25350708403438516]</td>\n",
       "      <td>[0.31698476038720674]</td>\n",
       "      <td>[157770.34148863688]</td>\n",
       "    </tr>\n",
       "    <tr>\n",
       "      <th>10</th>\n",
       "      <td>0.125000</td>\n",
       "      <td>[2.8660158884661424]</td>\n",
       "      <td>[0.2228675143483692]</td>\n",
       "      <td>[0.3274311460311606]</td>\n",
       "      <td>[250077.11634928477]</td>\n",
       "    </tr>\n",
       "    <tr>\n",
       "      <th>11</th>\n",
       "      <td>0.111111</td>\n",
       "      <td>[2.917807287745739]</td>\n",
       "      <td>[0.1988638471617976]</td>\n",
       "      <td>[0.3374414572584375]</td>\n",
       "      <td>[373558.27006963885]</td>\n",
       "    </tr>\n",
       "    <tr>\n",
       "      <th>12</th>\n",
       "      <td>0.100000</td>\n",
       "      <td>[2.9630120384053216]</td>\n",
       "      <td>[0.17954893193761]</td>\n",
       "      <td>[0.34703216241569557]</td>\n",
       "      <td>[532954.5277177425]</td>\n",
       "    </tr>\n",
       "    <tr>\n",
       "      <th>13</th>\n",
       "      <td>0.090909</td>\n",
       "      <td>[3.0030532411044946]</td>\n",
       "      <td>[0.16366962770180535]</td>\n",
       "      <td>[0.356231786044611]</td>\n",
       "      <td>[733026.1841359365]</td>\n",
       "    </tr>\n",
       "    <tr>\n",
       "      <th>14</th>\n",
       "      <td>0.083333</td>\n",
       "      <td>[3.0389440079280536]</td>\n",
       "      <td>[0.1503829612956301]</td>\n",
       "      <td>[0.36507147422690406]</td>\n",
       "      <td>[978545.3897259114]</td>\n",
       "    </tr>\n",
       "    <tr>\n",
       "      <th>15</th>\n",
       "      <td>0.076923</td>\n",
       "      <td>[3.0714301227600624]</td>\n",
       "      <td>[0.13910101027020574]</td>\n",
       "      <td>[0.37358132869251404]</td>\n",
       "      <td>[1274290.548602381]</td>\n",
       "    </tr>\n",
       "    <tr>\n",
       "      <th>16</th>\n",
       "      <td>0.071429</td>\n",
       "      <td>[3.1010758409032033]</td>\n",
       "      <td>[0.12940121699633922]</td>\n",
       "      <td>[0.38178907920762556]</td>\n",
       "      <td>[1625042.1675101283]</td>\n",
       "    </tr>\n",
       "    <tr>\n",
       "      <th>17</th>\n",
       "      <td>0.066667</td>\n",
       "      <td>[3.128317957368406]</td>\n",
       "      <td>[0.12097205764438175]</td>\n",
       "      <td>[0.3897197345388107]</td>\n",
       "      <td>[2035579.7305770817]</td>\n",
       "    </tr>\n",
       "  </tbody>\n",
       "</table>\n",
       "</div>"
      ],
      "text/plain": [
       "     $P/P_0$                 $M_1$        $\\rho_2/\\rho_0$  \\\n",
       "0   0.900000    [1.43653166229611]    [1.212460386727212]   \n",
       "1   0.800000    [1.62750625745831]    [1.161496861145731]   \n",
       "2   0.700000  [1.7873719314700518]    [1.066245374672153]   \n",
       "3   0.600000  [1.9372255119437625]   [0.9475195204739406]   \n",
       "4   0.500000  [2.0872695034502167]   [0.8133176911491646]   \n",
       "5   0.333333  [2.3618981411410918]    [0.565327410056532]   \n",
       "6   0.250000  [2.5269089927774195]  [0.43229765955875116]   \n",
       "7   0.200000   [2.643599193146395]   [0.3499287529591649]   \n",
       "8   0.166667   [2.733198469715219]   [0.2939804856009608]   \n",
       "9   0.142857  [2.8055534914820472]  [0.25350708403438516]   \n",
       "10  0.125000  [2.8660158884661424]   [0.2228675143483692]   \n",
       "11  0.111111   [2.917807287745739]   [0.1988638471617976]   \n",
       "12  0.100000  [2.9630120384053216]     [0.17954893193761]   \n",
       "13  0.090909  [3.0030532411044946]  [0.16366962770180535]   \n",
       "14  0.083333  [3.0389440079280536]   [0.1503829612956301]   \n",
       "15  0.076923  [3.0714301227600624]  [0.13910101027020574]   \n",
       "16  0.071429  [3.1010758409032033]  [0.12940121699633922]   \n",
       "17  0.066667   [3.128317957368406]  [0.12097205764438175]   \n",
       "\n",
       "                  $h/r_0$ ($\\alpha_\\beta h_2 n_2)/(\\alpha_\\beta h_0 n_0$)  \n",
       "0    [0.3955985401577511]                             [40.66866708341336]  \n",
       "1     [0.335172394947937]                            [101.91362555071417]  \n",
       "2      [0.30395569363387]                             [232.0781132269163]  \n",
       "3   [0.28575702167852984]                             [526.1151053896526]  \n",
       "4    [0.2757803777585336]                            [1251.6701644116563]  \n",
       "5    [0.2748017508441885]                             [6939.488790260166]  \n",
       "6    [0.2839784731235524]                              [21050.1508783226]  \n",
       "7      [0.29497012544141]                             [47885.32219070201]  \n",
       "8    [0.3061225050545589]                             [91927.69226537192]  \n",
       "9   [0.31698476038720674]                            [157770.34148863688]  \n",
       "10   [0.3274311460311606]                            [250077.11634928477]  \n",
       "11   [0.3374414572584375]                            [373558.27006963885]  \n",
       "12  [0.34703216241569557]                             [532954.5277177425]  \n",
       "13    [0.356231786044611]                             [733026.1841359365]  \n",
       "14  [0.36507147422690406]                             [978545.3897259114]  \n",
       "15  [0.37358132869251404]                             [1274290.548602381]  \n",
       "16  [0.38178907920762556]                            [1625042.1675101283]  \n",
       "17   [0.3897197345388107]                            [2035579.7305770817]  "
      ]
     },
     "execution_count": 2,
     "metadata": {},
     "output_type": "execute_result"
    }
   ],
   "source": [
    "alpha=2\n",
    "    \n",
    "h_R_0 = [(i**(-1/alpha))*(3/(4*i**2))*e**((i**2-1)/(2*alpha)) for i in Roots]\n",
    "rho2_rho0 = [(i**2)*e**((1-i**2)/2) for i in Roots]\n",
    "\n",
    "Rec_h2n2 = [(3/4)*(1/0.12)*(i**(2-1/alpha))*(e**((i**2-1)/(2*alpha)))*(e**(i**2-1)) for i in Roots]\n",
    "\n",
    "\n",
    "T3 = pd.DataFrame(data = [[1/P_P_0[i],Roots[i],rho2_rho0[i],h_R_0[i],Rec_h2n2[i]] for i in range(len(P_P_0))],\n",
    "                columns = [rf'$P/P_0$',rf'$M_1$', rf'$\\rho_2/\\rho_0$',rf'$h/r_0$',rf'($\\alpha_\\beta h_2 n_2)/(\\alpha_\\beta h_0 n_0$)'])\n",
    "T3"
   ]
  },
  {
   "cell_type": "markdown",
   "metadata": {
    "pycharm": {
     "name": "#%%\n"
    }
   },
   "source": [
    "## Emission measure of shocked shell"
   ]
  },
  {
   "cell_type": "markdown",
   "metadata": {},
   "source": [
    "*Calculate the relative emission measure of the shell and the photoevaporation flow*\n"
   ]
  },
  {
   "cell_type": "code",
   "execution_count": null,
   "metadata": {},
   "outputs": [],
   "source": []
  },
  {
   "cell_type": "markdown",
   "metadata": {},
   "source": [
    "*Also calculate the peak surface brightness of the shell and photoevaporation flow. For this you will need to estimate the line of sight depths $\\ell$*"
   ]
  },
  {
   "cell_type": "code",
   "execution_count": null,
   "metadata": {},
   "outputs": [],
   "source": []
  },
  {
   "cell_type": "markdown",
   "metadata": {},
   "source": [
    "*Make a second table showing these quantities. Alternatively, show fewer significant figures and see if everything will fit in a single table*"
   ]
  },
  {
   "cell_type": "code",
   "execution_count": null,
   "metadata": {
    "pycharm": {
     "name": "#%%\n"
    }
   },
   "outputs": [],
   "source": []
  }
 ],
 "metadata": {
  "kernelspec": {
   "display_name": "Python 3",
   "language": "python",
   "name": "python3"
  },
  "language_info": {
   "codemirror_mode": {
    "name": "ipython",
    "version": 3
   },
   "file_extension": ".py",
   "mimetype": "text/x-python",
   "name": "python",
   "nbconvert_exporter": "python",
   "pygments_lexer": "ipython3",
   "version": "3.9.9"
  }
 },
 "nbformat": 4,
 "nbformat_minor": 4
}
