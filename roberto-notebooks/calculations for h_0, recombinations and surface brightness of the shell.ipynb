{
 "cells": [
  {
   "cell_type": "code",
   "execution_count": 1,
   "metadata": {
    "pycharm": {
     "name": "#%%\n"
    }
   },
   "outputs": [
    {
     "name": "stderr",
     "output_type": "stream",
     "text": [
      "/home/roberto/anaconda3/lib/python3.8/_collections_abc.py:832: MatplotlibDeprecationWarning: Support for setting the 'text.latex.preamble' or 'pgf.preamble' rcParam to a list of strings is deprecated since 3.3 and will be removed two minor releases later; set it to a single string instead.\n",
      "  self[key] = other[key]\n"
     ]
    }
   ],
   "source": [
    "from scipy import integrate\n",
    "from scipy.optimize import fsolve\n",
    "from math import pi, e, cos, sin\n",
    "import numpy as np\n",
    "from IPython.display import display, Markdown\n",
    "import pandas as pd\n",
    "import matplotlib.pyplot as plt\n",
    "#tis is only style for the plot, we can ignore or change if we want\n",
    "rc_fonts = {\n",
    "        \"text.usetex\": True,\n",
    "        \"font.size\": 30,\n",
    "        'mathtext.default': 'regular',\n",
    "        'axes.titlesize': 33,\n",
    "        \"axes.labelsize\": 33,\n",
    "        \"legend.fontsize\": 30,\n",
    "        \"xtick.labelsize\": 30,\n",
    "        \"ytick.labelsize\": 30,\n",
    "        'figure.titlesize': 33,\n",
    "        'figure.figsize': (13,11),\n",
    "        'text.latex.preamble': [r'\\usepackage{amsmath,amssymb,bm,physics,lmodern}'],\n",
    "        \"font.family\": \"serif\",\n",
    "        \"font.serif\": \"computer modern roman\",\n",
    "        }\n",
    "\n",
    "plt.rcParams.update(rc_fonts)"
   ]
  },
  {
   "cell_type": "markdown",
   "metadata": {},
   "source": [
    "## Find the effective thickness of the photoevaporation flow"
   ]
  },
  {
   "cell_type": "markdown",
   "metadata": {},
   "source": [
    "To calculate $h_0$  we use the equation for [r](https://github.com/will-henney/globule-seminario/issues/5#issuecomment-1438984643) and $rho$ $$\\frac{\\rho}{\\rho_0}=e^{\\frac{1-M^2}{2}}$$ and $$\\frac{r}{r_0}=M^{-1/\\alpha}e^{\\frac{M^2-1}{2 \\alpha}}$$\n",
    "hence\n",
    "$$\\frac{dr}{dM}=r_0\\Big( e^{\\frac{M^2-1}{2\\alpha}}\\Big(-\\frac{M^{-1/\\alpha-1}}{\\alpha}+\\frac{M}{\\alpha M^{1/\\alpha}}\\Big)\\Big)=\\frac{r_0}{\\alpha}e^{\\frac{M^2-1}{2\\alpha}}\\Big(M^{\\frac{\\alpha-1}{\\alpha}}-M^{-\\frac{\\alpha+1}{\\alpha}}\\Big)$$\n",
    "therefore\n",
    "$$h_0=\\int_0^\\infty \\Big(\\frac{n(r)}{n_0}\\Big)^2 dr=\\int_1^\\infty \\frac{r_0}{\\alpha} (exp(1-M^2))^{1-\\frac{1}{2\\alpha}}\\Big(M^{\\frac{\\alpha-1}{\\alpha}}-M^{-\\frac{\\alpha+1}{\\alpha}}\\Big) dM.$$\n",
    "\n",
    "For $\\alpha=2$ we have $$h_0=r_0\\int_1^\\infty \\frac{exp(\\frac{3}{4}(1-M^2))}{2}(M^{1/2}-M^{-3/4})dM$$"
   ]
  },
  {
   "cell_type": "code",
   "execution_count": 2,
   "metadata": {
    "pycharm": {
     "name": "#%%\n"
    }
   },
   "outputs": [
    {
     "data": {
      "text/markdown": [
       "The values of $h_0/r_0$ for $\\alpha=2$ is"
      ],
      "text/plain": [
       "<IPython.core.display.Markdown object>"
      ]
     },
     "metadata": {},
     "output_type": "display_data"
    },
    {
     "data": {
      "text/markdown": [
       "$h_0/r_0=$0.12149200100709526"
      ],
      "text/plain": [
       "<IPython.core.display.Markdown object>"
      ]
     },
     "metadata": {},
     "output_type": "display_data"
    }
   ],
   "source": [
    "def alpha_values(alpha): #integrate in function of alpha\n",
    "    function = lambda x: ((e**(1-x**2))**(1-1/(2*alpha)))*(x**((alpha-1)/alpha)-x**(-(alpha+1)/alpha))/alpha\n",
    "    return(function)\n",
    " \n",
    "h_0, err = integrate.quad(alpha_values(2), 1, np.inf) #alpha=2 spherical case\n",
    "display(Markdown(rf'The values of $h_0/r_0$ for $\\alpha=2$ is'))\n",
    "display(Markdown(rf'$h_0/r_0=$'f'{h_0}'))"
   ]
  },
  {
   "cell_type": "markdown",
   "metadata": {},
   "source": [
    "Now for the cylindrical case $\\alpha=1$ and we have $$h_0=r_0\\int_1^\\infty \\Big(exp(1-M^2)\\big)^{1/2}\\Big(1-M^{-2}\\Big) dM$$"
   ]
  },
  {
   "cell_type": "code",
   "execution_count": 3,
   "metadata": {},
   "outputs": [
    {
     "data": {
      "text/markdown": [
       "The values of $h_0/r_0$ for $\\alpha=1$ is"
      ],
      "text/plain": [
       "<IPython.core.display.Markdown object>"
      ]
     },
     "metadata": {},
     "output_type": "display_data"
    },
    {
     "data": {
      "text/markdown": [
       "$h_0/r_0=$0.311359084837597"
      ],
      "text/plain": [
       "<IPython.core.display.Markdown object>"
      ]
     },
     "metadata": {},
     "output_type": "display_data"
    }
   ],
   "source": [
    "h_0_cyl, err = integrate.quad(alpha_values(1), 1, np.inf) #alpha=1 cylindrical case\n",
    "display(Markdown(rf'The values of $h_0/r_0$ for $\\alpha=1$ is'))\n",
    "display(Markdown(rf'$h_0/r_0=$'f'{h_0_cyl}'))"
   ]
  },
  {
   "cell_type": "markdown",
   "metadata": {},
   "source": [
    "## Properties of the shocked shell for photoevaporation flow that interacts with an ambient pressure"
   ]
  },
  {
   "cell_type": "markdown",
   "metadata": {},
   "source": [
    "We investigate a range of pressure contrasts $P / P_0$ between the ambient gas and the base of the photoevaporatoin flow. "
   ]
  },
  {
   "cell_type": "code",
   "execution_count": 4,
   "metadata": {
    "pycharm": {
     "name": "#%%\n"
    }
   },
   "outputs": [
    {
     "data": {
      "text/html": [
       "<div>\n",
       "<style scoped>\n",
       "    .dataframe tbody tr th:only-of-type {\n",
       "        vertical-align: middle;\n",
       "    }\n",
       "\n",
       "    .dataframe tbody tr th {\n",
       "        vertical-align: top;\n",
       "    }\n",
       "\n",
       "    .dataframe thead th {\n",
       "        text-align: right;\n",
       "    }\n",
       "</style>\n",
       "<table border=\"1\" class=\"dataframe\">\n",
       "  <thead>\n",
       "    <tr style=\"text-align: right;\">\n",
       "      <th></th>\n",
       "      <th>0</th>\n",
       "    </tr>\n",
       "  </thead>\n",
       "  <tbody>\n",
       "    <tr>\n",
       "      <th>0</th>\n",
       "      <td>0.900000</td>\n",
       "    </tr>\n",
       "    <tr>\n",
       "      <th>1</th>\n",
       "      <td>0.800000</td>\n",
       "    </tr>\n",
       "    <tr>\n",
       "      <th>2</th>\n",
       "      <td>0.700000</td>\n",
       "    </tr>\n",
       "    <tr>\n",
       "      <th>3</th>\n",
       "      <td>0.600000</td>\n",
       "    </tr>\n",
       "    <tr>\n",
       "      <th>4</th>\n",
       "      <td>0.500000</td>\n",
       "    </tr>\n",
       "    <tr>\n",
       "      <th>5</th>\n",
       "      <td>0.333333</td>\n",
       "    </tr>\n",
       "    <tr>\n",
       "      <th>6</th>\n",
       "      <td>0.250000</td>\n",
       "    </tr>\n",
       "    <tr>\n",
       "      <th>7</th>\n",
       "      <td>0.200000</td>\n",
       "    </tr>\n",
       "    <tr>\n",
       "      <th>8</th>\n",
       "      <td>0.166667</td>\n",
       "    </tr>\n",
       "    <tr>\n",
       "      <th>9</th>\n",
       "      <td>0.142857</td>\n",
       "    </tr>\n",
       "    <tr>\n",
       "      <th>10</th>\n",
       "      <td>0.125000</td>\n",
       "    </tr>\n",
       "    <tr>\n",
       "      <th>11</th>\n",
       "      <td>0.111111</td>\n",
       "    </tr>\n",
       "    <tr>\n",
       "      <th>12</th>\n",
       "      <td>0.100000</td>\n",
       "    </tr>\n",
       "    <tr>\n",
       "      <th>13</th>\n",
       "      <td>0.090909</td>\n",
       "    </tr>\n",
       "    <tr>\n",
       "      <th>14</th>\n",
       "      <td>0.083333</td>\n",
       "    </tr>\n",
       "    <tr>\n",
       "      <th>15</th>\n",
       "      <td>0.076923</td>\n",
       "    </tr>\n",
       "    <tr>\n",
       "      <th>16</th>\n",
       "      <td>0.071429</td>\n",
       "    </tr>\n",
       "    <tr>\n",
       "      <th>17</th>\n",
       "      <td>0.066667</td>\n",
       "    </tr>\n",
       "  </tbody>\n",
       "</table>\n",
       "</div>"
      ],
      "text/plain": [
       "           0\n",
       "0   0.900000\n",
       "1   0.800000\n",
       "2   0.700000\n",
       "3   0.600000\n",
       "4   0.500000\n",
       "5   0.333333\n",
       "6   0.250000\n",
       "7   0.200000\n",
       "8   0.166667\n",
       "9   0.142857\n",
       "10  0.125000\n",
       "11  0.111111\n",
       "12  0.100000\n",
       "13  0.090909\n",
       "14  0.083333\n",
       "15  0.076923\n",
       "16  0.071429\n",
       "17  0.066667"
      ]
     },
     "execution_count": 4,
     "metadata": {},
     "output_type": "execute_result"
    }
   ],
   "source": [
    "P_P_0_1 = [i+2 for i in range(14)]  #P/P_0 decrease to 0\n",
    "Extr=[1/0.9,1/0.8,1/0.7,1/0.6]      #case when P/P_0 is near of 1\n",
    "P_P_0 = 1 / np.array(Extr + P_P_0_1)\n",
    "pd.DataFrame(P_P_0)#.style.format(precision=2)"
   ]
  },
  {
   "cell_type": "markdown",
   "metadata": {},
   "source": [
    "Find the Mach number of the flow at radius where the shocked shell will form, assuming that the flow ram pressure is equal to the ambient pressure. \n",
    "\n",
    "Now we use the pressure equation to find the mach number\n",
    "\n",
    "$$\\frac{P}{P_0}=\\frac{1+M^2}{2}exp\\Big(\\frac{1-M^2}{2}\\Big)$$"
   ]
  },
  {
   "cell_type": "code",
   "execution_count": 5,
   "metadata": {
    "pycharm": {
     "name": "#%%\n"
    }
   },
   "outputs": [
    {
     "data": {
      "text/plain": [
       "array([1.43653166, 1.62750626, 1.78737193, 1.93722551, 2.0872695 ,\n",
       "       2.36189814, 2.52690899, 2.64359919, 2.73319847, 2.80555349,\n",
       "       2.86601589, 2.91780729, 2.96301204, 3.00305324, 3.03894401,\n",
       "       3.07143012, 3.10107584, 3.12831796])"
      ]
     },
     "execution_count": 5,
     "metadata": {},
     "output_type": "execute_result"
    }
   ],
   "source": [
    "def func_to_find_M0(x):\n",
    "    \"\"\"Should be called with vector argument of same length as P_P_0\"\"\"\n",
    "    return ((1+x**2)/2)*(e**((1-x**2)/2)) - P_P_0 #equation to find the root\n",
    "\n",
    "M0 = fsolve(func_to_find_M0, 1.5 * np.ones_like(P_P_0)) \n",
    "#we find the mach number to differents ratio of P/P_0\n",
    "M0"
   ]
  },
  {
   "cell_type": "markdown",
   "metadata": {},
   "source": [
    "Find the other parameters of the shocked shell: $r_1 / r_0$, $n_1 / n_0$ (density just before shock). \n",
    "\n",
    "The equations for $r_1$ and $\\rho_1$ are $$\\frac{\\rho_1}{\\rho_0}=e^{\\frac{1-M^2}{2}}$$ and $$\\frac{r_1}{r_0}=M^{-1/\\alpha}e^{\\frac{M^2-1}{2 \\alpha}}$$\n",
    "\n",
    "We will make numpy arrays for all the quantities that we want to calculate. The dataframe will be used only for presentation."
   ]
  },
  {
   "cell_type": "code",
   "execution_count": 6,
   "metadata": {},
   "outputs": [],
   "source": [
    "alpha=2      #spherical case\n",
    "rho1 = np.exp((1-M0**2)/2)\n",
    "r1 = (M0**(-1/alpha))*np.exp((M0**2-1)/(2*alpha))"
   ]
  },
  {
   "cell_type": "code",
   "execution_count": 7,
   "metadata": {},
   "outputs": [
    {
     "data": {
      "text/html": [
       "<div>\n",
       "<style scoped>\n",
       "    .dataframe tbody tr th:only-of-type {\n",
       "        vertical-align: middle;\n",
       "    }\n",
       "\n",
       "    .dataframe tbody tr th {\n",
       "        vertical-align: top;\n",
       "    }\n",
       "\n",
       "    .dataframe thead th {\n",
       "        text-align: right;\n",
       "    }\n",
       "</style>\n",
       "<table border=\"1\" class=\"dataframe\">\n",
       "  <thead>\n",
       "    <tr style=\"text-align: right;\">\n",
       "      <th></th>\n",
       "      <th>$P_1/P_0$</th>\n",
       "      <th>$M_0$</th>\n",
       "      <th>$\\rho_1/\\rho_0$</th>\n",
       "      <th>$r_1/r_0$</th>\n",
       "    </tr>\n",
       "  </thead>\n",
       "  <tbody>\n",
       "    <tr>\n",
       "      <th>0</th>\n",
       "      <td>0.900000</td>\n",
       "      <td>1.436532</td>\n",
       "      <td>0.587540</td>\n",
       "      <td>1.088488</td>\n",
       "    </tr>\n",
       "    <tr>\n",
       "      <th>1</th>\n",
       "      <td>0.800000</td>\n",
       "      <td>1.627506</td>\n",
       "      <td>0.438503</td>\n",
       "      <td>1.183729</td>\n",
       "    </tr>\n",
       "    <tr>\n",
       "      <th>2</th>\n",
       "      <td>0.700000</td>\n",
       "      <td>1.787372</td>\n",
       "      <td>0.333755</td>\n",
       "      <td>1.294729</td>\n",
       "    </tr>\n",
       "    <tr>\n",
       "      <th>3</th>\n",
       "      <td>0.600000</td>\n",
       "      <td>1.937226</td>\n",
       "      <td>0.252480</td>\n",
       "      <td>1.429868</td>\n",
       "    </tr>\n",
       "    <tr>\n",
       "      <th>4</th>\n",
       "      <td>0.500000</td>\n",
       "      <td>2.087270</td>\n",
       "      <td>0.186682</td>\n",
       "      <td>1.601988</td>\n",
       "    </tr>\n",
       "    <tr>\n",
       "      <th>5</th>\n",
       "      <td>0.333333</td>\n",
       "      <td>2.361898</td>\n",
       "      <td>0.101339</td>\n",
       "      <td>2.043998</td>\n",
       "    </tr>\n",
       "    <tr>\n",
       "      <th>6</th>\n",
       "      <td>0.250000</td>\n",
       "      <td>2.526909</td>\n",
       "      <td>0.067702</td>\n",
       "      <td>2.417705</td>\n",
       "    </tr>\n",
       "    <tr>\n",
       "      <th>7</th>\n",
       "      <td>0.200000</td>\n",
       "      <td>2.643599</td>\n",
       "      <td>0.050071</td>\n",
       "      <td>2.748578</td>\n",
       "    </tr>\n",
       "    <tr>\n",
       "      <th>8</th>\n",
       "      <td>0.166667</td>\n",
       "      <td>2.733198</td>\n",
       "      <td>0.039353</td>\n",
       "      <td>3.049133</td>\n",
       "    </tr>\n",
       "    <tr>\n",
       "      <th>9</th>\n",
       "      <td>0.142857</td>\n",
       "      <td>2.805553</td>\n",
       "      <td>0.032207</td>\n",
       "      <td>3.326705</td>\n",
       "    </tr>\n",
       "    <tr>\n",
       "      <th>10</th>\n",
       "      <td>0.125000</td>\n",
       "      <td>2.866016</td>\n",
       "      <td>0.027132</td>\n",
       "      <td>3.586046</td>\n",
       "    </tr>\n",
       "    <tr>\n",
       "      <th>11</th>\n",
       "      <td>0.111111</td>\n",
       "      <td>2.917807</td>\n",
       "      <td>0.023358</td>\n",
       "      <td>3.830455</td>\n",
       "    </tr>\n",
       "    <tr>\n",
       "      <th>12</th>\n",
       "      <td>0.100000</td>\n",
       "      <td>2.963012</td>\n",
       "      <td>0.020451</td>\n",
       "      <td>4.062331</td>\n",
       "    </tr>\n",
       "    <tr>\n",
       "      <th>13</th>\n",
       "      <td>0.090909</td>\n",
       "      <td>3.003053</td>\n",
       "      <td>0.018149</td>\n",
       "      <td>4.283487</td>\n",
       "    </tr>\n",
       "    <tr>\n",
       "      <th>14</th>\n",
       "      <td>0.083333</td>\n",
       "      <td>3.038944</td>\n",
       "      <td>0.016284</td>\n",
       "      <td>4.495335</td>\n",
       "    </tr>\n",
       "    <tr>\n",
       "      <th>15</th>\n",
       "      <td>0.076923</td>\n",
       "      <td>3.071430</td>\n",
       "      <td>0.014745</td>\n",
       "      <td>4.698997</td>\n",
       "    </tr>\n",
       "    <tr>\n",
       "      <th>16</th>\n",
       "      <td>0.071429</td>\n",
       "      <td>3.101076</td>\n",
       "      <td>0.013456</td>\n",
       "      <td>4.895387</td>\n",
       "    </tr>\n",
       "    <tr>\n",
       "      <th>17</th>\n",
       "      <td>0.066667</td>\n",
       "      <td>3.128318</td>\n",
       "      <td>0.012361</td>\n",
       "      <td>5.085257</td>\n",
       "    </tr>\n",
       "  </tbody>\n",
       "</table>\n",
       "</div>"
      ],
      "text/plain": [
       "    $P_1/P_0$     $M_0$  $\\rho_1/\\rho_0$  $r_1/r_0$\n",
       "0    0.900000  1.436532         0.587540   1.088488\n",
       "1    0.800000  1.627506         0.438503   1.183729\n",
       "2    0.700000  1.787372         0.333755   1.294729\n",
       "3    0.600000  1.937226         0.252480   1.429868\n",
       "4    0.500000  2.087270         0.186682   1.601988\n",
       "5    0.333333  2.361898         0.101339   2.043998\n",
       "6    0.250000  2.526909         0.067702   2.417705\n",
       "7    0.200000  2.643599         0.050071   2.748578\n",
       "8    0.166667  2.733198         0.039353   3.049133\n",
       "9    0.142857  2.805553         0.032207   3.326705\n",
       "10   0.125000  2.866016         0.027132   3.586046\n",
       "11   0.111111  2.917807         0.023358   3.830455\n",
       "12   0.100000  2.963012         0.020451   4.062331\n",
       "13   0.090909  3.003053         0.018149   4.283487\n",
       "14   0.083333  3.038944         0.016284   4.495335\n",
       "15   0.076923  3.071430         0.014745   4.698997\n",
       "16   0.071429  3.101076         0.013456   4.895387\n",
       "17   0.066667  3.128318         0.012361   5.085257"
      ]
     },
     "execution_count": 7,
     "metadata": {},
     "output_type": "execute_result"
    }
   ],
   "source": [
    "Table1 = pd.DataFrame(\n",
    "    {\n",
    "        r'$P_1/P_0$': P_P_0,\n",
    "        r'$M_0$': M0,\n",
    "        r'$\\rho_1/\\rho_0$': rho1,\n",
    "        r'$r_1/r_0$': r1,\n",
    "    }\n",
    ")\n",
    "Table1#.style.format(precision = 2)"
   ]
  },
  {
   "cell_type": "markdown",
   "metadata": {},
   "source": [
    "Find the properties of the shocked shell itself (density and thickness): $n_2 / n_0$, $h_2 / h_0$. \n",
    "\n",
    "For density we have that in the shock shell  from $\\rho_1 M_1=\\rho_2M_2$, where $M_2=M_1^{-1}$, therefore\n",
    "$$\\frac{\\rho_2}{\\rho_0}=(\\rho_2/\\rho_1)(\\rho_1/\\rho_0)=M_1^2(\\rho_1/\\rho_0)$$\n",
    "\n",
    "and for $h_2/h_0$ we have that in  the shock shell $h_2/r_1=\\frac{3}{4M_1^2}$ hence\n",
    "$$\\frac{h_2}{r_0}=(h_2/r_1)(r_1/r_0)=\\frac{3}{4M_1^2}\\frac{r_1}{r_0}$$"
   ]
  },
  {
   "cell_type": "code",
   "execution_count": 8,
   "metadata": {},
   "outputs": [],
   "source": [
    "rho2 = (M0**2)*rho1\n",
    "h2 = (3/(4*M0**2)) * r1"
   ]
  },
  {
   "cell_type": "code",
   "execution_count": 9,
   "metadata": {},
   "outputs": [
    {
     "data": {
      "text/html": [
       "<div>\n",
       "<style scoped>\n",
       "    .dataframe tbody tr th:only-of-type {\n",
       "        vertical-align: middle;\n",
       "    }\n",
       "\n",
       "    .dataframe tbody tr th {\n",
       "        vertical-align: top;\n",
       "    }\n",
       "\n",
       "    .dataframe thead th {\n",
       "        text-align: right;\n",
       "    }\n",
       "</style>\n",
       "<table border=\"1\" class=\"dataframe\">\n",
       "  <thead>\n",
       "    <tr style=\"text-align: right;\">\n",
       "      <th></th>\n",
       "      <th>$P_1/P_0$</th>\n",
       "      <th>$M_0$</th>\n",
       "      <th>$\\rho_2/\\rho_0$</th>\n",
       "      <th>$h_2/r_0$</th>\n",
       "    </tr>\n",
       "  </thead>\n",
       "  <tbody>\n",
       "    <tr>\n",
       "      <th>0</th>\n",
       "      <td>0.900000</td>\n",
       "      <td>1.436532</td>\n",
       "      <td>1.212460</td>\n",
       "      <td>0.395599</td>\n",
       "    </tr>\n",
       "    <tr>\n",
       "      <th>1</th>\n",
       "      <td>0.800000</td>\n",
       "      <td>1.627506</td>\n",
       "      <td>1.161497</td>\n",
       "      <td>0.335172</td>\n",
       "    </tr>\n",
       "    <tr>\n",
       "      <th>2</th>\n",
       "      <td>0.700000</td>\n",
       "      <td>1.787372</td>\n",
       "      <td>1.066245</td>\n",
       "      <td>0.303956</td>\n",
       "    </tr>\n",
       "    <tr>\n",
       "      <th>3</th>\n",
       "      <td>0.600000</td>\n",
       "      <td>1.937226</td>\n",
       "      <td>0.947520</td>\n",
       "      <td>0.285757</td>\n",
       "    </tr>\n",
       "    <tr>\n",
       "      <th>4</th>\n",
       "      <td>0.500000</td>\n",
       "      <td>2.087270</td>\n",
       "      <td>0.813318</td>\n",
       "      <td>0.275780</td>\n",
       "    </tr>\n",
       "    <tr>\n",
       "      <th>5</th>\n",
       "      <td>0.333333</td>\n",
       "      <td>2.361898</td>\n",
       "      <td>0.565327</td>\n",
       "      <td>0.274802</td>\n",
       "    </tr>\n",
       "    <tr>\n",
       "      <th>6</th>\n",
       "      <td>0.250000</td>\n",
       "      <td>2.526909</td>\n",
       "      <td>0.432298</td>\n",
       "      <td>0.283978</td>\n",
       "    </tr>\n",
       "    <tr>\n",
       "      <th>7</th>\n",
       "      <td>0.200000</td>\n",
       "      <td>2.643599</td>\n",
       "      <td>0.349929</td>\n",
       "      <td>0.294970</td>\n",
       "    </tr>\n",
       "    <tr>\n",
       "      <th>8</th>\n",
       "      <td>0.166667</td>\n",
       "      <td>2.733198</td>\n",
       "      <td>0.293980</td>\n",
       "      <td>0.306123</td>\n",
       "    </tr>\n",
       "    <tr>\n",
       "      <th>9</th>\n",
       "      <td>0.142857</td>\n",
       "      <td>2.805553</td>\n",
       "      <td>0.253507</td>\n",
       "      <td>0.316985</td>\n",
       "    </tr>\n",
       "    <tr>\n",
       "      <th>10</th>\n",
       "      <td>0.125000</td>\n",
       "      <td>2.866016</td>\n",
       "      <td>0.222868</td>\n",
       "      <td>0.327431</td>\n",
       "    </tr>\n",
       "    <tr>\n",
       "      <th>11</th>\n",
       "      <td>0.111111</td>\n",
       "      <td>2.917807</td>\n",
       "      <td>0.198864</td>\n",
       "      <td>0.337441</td>\n",
       "    </tr>\n",
       "    <tr>\n",
       "      <th>12</th>\n",
       "      <td>0.100000</td>\n",
       "      <td>2.963012</td>\n",
       "      <td>0.179549</td>\n",
       "      <td>0.347032</td>\n",
       "    </tr>\n",
       "    <tr>\n",
       "      <th>13</th>\n",
       "      <td>0.090909</td>\n",
       "      <td>3.003053</td>\n",
       "      <td>0.163670</td>\n",
       "      <td>0.356232</td>\n",
       "    </tr>\n",
       "    <tr>\n",
       "      <th>14</th>\n",
       "      <td>0.083333</td>\n",
       "      <td>3.038944</td>\n",
       "      <td>0.150383</td>\n",
       "      <td>0.365071</td>\n",
       "    </tr>\n",
       "    <tr>\n",
       "      <th>15</th>\n",
       "      <td>0.076923</td>\n",
       "      <td>3.071430</td>\n",
       "      <td>0.139101</td>\n",
       "      <td>0.373581</td>\n",
       "    </tr>\n",
       "    <tr>\n",
       "      <th>16</th>\n",
       "      <td>0.071429</td>\n",
       "      <td>3.101076</td>\n",
       "      <td>0.129401</td>\n",
       "      <td>0.381789</td>\n",
       "    </tr>\n",
       "    <tr>\n",
       "      <th>17</th>\n",
       "      <td>0.066667</td>\n",
       "      <td>3.128318</td>\n",
       "      <td>0.120972</td>\n",
       "      <td>0.389720</td>\n",
       "    </tr>\n",
       "  </tbody>\n",
       "</table>\n",
       "</div>"
      ],
      "text/plain": [
       "    $P_1/P_0$     $M_0$  $\\rho_2/\\rho_0$  $h_2/r_0$\n",
       "0    0.900000  1.436532         1.212460   0.395599\n",
       "1    0.800000  1.627506         1.161497   0.335172\n",
       "2    0.700000  1.787372         1.066245   0.303956\n",
       "3    0.600000  1.937226         0.947520   0.285757\n",
       "4    0.500000  2.087270         0.813318   0.275780\n",
       "5    0.333333  2.361898         0.565327   0.274802\n",
       "6    0.250000  2.526909         0.432298   0.283978\n",
       "7    0.200000  2.643599         0.349929   0.294970\n",
       "8    0.166667  2.733198         0.293980   0.306123\n",
       "9    0.142857  2.805553         0.253507   0.316985\n",
       "10   0.125000  2.866016         0.222868   0.327431\n",
       "11   0.111111  2.917807         0.198864   0.337441\n",
       "12   0.100000  2.963012         0.179549   0.347032\n",
       "13   0.090909  3.003053         0.163670   0.356232\n",
       "14   0.083333  3.038944         0.150383   0.365071\n",
       "15   0.076923  3.071430         0.139101   0.373581\n",
       "16   0.071429  3.101076         0.129401   0.381789\n",
       "17   0.066667  3.128318         0.120972   0.389720"
      ]
     },
     "execution_count": 9,
     "metadata": {},
     "output_type": "execute_result"
    }
   ],
   "source": [
    "Table2=pd.DataFrame()\n",
    "Table2[rf'$P_1/P_0$'] = P_P_0\n",
    "Table2[rf'$M_0$'] = M0\n",
    "Table2[rf'$\\rho_2/\\rho_0$'] = rho2\n",
    "Table2[rf'$h_2/r_0$'] = h2\n",
    "Table2"
   ]
  },
  {
   "cell_type": "markdown",
   "metadata": {
    "pycharm": {
     "name": "#%%\n"
    }
   },
   "source": [
    "## Emission measure of shocked shell"
   ]
  },
  {
   "cell_type": "markdown",
   "metadata": {},
   "source": [
    "This has two parts:\n",
    "1. The emission measure in the radial direction, which is needed in order to know the contriibution of the recombinations in shell to the ionization balance\n",
    "2. The emission measure in the tangential direction, which is proportional to the surface brightness. "
   ]
  },
  {
   "cell_type": "markdown",
   "metadata": {},
   "source": [
    "For the radial case, we have $EM_2 / EM_0 = (n_2 /  n_0)^2 (h_2 / h_0)$"
   ]
  },
  {
   "cell_type": "code",
   "execution_count": 10,
   "metadata": {},
   "outputs": [
    {
     "data": {
      "text/plain": [
       "array([4.78676505, 3.72183091, 2.84430994, 2.11166761, 1.50153727,\n",
       "       0.72288947, 0.43682099, 0.29729637, 0.21776325, 0.167676  ,\n",
       "       0.13386463, 0.10984048, 0.09208475, 0.07854548, 0.06795595,\n",
       "       0.05949741, 0.0526202 , 0.04694343])"
      ]
     },
     "execution_count": 10,
     "metadata": {},
     "output_type": "execute_result"
    }
   ],
   "source": [
    "EM2a = (rho2)**2 * h2 / h_0\n",
    "EM2a"
   ]
  },
  {
   "cell_type": "markdown",
   "metadata": {},
   "source": [
    "For the tangential case, we have the following:\n",
    "\n",
    "\n",
    "The emission measure is $EM=n^2\\ell$ where $\\ell=2(hr)^{1/2}$\n",
    "and therefore the relative emission is $$\\frac{EM_2}{EM_0}=\\Big(\\frac{n_2}{n_0}\\Big)^2\\frac{\\ell_1}{\\ell_2}$$ \n",
    "here we use that in our data $r_1$ and $\\rho_1$ are normalized by $r_0$ and $\\rho_0$ but for $h_2$ is normalized by $r_0$ and not by $h_0$, but in our calculation we find that $h_0\\approx 0.12r_0$  hence $\\frac{h_1}{r_0}=0.12(\\frac{h_2}{h_0})$ and we have"
   ]
  },
  {
   "cell_type": "code",
   "execution_count": 11,
   "metadata": {},
   "outputs": [
    {
     "data": {
      "text/plain": [
       "0.12149200100709526"
      ]
     },
     "execution_count": 11,
     "metadata": {},
     "output_type": "execute_result"
    }
   ],
   "source": [
    "h_0"
   ]
  },
  {
   "cell_type": "code",
   "execution_count": 12,
   "metadata": {},
   "outputs": [
    {
     "data": {
      "text/plain": [
       "array([2.76758218, 2.43793721, 2.04613867, 1.64645152, 1.2614146 ,\n",
       "       0.68718911, 0.44425908, 0.31632129, 0.23955154, 0.18933577,\n",
       "       0.15441435, 0.12899184, 0.10981567, 0.09493523, 0.08311767,\n",
       "       0.07354987, 0.06567622, 0.05910564])"
      ]
     },
     "execution_count": 12,
     "metadata": {},
     "output_type": "execute_result"
    }
   ],
   "source": [
    "EM2=(rho2)**2*(r1*h2/h_0)**(1/2)\n",
    "EM2"
   ]
  },
  {
   "cell_type": "markdown",
   "metadata": {},
   "source": [
    "## Display tall the results in a single table"
   ]
  },
  {
   "cell_type": "code",
   "execution_count": 13,
   "metadata": {},
   "outputs": [
    {
     "data": {
      "text/html": [
       "<div>\n",
       "<style scoped>\n",
       "    .dataframe tbody tr th:only-of-type {\n",
       "        vertical-align: middle;\n",
       "    }\n",
       "\n",
       "    .dataframe tbody tr th {\n",
       "        vertical-align: top;\n",
       "    }\n",
       "\n",
       "    .dataframe thead th {\n",
       "        text-align: right;\n",
       "    }\n",
       "</style>\n",
       "<table border=\"1\" class=\"dataframe\">\n",
       "  <thead>\n",
       "    <tr style=\"text-align: right;\">\n",
       "      <th></th>\n",
       "      <th>$P_1/P_0$</th>\n",
       "      <th>$M_0$</th>\n",
       "      <th>$\\rho_1/\\rho_0$</th>\n",
       "      <th>$r_1/r_0$</th>\n",
       "      <th>$\\rho_2/\\rho_0$</th>\n",
       "      <th>$h_2/r_0$</th>\n",
       "      <th>$E_2/E_0$</th>\n",
       "      <th>$S_2/S_0$</th>\n",
       "    </tr>\n",
       "  </thead>\n",
       "  <tbody>\n",
       "    <tr>\n",
       "      <th>0</th>\n",
       "      <td>0.900000</td>\n",
       "      <td>1.436532</td>\n",
       "      <td>0.587540</td>\n",
       "      <td>1.088488</td>\n",
       "      <td>1.212460</td>\n",
       "      <td>0.395599</td>\n",
       "      <td>4.786765</td>\n",
       "      <td>2.767582</td>\n",
       "    </tr>\n",
       "    <tr>\n",
       "      <th>1</th>\n",
       "      <td>0.800000</td>\n",
       "      <td>1.627506</td>\n",
       "      <td>0.438503</td>\n",
       "      <td>1.183729</td>\n",
       "      <td>1.161497</td>\n",
       "      <td>0.335172</td>\n",
       "      <td>3.721831</td>\n",
       "      <td>2.437937</td>\n",
       "    </tr>\n",
       "    <tr>\n",
       "      <th>2</th>\n",
       "      <td>0.700000</td>\n",
       "      <td>1.787372</td>\n",
       "      <td>0.333755</td>\n",
       "      <td>1.294729</td>\n",
       "      <td>1.066245</td>\n",
       "      <td>0.303956</td>\n",
       "      <td>2.844310</td>\n",
       "      <td>2.046139</td>\n",
       "    </tr>\n",
       "    <tr>\n",
       "      <th>3</th>\n",
       "      <td>0.600000</td>\n",
       "      <td>1.937226</td>\n",
       "      <td>0.252480</td>\n",
       "      <td>1.429868</td>\n",
       "      <td>0.947520</td>\n",
       "      <td>0.285757</td>\n",
       "      <td>2.111668</td>\n",
       "      <td>1.646452</td>\n",
       "    </tr>\n",
       "    <tr>\n",
       "      <th>4</th>\n",
       "      <td>0.500000</td>\n",
       "      <td>2.087270</td>\n",
       "      <td>0.186682</td>\n",
       "      <td>1.601988</td>\n",
       "      <td>0.813318</td>\n",
       "      <td>0.275780</td>\n",
       "      <td>1.501537</td>\n",
       "      <td>1.261415</td>\n",
       "    </tr>\n",
       "    <tr>\n",
       "      <th>5</th>\n",
       "      <td>0.333333</td>\n",
       "      <td>2.361898</td>\n",
       "      <td>0.101339</td>\n",
       "      <td>2.043998</td>\n",
       "      <td>0.565327</td>\n",
       "      <td>0.274802</td>\n",
       "      <td>0.722889</td>\n",
       "      <td>0.687189</td>\n",
       "    </tr>\n",
       "    <tr>\n",
       "      <th>6</th>\n",
       "      <td>0.250000</td>\n",
       "      <td>2.526909</td>\n",
       "      <td>0.067702</td>\n",
       "      <td>2.417705</td>\n",
       "      <td>0.432298</td>\n",
       "      <td>0.283978</td>\n",
       "      <td>0.436821</td>\n",
       "      <td>0.444259</td>\n",
       "    </tr>\n",
       "    <tr>\n",
       "      <th>7</th>\n",
       "      <td>0.200000</td>\n",
       "      <td>2.643599</td>\n",
       "      <td>0.050071</td>\n",
       "      <td>2.748578</td>\n",
       "      <td>0.349929</td>\n",
       "      <td>0.294970</td>\n",
       "      <td>0.297296</td>\n",
       "      <td>0.316321</td>\n",
       "    </tr>\n",
       "    <tr>\n",
       "      <th>8</th>\n",
       "      <td>0.166667</td>\n",
       "      <td>2.733198</td>\n",
       "      <td>0.039353</td>\n",
       "      <td>3.049133</td>\n",
       "      <td>0.293980</td>\n",
       "      <td>0.306123</td>\n",
       "      <td>0.217763</td>\n",
       "      <td>0.239552</td>\n",
       "    </tr>\n",
       "    <tr>\n",
       "      <th>9</th>\n",
       "      <td>0.142857</td>\n",
       "      <td>2.805553</td>\n",
       "      <td>0.032207</td>\n",
       "      <td>3.326705</td>\n",
       "      <td>0.253507</td>\n",
       "      <td>0.316985</td>\n",
       "      <td>0.167676</td>\n",
       "      <td>0.189336</td>\n",
       "    </tr>\n",
       "    <tr>\n",
       "      <th>10</th>\n",
       "      <td>0.125000</td>\n",
       "      <td>2.866016</td>\n",
       "      <td>0.027132</td>\n",
       "      <td>3.586046</td>\n",
       "      <td>0.222868</td>\n",
       "      <td>0.327431</td>\n",
       "      <td>0.133865</td>\n",
       "      <td>0.154414</td>\n",
       "    </tr>\n",
       "    <tr>\n",
       "      <th>11</th>\n",
       "      <td>0.111111</td>\n",
       "      <td>2.917807</td>\n",
       "      <td>0.023358</td>\n",
       "      <td>3.830455</td>\n",
       "      <td>0.198864</td>\n",
       "      <td>0.337441</td>\n",
       "      <td>0.109840</td>\n",
       "      <td>0.128992</td>\n",
       "    </tr>\n",
       "    <tr>\n",
       "      <th>12</th>\n",
       "      <td>0.100000</td>\n",
       "      <td>2.963012</td>\n",
       "      <td>0.020451</td>\n",
       "      <td>4.062331</td>\n",
       "      <td>0.179549</td>\n",
       "      <td>0.347032</td>\n",
       "      <td>0.092085</td>\n",
       "      <td>0.109816</td>\n",
       "    </tr>\n",
       "    <tr>\n",
       "      <th>13</th>\n",
       "      <td>0.090909</td>\n",
       "      <td>3.003053</td>\n",
       "      <td>0.018149</td>\n",
       "      <td>4.283487</td>\n",
       "      <td>0.163670</td>\n",
       "      <td>0.356232</td>\n",
       "      <td>0.078545</td>\n",
       "      <td>0.094935</td>\n",
       "    </tr>\n",
       "    <tr>\n",
       "      <th>14</th>\n",
       "      <td>0.083333</td>\n",
       "      <td>3.038944</td>\n",
       "      <td>0.016284</td>\n",
       "      <td>4.495335</td>\n",
       "      <td>0.150383</td>\n",
       "      <td>0.365071</td>\n",
       "      <td>0.067956</td>\n",
       "      <td>0.083118</td>\n",
       "    </tr>\n",
       "    <tr>\n",
       "      <th>15</th>\n",
       "      <td>0.076923</td>\n",
       "      <td>3.071430</td>\n",
       "      <td>0.014745</td>\n",
       "      <td>4.698997</td>\n",
       "      <td>0.139101</td>\n",
       "      <td>0.373581</td>\n",
       "      <td>0.059497</td>\n",
       "      <td>0.073550</td>\n",
       "    </tr>\n",
       "    <tr>\n",
       "      <th>16</th>\n",
       "      <td>0.071429</td>\n",
       "      <td>3.101076</td>\n",
       "      <td>0.013456</td>\n",
       "      <td>4.895387</td>\n",
       "      <td>0.129401</td>\n",
       "      <td>0.381789</td>\n",
       "      <td>0.052620</td>\n",
       "      <td>0.065676</td>\n",
       "    </tr>\n",
       "    <tr>\n",
       "      <th>17</th>\n",
       "      <td>0.066667</td>\n",
       "      <td>3.128318</td>\n",
       "      <td>0.012361</td>\n",
       "      <td>5.085257</td>\n",
       "      <td>0.120972</td>\n",
       "      <td>0.389720</td>\n",
       "      <td>0.046943</td>\n",
       "      <td>0.059106</td>\n",
       "    </tr>\n",
       "  </tbody>\n",
       "</table>\n",
       "</div>"
      ],
      "text/plain": [
       "    $P_1/P_0$     $M_0$  $\\rho_1/\\rho_0$  $r_1/r_0$  $\\rho_2/\\rho_0$  \\\n",
       "0    0.900000  1.436532         0.587540   1.088488         1.212460   \n",
       "1    0.800000  1.627506         0.438503   1.183729         1.161497   \n",
       "2    0.700000  1.787372         0.333755   1.294729         1.066245   \n",
       "3    0.600000  1.937226         0.252480   1.429868         0.947520   \n",
       "4    0.500000  2.087270         0.186682   1.601988         0.813318   \n",
       "5    0.333333  2.361898         0.101339   2.043998         0.565327   \n",
       "6    0.250000  2.526909         0.067702   2.417705         0.432298   \n",
       "7    0.200000  2.643599         0.050071   2.748578         0.349929   \n",
       "8    0.166667  2.733198         0.039353   3.049133         0.293980   \n",
       "9    0.142857  2.805553         0.032207   3.326705         0.253507   \n",
       "10   0.125000  2.866016         0.027132   3.586046         0.222868   \n",
       "11   0.111111  2.917807         0.023358   3.830455         0.198864   \n",
       "12   0.100000  2.963012         0.020451   4.062331         0.179549   \n",
       "13   0.090909  3.003053         0.018149   4.283487         0.163670   \n",
       "14   0.083333  3.038944         0.016284   4.495335         0.150383   \n",
       "15   0.076923  3.071430         0.014745   4.698997         0.139101   \n",
       "16   0.071429  3.101076         0.013456   4.895387         0.129401   \n",
       "17   0.066667  3.128318         0.012361   5.085257         0.120972   \n",
       "\n",
       "    $h_2/r_0$  $E_2/E_0$  $S_2/S_0$  \n",
       "0    0.395599   4.786765   2.767582  \n",
       "1    0.335172   3.721831   2.437937  \n",
       "2    0.303956   2.844310   2.046139  \n",
       "3    0.285757   2.111668   1.646452  \n",
       "4    0.275780   1.501537   1.261415  \n",
       "5    0.274802   0.722889   0.687189  \n",
       "6    0.283978   0.436821   0.444259  \n",
       "7    0.294970   0.297296   0.316321  \n",
       "8    0.306123   0.217763   0.239552  \n",
       "9    0.316985   0.167676   0.189336  \n",
       "10   0.327431   0.133865   0.154414  \n",
       "11   0.337441   0.109840   0.128992  \n",
       "12   0.347032   0.092085   0.109816  \n",
       "13   0.356232   0.078545   0.094935  \n",
       "14   0.365071   0.067956   0.083118  \n",
       "15   0.373581   0.059497   0.073550  \n",
       "16   0.381789   0.052620   0.065676  \n",
       "17   0.389720   0.046943   0.059106  "
      ]
     },
     "execution_count": 13,
     "metadata": {},
     "output_type": "execute_result"
    }
   ],
   "source": [
    "df = pd.DataFrame(\n",
    "    {\n",
    "        r'$P_1/P_0$': P_P_0,\n",
    "        r'$M_0$': M0,\n",
    "        r'$\\rho_1/\\rho_0$': rho1,\n",
    "        r'$r_1/r_0$': r1,\n",
    "        r'$\\rho_2/\\rho_0$': rho2,\n",
    "        r'$h_2/r_0$': h2,\n",
    "        r'$E_2/E_0$': EM2a,\n",
    "        r'$S_2/S_0$': EM2,\n",
    "    }\n",
    ")\n",
    "df"
   ]
  },
  {
   "cell_type": "markdown",
   "metadata": {},
   "source": [
    "The column $E_2/E_0$ is for the perpendicular emission measure, while $S_2/S_0$ is for the tangential emission measure."
   ]
  },
  {
   "cell_type": "markdown",
   "metadata": {},
   "source": [
    "*Roberto, please make a plot of these quantities, using the shell radius as the indendent variable*. "
   ]
  },
  {
   "cell_type": "code",
   "execution_count": 21,
   "metadata": {},
   "outputs": [
    {
     "data": {
      "image/png": "[encoded data removed]",
      "text/plain": [
       "<Figure size 936x792 with 1 Axes>"
      ]
     },
     "metadata": {
      "needs_background": "light"
     },
     "output_type": "display_data"
    }
   ],
   "source": [
    "plt.plot(r1,P_P_0,label=r'$P/P_0$')\n",
    "plt.plot(r1,EM2a,label=r'$E_2/E_0$ perpendicular emission measure ')\n",
    "plt.plot(r1,EM2,label=r'$S_2/S_0$ tangential emission measure ')\n",
    "#plt.plot(r1,M0,label=r'$M_0$')\n",
    "#plt.plot(r1,rho1,label=r'$\\rho_1/\\rho_0$')\n",
    "#plt.plot(r1,rho2,label=r'$\\rho_2/\\rho_0$')\n",
    "#plt.plot(r1,h2,label=r'$h_2/r_0$')\n",
    "plt.xlabel(r'$r_1/r_0$')\n",
    "plt.legend()\n",
    "plt.yscale('log')\n",
    "plt.xscale('log')\n",
    "plt.show()"
   ]
  },
  {
   "cell_type": "code",
   "execution_count": 22,
   "metadata": {},
   "outputs": [
    {
     "data": {
      "image/png": "[encoded data removed]",
      "text/plain": [
       "<Figure size 936x792 with 1 Axes>"
      ]
     },
     "metadata": {
      "needs_background": "light"
     },
     "output_type": "display_data"
    }
   ],
   "source": [
    "#plt.plot(r1,P_P_0,label=r'$P/P_0$')\n",
    "#plt.plot(r1,EM2a,label=r'$E_2/E_0$ perpendicular emission measure ')\n",
    "#plt.plot(r1,EM2,label=r'$S_2/S_0$ tangential emission measure ')\n",
    "plt.plot(r1,M0,label=r'$M_0$')\n",
    "plt.plot(r1,rho1,label=r'$\\rho_1/\\rho_0$')\n",
    "plt.plot(r1,rho2,label=r'$\\rho_2/\\rho_0$')\n",
    "plt.plot(r1,h2,label=r'$h_2/r_0$')\n",
    "plt.xlabel(r'$r_1/r_0$')\n",
    "plt.legend()\n",
    "plt.yscale('log')\n",
    "plt.xscale('log')\n",
    "plt.show()"
   ]
  },
  {
   "cell_type": "code",
   "execution_count": null,
   "metadata": {},
   "outputs": [],
   "source": []
  }
 ],
 "metadata": {
  "kernelspec": {
   "display_name": "Python 3",
   "language": "python",
   "name": "python3"
  },
  "language_info": {
   "codemirror_mode": {
    "name": "ipython",
    "version": 3
   },
   "file_extension": ".py",
   "mimetype": "text/x-python",
   "name": "python",
   "nbconvert_exporter": "python",
   "pygments_lexer": "ipython3",
   "version": "3.8.5"
  }
 },
 "nbformat": 4,
 "nbformat_minor": 4
}
