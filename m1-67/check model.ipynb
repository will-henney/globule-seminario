{
 "cells": [
  {
   "cell_type": "code",
   "execution_count": 1,
   "metadata": {},
   "outputs": [
    {
     "name": "stderr",
     "output_type": "stream",
     "text": [
      "/home/roberto/anaconda3/lib/python3.8/site-packages/pandas/core/computation/expressions.py:20: UserWarning: Pandas requires version '2.7.3' or newer of 'numexpr' (version '2.7.1' currently installed).\n",
      "  from pandas.core.computation.check import NUMEXPR_INSTALLED\n"
     ]
    }
   ],
   "source": [
    "from astropy.io import fits\n",
    "import pyregion\n",
    "import numpy as np\n",
    "import matplotlib.pyplot as plt\n",
    "from astropy import units as u\n",
    "from astropy import constants as cte \n",
    "import regions\n",
    "from astropy.wcs import WCS\n",
    "import cmasher as cm\n",
    "import seaborn as sn\n",
    "from discrete_gaussian_model import DiscreteGaussianModel\n",
    "from astropy.nddata import Cutout2D\n",
    "from astropy.coordinates import Angle\n",
    "from astropy.modeling import models, fitting\n",
    "from astropy.modeling.models import Const1D\n",
    "from astropy.table import QTable, Table\n",
    "from astropy.coordinates import SkyCoord\n",
    "FITTER = fitting.LevMarLSQFitter()"
   ]
  },
  {
   "cell_type": "code",
   "execution_count": 2,
   "metadata": {},
   "outputs": [],
   "source": [
    "D = 5429*u.pc                      # conversation with Jane\n",
    "v_inf = 710*u.km*(1/u.second)      # Hanmman\n",
    "M_loss = (2.0E-5)*u.M_sun*(1/u.yr) #Crowther 1999\n",
    "L = 10**(49.1)*(1/u.second)        # Hanmman"
   ]
  },
  {
   "cell_type": "code",
   "execution_count": 3,
   "metadata": {},
   "outputs": [
    {
     "data": {
      "text/html": [
       "<div><i>QTable length=169</i>\n",
       "<table id=\"table139853212969760\" class=\"table-striped table-bordered table-condensed\">\n",
       "<thead><tr><th>PA</th><th>Sep</th><th>Bcore</th><th>Bshell</th><th>Bbg</th><th>Rcore</th><th>Rshell</th><th>Hshell</th><th>Group</th><th>Lat</th></tr></thead>\n",
       "<thead><tr><th>deg</th><th>arcsec</th><th></th><th></th><th></th><th>arcsec</th><th>arcsec</th><th>arcsec</th><th></th><th>deg</th></tr></thead>\n",
       "<thead><tr><th>float64</th><th>float64</th><th>float64</th><th>float64</th><th>float64</th><th>float64</th><th>float64</th><th>float64</th><th>object</th><th>float64</th></tr></thead>\n",
       "<tr><td>296.28</td><td>2.98</td><td>0.32</td><td>0.25</td><td>0.49</td><td>0.05</td><td>nan</td><td>0.14</td><td>None</td><td>71.28</td></tr>\n",
       "<tr><td>66.85</td><td>3.16</td><td>nan</td><td>nan</td><td>0.73</td><td>nan</td><td>1.10</td><td>nan</td><td>NE-04</td><td>21.85</td></tr>\n",
       "<tr><td>30.92</td><td>3.31</td><td>1.17</td><td>0.41</td><td>0.91</td><td>0.14</td><td>0.45</td><td>0.16</td><td>NE-04</td><td>14.08</td></tr>\n",
       "<tr><td>71.97</td><td>3.52</td><td>0.54</td><td>nan</td><td>0.54</td><td>0.10</td><td>nan</td><td>nan</td><td>NE-04</td><td>26.97</td></tr>\n",
       "<tr><td>16.83</td><td>3.80</td><td>0.64</td><td>nan</td><td>0.82</td><td>0.09</td><td>nan</td><td>nan</td><td>NE-04</td><td>28.17</td></tr>\n",
       "<tr><td>57.69</td><td>4.38</td><td>0.14</td><td>nan</td><td>0.45</td><td>0.06</td><td>1.45</td><td>nan</td><td>NE-04</td><td>12.69</td></tr>\n",
       "<tr><td>337.94</td><td>4.52</td><td>0.53</td><td>0.17</td><td>0.24</td><td>0.11</td><td>0.60</td><td>0.25</td><td>NE-04</td><td>67.06</td></tr>\n",
       "<tr><td>49.98</td><td>4.95</td><td>0.42</td><td>0.11</td><td>0.44</td><td>0.13</td><td>0.71</td><td>0.60</td><td>NE-04</td><td>4.98</td></tr>\n",
       "<tr><td>28.04</td><td>5.43</td><td>nan</td><td>nan</td><td>0.58</td><td>nan</td><td>nan</td><td>nan</td><td>NE-04</td><td>16.96</td></tr>\n",
       "<tr><td>...</td><td>...</td><td>...</td><td>...</td><td>...</td><td>...</td><td>...</td><td>...</td><td>...</td><td>...</td></tr>\n",
       "<tr><td>219.56</td><td>28.42</td><td>0.14</td><td>0.04</td><td>0.32</td><td>0.14</td><td>nan</td><td>0.25</td><td>SW-27</td><td>5.44</td></tr>\n",
       "<tr><td>223.80</td><td>28.60</td><td>0.15</td><td>nan</td><td>0.37</td><td>0.10</td><td>nan</td><td>nan</td><td>SW-27</td><td>1.20</td></tr>\n",
       "<tr><td>243.04</td><td>28.71</td><td>nan</td><td>nan</td><td>0.29</td><td>nan</td><td>nan</td><td>nan</td><td>SW-27</td><td>18.04</td></tr>\n",
       "<tr><td>190.50</td><td>29.29</td><td>0.16</td><td>0.16</td><td>0.13</td><td>0.06</td><td>nan</td><td>0.30</td><td>SW-27</td><td>34.50</td></tr>\n",
       "<tr><td>88.55</td><td>30.80</td><td>0.06</td><td>nan</td><td>0.06</td><td>0.08</td><td>0.55</td><td>0.08</td><td>E-27</td><td>43.55</td></tr>\n",
       "<tr><td>156.45</td><td>32.85</td><td>0.28</td><td>0.12</td><td>0.09</td><td>0.17</td><td>0.61</td><td>0.42</td><td>S-33</td><td>68.55</td></tr>\n",
       "<tr><td>157.04</td><td>33.10</td><td>0.12</td><td>0.17</td><td>0.14</td><td>0.10</td><td>0.10</td><td>0.56</td><td>S-33</td><td>67.96</td></tr>\n",
       "<tr><td>155.78</td><td>33.61</td><td>0.28</td><td>0.08</td><td>0.19</td><td>0.16</td><td>0.76</td><td>0.22</td><td>S-33</td><td>69.22</td></tr>\n",
       "<tr><td>163.51</td><td>33.67</td><td>0.14</td><td>0.20</td><td>0.08</td><td>0.08</td><td>0.30</td><td>0.39</td><td>S-33</td><td>61.49</td></tr>\n",
       "<tr><td>158.04</td><td>35.10</td><td>0.18</td><td>nan</td><td>0.32</td><td>0.14</td><td>nan</td><td>nan</td><td>S-33</td><td>66.96</td></tr>\n",
       "</table></div>"
      ],
      "text/plain": [
       "<QTable length=169>\n",
       "   PA     Sep    Bcore   Bshell   Bbg    Rcore   Rshell  Hshell Group    Lat  \n",
       "  deg    arcsec                          arcsec  arcsec  arcsec          deg  \n",
       "float64 float64 float64 float64 float64 float64 float64 float64 object float64\n",
       "------- ------- ------- ------- ------- ------- ------- ------- ------ -------\n",
       " 296.28    2.98    0.32    0.25    0.49    0.05     nan    0.14   None   71.28\n",
       "  66.85    3.16     nan     nan    0.73     nan    1.10     nan  NE-04   21.85\n",
       "  30.92    3.31    1.17    0.41    0.91    0.14    0.45    0.16  NE-04   14.08\n",
       "  71.97    3.52    0.54     nan    0.54    0.10     nan     nan  NE-04   26.97\n",
       "  16.83    3.80    0.64     nan    0.82    0.09     nan     nan  NE-04   28.17\n",
       "  57.69    4.38    0.14     nan    0.45    0.06    1.45     nan  NE-04   12.69\n",
       " 337.94    4.52    0.53    0.17    0.24    0.11    0.60    0.25  NE-04   67.06\n",
       "  49.98    4.95    0.42    0.11    0.44    0.13    0.71    0.60  NE-04    4.98\n",
       "  28.04    5.43     nan     nan    0.58     nan     nan     nan  NE-04   16.96\n",
       "    ...     ...     ...     ...     ...     ...     ...     ...    ...     ...\n",
       " 219.56   28.42    0.14    0.04    0.32    0.14     nan    0.25  SW-27    5.44\n",
       " 223.80   28.60    0.15     nan    0.37    0.10     nan     nan  SW-27    1.20\n",
       " 243.04   28.71     nan     nan    0.29     nan     nan     nan  SW-27   18.04\n",
       " 190.50   29.29    0.16    0.16    0.13    0.06     nan    0.30  SW-27   34.50\n",
       "  88.55   30.80    0.06     nan    0.06    0.08    0.55    0.08   E-27   43.55\n",
       " 156.45   32.85    0.28    0.12    0.09    0.17    0.61    0.42   S-33   68.55\n",
       " 157.04   33.10    0.12    0.17    0.14    0.10    0.10    0.56   S-33   67.96\n",
       " 155.78   33.61    0.28    0.08    0.19    0.16    0.76    0.22   S-33   69.22\n",
       " 163.51   33.67    0.14    0.20    0.08    0.08    0.30    0.39   S-33   61.49\n",
       " 158.04   35.10    0.18     nan    0.32    0.14     nan     nan   S-33   66.96"
      ]
     },
     "execution_count": 3,
     "metadata": {},
     "output_type": "execute_result"
    }
   ],
   "source": [
    "from astropy.table import QTable, Table\n",
    "datos_HST = QTable.read('m1-67-globule-parameters.ecsv')\n",
    "datos_JWST = QTable.read('m1-67-globule-parameters-JWST.ecsv')\n",
    "datos_HST"
   ]
  },
  {
   "cell_type": "code",
   "execution_count": 4,
   "metadata": {},
   "outputs": [
    {
     "data": {
      "text/html": [
       "<div><i>QTable length=168</i>\n",
       "<table id=\"table139853212576736\" class=\"table-striped table-bordered table-condensed\">\n",
       "<thead><tr><th>PA</th><th>Sep</th><th>Bcore</th><th>Bshell</th><th>Bbg</th><th>Rcore</th><th>Rshell</th><th>Hshell</th></tr></thead>\n",
       "<thead><tr><th>deg</th><th>arcsec</th><th></th><th></th><th></th><th>arcsec</th><th>arcsec</th><th>arcsec</th></tr></thead>\n",
       "<thead><tr><th>float64</th><th>float64</th><th>float64</th><th>float64</th><th>float64</th><th>float64</th><th>float64</th><th>float64</th></tr></thead>\n",
       "<tr><td>296.28</td><td>2.98</td><td>2.50</td><td>2.96</td><td>2.67</td><td>0.07</td><td>0.41</td><td>0.27</td></tr>\n",
       "<tr><td>66.87</td><td>3.15</td><td>1.82</td><td>2.07</td><td>3.14</td><td>0.08</td><td>0.62</td><td>0.24</td></tr>\n",
       "<tr><td>30.92</td><td>3.31</td><td>1.74</td><td>0.78</td><td>6.37</td><td>0.07</td><td>0.34</td><td>0.16</td></tr>\n",
       "<tr><td>71.97</td><td>3.52</td><td>1.39</td><td>1.17</td><td>2.86</td><td>0.09</td><td>0.98</td><td>0.41</td></tr>\n",
       "<tr><td>16.83</td><td>3.80</td><td>2.28</td><td>0.01</td><td>3.65</td><td>0.08</td><td>1.50</td><td>0.01</td></tr>\n",
       "<tr><td>57.69</td><td>4.38</td><td>0.01</td><td>0.01</td><td>2.35</td><td>0.01</td><td>1.50</td><td>0.01</td></tr>\n",
       "<tr><td>337.92</td><td>4.52</td><td>6.91</td><td>0.80</td><td>3.41</td><td>0.11</td><td>0.10</td><td>1.00</td></tr>\n",
       "<tr><td>49.98</td><td>4.95</td><td>1.51</td><td>0.01</td><td>2.90</td><td>0.03</td><td>0.54</td><td>0.01</td></tr>\n",
       "<tr><td>28.04</td><td>5.43</td><td>1.13</td><td>1.50</td><td>1.26</td><td>0.05</td><td>0.98</td><td>0.53</td></tr>\n",
       "<tr><td>...</td><td>...</td><td>...</td><td>...</td><td>...</td><td>...</td><td>...</td><td>...</td></tr>\n",
       "<tr><td>219.56</td><td>28.42</td><td>0.35</td><td>0.16</td><td>1.17</td><td>0.09</td><td>0.10</td><td>0.54</td></tr>\n",
       "<tr><td>223.80</td><td>28.60</td><td>0.56</td><td>0.01</td><td>1.38</td><td>0.01</td><td>0.10</td><td>0.01</td></tr>\n",
       "<tr><td>243.04</td><td>28.71</td><td>0.27</td><td>0.00</td><td>0.91</td><td>0.10</td><td>1.50</td><td>1.00</td></tr>\n",
       "<tr><td>190.50</td><td>29.29</td><td>0.70</td><td>0.37</td><td>0.66</td><td>0.03</td><td>0.10</td><td>0.50</td></tr>\n",
       "<tr><td>88.55</td><td>30.80</td><td>0.26</td><td>0.01</td><td>0.55</td><td>0.01</td><td>0.10</td><td>0.01</td></tr>\n",
       "<tr><td>156.45</td><td>32.85</td><td>0.65</td><td>0.47</td><td>0.53</td><td>0.09</td><td>0.20</td><td>0.96</td></tr>\n",
       "<tr><td>157.04</td><td>33.10</td><td>0.47</td><td>0.46</td><td>0.85</td><td>0.06</td><td>0.10</td><td>0.48</td></tr>\n",
       "<tr><td>155.78</td><td>33.61</td><td>0.86</td><td>0.88</td><td>1.16</td><td>0.10</td><td>0.10</td><td>0.19</td></tr>\n",
       "<tr><td>163.51</td><td>33.67</td><td>0.35</td><td>0.34</td><td>0.79</td><td>0.05</td><td>0.24</td><td>0.31</td></tr>\n",
       "<tr><td>158.04</td><td>35.10</td><td>0.46</td><td>0.00</td><td>1.36</td><td>0.01</td><td>1.50</td><td>1.00</td></tr>\n",
       "</table></div>"
      ],
      "text/plain": [
       "<QTable length=168>\n",
       "   PA     Sep    Bcore   Bshell   Bbg    Rcore   Rshell  Hshell\n",
       "  deg    arcsec                          arcsec  arcsec  arcsec\n",
       "float64 float64 float64 float64 float64 float64 float64 float64\n",
       "------- ------- ------- ------- ------- ------- ------- -------\n",
       " 296.28    2.98    2.50    2.96    2.67    0.07    0.41    0.27\n",
       "  66.87    3.15    1.82    2.07    3.14    0.08    0.62    0.24\n",
       "  30.92    3.31    1.74    0.78    6.37    0.07    0.34    0.16\n",
       "  71.97    3.52    1.39    1.17    2.86    0.09    0.98    0.41\n",
       "  16.83    3.80    2.28    0.01    3.65    0.08    1.50    0.01\n",
       "  57.69    4.38    0.01    0.01    2.35    0.01    1.50    0.01\n",
       " 337.92    4.52    6.91    0.80    3.41    0.11    0.10    1.00\n",
       "  49.98    4.95    1.51    0.01    2.90    0.03    0.54    0.01\n",
       "  28.04    5.43    1.13    1.50    1.26    0.05    0.98    0.53\n",
       "    ...     ...     ...     ...     ...     ...     ...     ...\n",
       " 219.56   28.42    0.35    0.16    1.17    0.09    0.10    0.54\n",
       " 223.80   28.60    0.56    0.01    1.38    0.01    0.10    0.01\n",
       " 243.04   28.71    0.27    0.00    0.91    0.10    1.50    1.00\n",
       " 190.50   29.29    0.70    0.37    0.66    0.03    0.10    0.50\n",
       "  88.55   30.80    0.26    0.01    0.55    0.01    0.10    0.01\n",
       " 156.45   32.85    0.65    0.47    0.53    0.09    0.20    0.96\n",
       " 157.04   33.10    0.47    0.46    0.85    0.06    0.10    0.48\n",
       " 155.78   33.61    0.86    0.88    1.16    0.10    0.10    0.19\n",
       " 163.51   33.67    0.35    0.34    0.79    0.05    0.24    0.31\n",
       " 158.04   35.10    0.46    0.00    1.36    0.01    1.50    1.00"
      ]
     },
     "execution_count": 4,
     "metadata": {},
     "output_type": "execute_result"
    }
   ],
   "source": [
    "datos_JWST"
   ]
  },
  {
   "cell_type": "code",
   "execution_count": 5,
   "metadata": {},
   "outputs": [
    {
     "data": {
      "text/plain": [
       "(array([51., 57., 31., 16.,  4.,  3.,  4.,  1.,  0.,  1.]),\n",
       " <Quantity [0.01      , 0.04799178, 0.08598356, 0.12397534, 0.16196712,\n",
       "            0.1999589 , 0.23795068, 0.27594246, 0.31393424, 0.35192602,\n",
       "            0.3899178 ] arcsec>,\n",
       " <BarContainer object of 10 artists>)"
      ]
     },
     "execution_count": 5,
     "metadata": {},
     "output_type": "execute_result"
    },
    {
     "data": {
      "image/png": "[encoded data removed]",
      "text/plain": [
       "<Figure size 432x288 with 1 Axes>"
      ]
     },
     "metadata": {
      "needs_background": "light"
     },
     "output_type": "display_data"
    }
   ],
   "source": [
    "plt.hist(datos_JWST['Rcore'])"
   ]
  },
  {
   "cell_type": "code",
   "execution_count": 6,
   "metadata": {},
   "outputs": [
    {
     "data": {
      "text/plain": [
       "(array([80., 13., 19., 19., 11.,  2.,  6.,  1.,  1., 16.]),\n",
       " <Quantity [0.1 , 0.24, 0.38, 0.52, 0.66, 0.8 , 0.94, 1.08, 1.22, 1.36,\n",
       "            1.5 ] arcsec>,\n",
       " <BarContainer object of 10 artists>)"
      ]
     },
     "execution_count": 6,
     "metadata": {},
     "output_type": "execute_result"
    },
    {
     "data": {
      "image/png": "[encoded data removed]",
      "text/plain": [
       "<Figure size 432x288 with 1 Axes>"
      ]
     },
     "metadata": {
      "needs_background": "light"
     },
     "output_type": "display_data"
    }
   ],
   "source": [
    "plt.hist(datos_JWST['Rshell'])"
   ]
  },
  {
   "cell_type": "code",
   "execution_count": 7,
   "metadata": {},
   "outputs": [
    {
     "ename": "FileNotFoundError",
     "evalue": "color.txt not found.",
     "output_type": "error",
     "traceback": [
      "\u001b[0;31m---------------------------------------------------------------------------\u001b[0m",
      "\u001b[0;31mFileNotFoundError\u001b[0m                         Traceback (most recent call last)",
      "\u001b[0;32m<ipython-input-7-2d0290577fc8>\u001b[0m in \u001b[0;36m<module>\u001b[0;34m\u001b[0m\n\u001b[0;32m----> 1\u001b[0;31m \u001b[0mche\u001b[0m \u001b[0;34m=\u001b[0m \u001b[0mnp\u001b[0m\u001b[0;34m.\u001b[0m\u001b[0mloadtxt\u001b[0m\u001b[0;34m(\u001b[0m\u001b[0;34m'color.txt'\u001b[0m\u001b[0;34m)\u001b[0m\u001b[0;34m\u001b[0m\u001b[0;34m\u001b[0m\u001b[0m\n\u001b[0m\u001b[1;32m      2\u001b[0m \u001b[0mche\u001b[0m\u001b[0;34m\u001b[0m\u001b[0;34m\u001b[0m\u001b[0m\n",
      "\u001b[0;32m~/anaconda3/lib/python3.8/site-packages/numpy/lib/npyio.py\u001b[0m in \u001b[0;36mloadtxt\u001b[0;34m(fname, dtype, comments, delimiter, converters, skiprows, usecols, unpack, ndmin, encoding, max_rows, quotechar, like)\u001b[0m\n\u001b[1;32m   1354\u001b[0m         \u001b[0mdelimiter\u001b[0m \u001b[0;34m=\u001b[0m \u001b[0mdelimiter\u001b[0m\u001b[0;34m.\u001b[0m\u001b[0mdecode\u001b[0m\u001b[0;34m(\u001b[0m\u001b[0;34m'latin1'\u001b[0m\u001b[0;34m)\u001b[0m\u001b[0;34m\u001b[0m\u001b[0;34m\u001b[0m\u001b[0m\n\u001b[1;32m   1355\u001b[0m \u001b[0;34m\u001b[0m\u001b[0m\n\u001b[0;32m-> 1356\u001b[0;31m     arr = _read(fname, dtype=dtype, comment=comment, delimiter=delimiter,\n\u001b[0m\u001b[1;32m   1357\u001b[0m                 \u001b[0mconverters\u001b[0m\u001b[0;34m=\u001b[0m\u001b[0mconverters\u001b[0m\u001b[0;34m,\u001b[0m \u001b[0mskiplines\u001b[0m\u001b[0;34m=\u001b[0m\u001b[0mskiprows\u001b[0m\u001b[0;34m,\u001b[0m \u001b[0musecols\u001b[0m\u001b[0;34m=\u001b[0m\u001b[0musecols\u001b[0m\u001b[0;34m,\u001b[0m\u001b[0;34m\u001b[0m\u001b[0;34m\u001b[0m\u001b[0m\n\u001b[1;32m   1358\u001b[0m                 \u001b[0munpack\u001b[0m\u001b[0;34m=\u001b[0m\u001b[0munpack\u001b[0m\u001b[0;34m,\u001b[0m \u001b[0mndmin\u001b[0m\u001b[0;34m=\u001b[0m\u001b[0mndmin\u001b[0m\u001b[0;34m,\u001b[0m \u001b[0mencoding\u001b[0m\u001b[0;34m=\u001b[0m\u001b[0mencoding\u001b[0m\u001b[0;34m,\u001b[0m\u001b[0;34m\u001b[0m\u001b[0;34m\u001b[0m\u001b[0m\n",
      "\u001b[0;32m~/anaconda3/lib/python3.8/site-packages/numpy/lib/npyio.py\u001b[0m in \u001b[0;36m_read\u001b[0;34m(fname, delimiter, comment, quote, imaginary_unit, usecols, skiplines, max_rows, converters, ndmin, unpack, dtype, encoding)\u001b[0m\n\u001b[1;32m    973\u001b[0m             \u001b[0mfname\u001b[0m \u001b[0;34m=\u001b[0m \u001b[0mos\u001b[0m\u001b[0;34m.\u001b[0m\u001b[0mfspath\u001b[0m\u001b[0;34m(\u001b[0m\u001b[0mfname\u001b[0m\u001b[0;34m)\u001b[0m\u001b[0;34m\u001b[0m\u001b[0;34m\u001b[0m\u001b[0m\n\u001b[1;32m    974\u001b[0m         \u001b[0;32mif\u001b[0m \u001b[0misinstance\u001b[0m\u001b[0;34m(\u001b[0m\u001b[0mfname\u001b[0m\u001b[0;34m,\u001b[0m \u001b[0mstr\u001b[0m\u001b[0;34m)\u001b[0m\u001b[0;34m:\u001b[0m\u001b[0;34m\u001b[0m\u001b[0;34m\u001b[0m\u001b[0m\n\u001b[0;32m--> 975\u001b[0;31m             \u001b[0mfh\u001b[0m \u001b[0;34m=\u001b[0m \u001b[0mnp\u001b[0m\u001b[0;34m.\u001b[0m\u001b[0mlib\u001b[0m\u001b[0;34m.\u001b[0m\u001b[0m_datasource\u001b[0m\u001b[0;34m.\u001b[0m\u001b[0mopen\u001b[0m\u001b[0;34m(\u001b[0m\u001b[0mfname\u001b[0m\u001b[0;34m,\u001b[0m \u001b[0;34m'rt'\u001b[0m\u001b[0;34m,\u001b[0m \u001b[0mencoding\u001b[0m\u001b[0;34m=\u001b[0m\u001b[0mencoding\u001b[0m\u001b[0;34m)\u001b[0m\u001b[0;34m\u001b[0m\u001b[0;34m\u001b[0m\u001b[0m\n\u001b[0m\u001b[1;32m    976\u001b[0m             \u001b[0;32mif\u001b[0m \u001b[0mencoding\u001b[0m \u001b[0;32mis\u001b[0m \u001b[0;32mNone\u001b[0m\u001b[0;34m:\u001b[0m\u001b[0;34m\u001b[0m\u001b[0;34m\u001b[0m\u001b[0m\n\u001b[1;32m    977\u001b[0m                 \u001b[0mencoding\u001b[0m \u001b[0;34m=\u001b[0m \u001b[0mgetattr\u001b[0m\u001b[0;34m(\u001b[0m\u001b[0mfh\u001b[0m\u001b[0;34m,\u001b[0m \u001b[0;34m'encoding'\u001b[0m\u001b[0;34m,\u001b[0m \u001b[0;34m'latin1'\u001b[0m\u001b[0;34m)\u001b[0m\u001b[0;34m\u001b[0m\u001b[0;34m\u001b[0m\u001b[0m\n",
      "\u001b[0;32m~/anaconda3/lib/python3.8/site-packages/numpy/lib/_datasource.py\u001b[0m in \u001b[0;36mopen\u001b[0;34m(path, mode, destpath, encoding, newline)\u001b[0m\n\u001b[1;32m    191\u001b[0m \u001b[0;34m\u001b[0m\u001b[0m\n\u001b[1;32m    192\u001b[0m     \u001b[0mds\u001b[0m \u001b[0;34m=\u001b[0m \u001b[0mDataSource\u001b[0m\u001b[0;34m(\u001b[0m\u001b[0mdestpath\u001b[0m\u001b[0;34m)\u001b[0m\u001b[0;34m\u001b[0m\u001b[0;34m\u001b[0m\u001b[0m\n\u001b[0;32m--> 193\u001b[0;31m     \u001b[0;32mreturn\u001b[0m \u001b[0mds\u001b[0m\u001b[0;34m.\u001b[0m\u001b[0mopen\u001b[0m\u001b[0;34m(\u001b[0m\u001b[0mpath\u001b[0m\u001b[0;34m,\u001b[0m \u001b[0mmode\u001b[0m\u001b[0;34m,\u001b[0m \u001b[0mencoding\u001b[0m\u001b[0;34m=\u001b[0m\u001b[0mencoding\u001b[0m\u001b[0;34m,\u001b[0m \u001b[0mnewline\u001b[0m\u001b[0;34m=\u001b[0m\u001b[0mnewline\u001b[0m\u001b[0;34m)\u001b[0m\u001b[0;34m\u001b[0m\u001b[0;34m\u001b[0m\u001b[0m\n\u001b[0m\u001b[1;32m    194\u001b[0m \u001b[0;34m\u001b[0m\u001b[0m\n\u001b[1;32m    195\u001b[0m \u001b[0;34m\u001b[0m\u001b[0m\n",
      "\u001b[0;32m~/anaconda3/lib/python3.8/site-packages/numpy/lib/_datasource.py\u001b[0m in \u001b[0;36mopen\u001b[0;34m(self, path, mode, encoding, newline)\u001b[0m\n\u001b[1;32m    531\u001b[0m                                       encoding=encoding, newline=newline)\n\u001b[1;32m    532\u001b[0m         \u001b[0;32melse\u001b[0m\u001b[0;34m:\u001b[0m\u001b[0;34m\u001b[0m\u001b[0;34m\u001b[0m\u001b[0m\n\u001b[0;32m--> 533\u001b[0;31m             \u001b[0;32mraise\u001b[0m \u001b[0mFileNotFoundError\u001b[0m\u001b[0;34m(\u001b[0m\u001b[0;34mf\"{path} not found.\"\u001b[0m\u001b[0;34m)\u001b[0m\u001b[0;34m\u001b[0m\u001b[0;34m\u001b[0m\u001b[0m\n\u001b[0m\u001b[1;32m    534\u001b[0m \u001b[0;34m\u001b[0m\u001b[0m\n\u001b[1;32m    535\u001b[0m \u001b[0;34m\u001b[0m\u001b[0m\n",
      "\u001b[0;31mFileNotFoundError\u001b[0m: color.txt not found."
     ]
    }
   ],
   "source": [
    "che = np.loadtxt('color.txt')\n",
    "che"
   ]
  },
  {
   "cell_type": "code",
   "execution_count": null,
   "metadata": {},
   "outputs": [],
   "source": [
    "len(che)"
   ]
  },
  {
   "cell_type": "code",
   "execution_count": null,
   "metadata": {},
   "outputs": [],
   "source": [
    "num = np.loadtxt('checar.txt')\n",
    "num"
   ]
  },
  {
   "cell_type": "code",
   "execution_count": null,
   "metadata": {},
   "outputs": [],
   "source": [
    "len(num)"
   ]
  },
  {
   "cell_type": "code",
   "execution_count": 8,
   "metadata": {},
   "outputs": [
    {
     "ename": "NameError",
     "evalue": "name 'num' is not defined",
     "output_type": "error",
     "traceback": [
      "\u001b[0;31m---------------------------------------------------------------------------\u001b[0m",
      "\u001b[0;31mNameError\u001b[0m                                 Traceback (most recent call last)",
      "\u001b[0;32m<ipython-input-8-615392fb440c>\u001b[0m in \u001b[0;36m<module>\u001b[0;34m\u001b[0m\n\u001b[1;32m      6\u001b[0m \u001b[0mH_s_JWST\u001b[0m \u001b[0;34m=\u001b[0m \u001b[0;34m[\u001b[0m\u001b[0;34m]\u001b[0m\u001b[0;34m\u001b[0m\u001b[0;34m\u001b[0m\u001b[0m\n\u001b[1;32m      7\u001b[0m \u001b[0;32mfor\u001b[0m \u001b[0mi\u001b[0m \u001b[0;32min\u001b[0m \u001b[0mrange\u001b[0m\u001b[0;34m(\u001b[0m\u001b[0mlen\u001b[0m\u001b[0;34m(\u001b[0m\u001b[0mdatos_HST\u001b[0m\u001b[0;34m)\u001b[0m\u001b[0;34m)\u001b[0m\u001b[0;34m:\u001b[0m\u001b[0;34m\u001b[0m\u001b[0;34m\u001b[0m\u001b[0m\n\u001b[0;32m----> 8\u001b[0;31m     \u001b[0;32mif\u001b[0m \u001b[0mi\u001b[0m \u001b[0;32mnot\u001b[0m \u001b[0;32min\u001b[0m \u001b[0mnum\u001b[0m\u001b[0;34m:\u001b[0m\u001b[0;34m\u001b[0m\u001b[0;34m\u001b[0m\u001b[0m\n\u001b[0m\u001b[1;32m      9\u001b[0m         \u001b[0mR_c_HST\u001b[0m\u001b[0;34m.\u001b[0m\u001b[0mappend\u001b[0m\u001b[0;34m(\u001b[0m\u001b[0mdatos_HST\u001b[0m\u001b[0;34m[\u001b[0m\u001b[0;34m'Rcore'\u001b[0m\u001b[0;34m]\u001b[0m\u001b[0;34m[\u001b[0m\u001b[0mi\u001b[0m\u001b[0;34m]\u001b[0m\u001b[0;34m)\u001b[0m\u001b[0;34m\u001b[0m\u001b[0;34m\u001b[0m\u001b[0m\n\u001b[1;32m     10\u001b[0m         \u001b[0mR_s_HST\u001b[0m\u001b[0;34m.\u001b[0m\u001b[0mappend\u001b[0m\u001b[0;34m(\u001b[0m\u001b[0mdatos_HST\u001b[0m\u001b[0;34m[\u001b[0m\u001b[0;34m'Rshell'\u001b[0m\u001b[0;34m]\u001b[0m\u001b[0;34m[\u001b[0m\u001b[0mi\u001b[0m\u001b[0;34m]\u001b[0m\u001b[0;34m)\u001b[0m\u001b[0;34m\u001b[0m\u001b[0;34m\u001b[0m\u001b[0m\n",
      "\u001b[0;31mNameError\u001b[0m: name 'num' is not defined"
     ]
    }
   ],
   "source": [
    "R_c_HST = []\n",
    "R_s_HST = []\n",
    "H_s_HST = []\n",
    "R_c_JWST = []\n",
    "R_s_JWST = []\n",
    "H_s_JWST = []\n",
    "for i in range(len(datos_HST)):\n",
    "    if i not in num:\n",
    "        R_c_HST.append(datos_HST['Rcore'][i])\n",
    "        R_s_HST.append(datos_HST['Rshell'][i])\n",
    "        H_s_HST.append(datos_HST['Hshell'][i])\n",
    "        R_c_JWST.append(datos_JWST['Rcore'][i])\n",
    "        R_s_JWST.append(datos_JWST['Rshell'][i])\n",
    "        H_s_JWST.append(datos_JWST['Hshell'][i])"
   ]
  },
  {
   "cell_type": "code",
   "execution_count": 9,
   "metadata": {},
   "outputs": [
    {
     "data": {
      "text/plain": [
       "(array([0., 0., 0., 0., 0., 0., 0., 0., 0., 0., 0., 0., 0., 0., 0., 0., 0.,\n",
       "        0., 0., 0.]),\n",
       " array([ 0.,  1.,  2.,  3.,  4.,  5.,  6.,  7.,  8.,  9., 10., 11., 12.,\n",
       "        13., 14., 15., 16., 17., 18., 19., 20.]),\n",
       " <BarContainer object of 20 artists>)"
      ]
     },
     "execution_count": 9,
     "metadata": {},
     "output_type": "execute_result"
    },
    {
     "data": {
      "image/png": "[encoded data removed]",
      "text/plain": [
       "<Figure size 432x288 with 1 Axes>"
      ]
     },
     "metadata": {
      "needs_background": "light"
     },
     "output_type": "display_data"
    }
   ],
   "source": [
    "r_1_r_0_HST = []\n",
    "for i in range(len(R_c_HST)):\n",
    "    r_1_r_0_HST.append(R_s_HST[i]/R_c_HST[i])\n",
    "plt.hist(r_1_r_0_HST,bins=20,range=(0,20))"
   ]
  },
  {
   "cell_type": "code",
   "execution_count": 10,
   "metadata": {},
   "outputs": [
    {
     "data": {
      "text/plain": [
       "(array([0., 0., 0., 0., 0., 0., 0., 0., 0., 0., 0., 0., 0., 0., 0., 0., 0.,\n",
       "        0., 0., 0.]),\n",
       " array([ 0.,  1.,  2.,  3.,  4.,  5.,  6.,  7.,  8.,  9., 10., 11., 12.,\n",
       "        13., 14., 15., 16., 17., 18., 19., 20.]),\n",
       " <BarContainer object of 20 artists>)"
      ]
     },
     "execution_count": 10,
     "metadata": {},
     "output_type": "execute_result"
    },
    {
     "data": {
      "image/png": "[encoded data removed]",
      "text/plain": [
       "<Figure size 432x288 with 1 Axes>"
      ]
     },
     "metadata": {
      "needs_background": "light"
     },
     "output_type": "display_data"
    }
   ],
   "source": [
    "r_1_r_0_JWST = []\n",
    "for i in range(len(R_c_JWST)):\n",
    "    r_1_r_0_JWST.append(R_s_JWST[i]/R_c_JWST[i])\n",
    "plt.hist(r_1_r_0_JWST,bins=20,range=(0,20))"
   ]
  },
  {
   "cell_type": "code",
   "execution_count": null,
   "metadata": {},
   "outputs": [],
   "source": [
    ".01*np.sqrt(2)"
   ]
  },
  {
   "cell_type": "markdown",
   "metadata": {},
   "source": [
    "# Ahora vamos a sacar los valores que predice el modelo y comparar con los obtenidos por las observaciones\n",
    " ## radios"
   ]
  },
  {
   "cell_type": "code",
   "execution_count": 11,
   "metadata": {},
   "outputs": [
    {
     "name": "stderr",
     "output_type": "stream",
     "text": [
      "/home/roberto/anaconda3/lib/python3.8/site-packages/astropy/units/quantity.py:673: RuntimeWarning: invalid value encountered in sqrt\n",
      "  result = super().__array_ufunc__(function, method, *arrays, **kwargs)\n"
     ]
    },
    {
     "ename": "IndexError",
     "evalue": "index 168 is out of bounds for axis 0 with size 168",
     "output_type": "error",
     "traceback": [
      "\u001b[0;31m---------------------------------------------------------------------------\u001b[0m",
      "\u001b[0;31mIndexError\u001b[0m                                Traceback (most recent call last)",
      "\u001b[0;32m<ipython-input-11-f3d927b665b4>\u001b[0m in \u001b[0;36m<module>\u001b[0;34m\u001b[0m\n\u001b[1;32m     15\u001b[0m \u001b[0mcolors_globules\u001b[0m \u001b[0;34m=\u001b[0m \u001b[0;34m[\u001b[0m\u001b[0;34m]\u001b[0m\u001b[0;34m\u001b[0m\u001b[0;34m\u001b[0m\u001b[0m\n\u001b[1;32m     16\u001b[0m \u001b[0;32mfor\u001b[0m \u001b[0mi\u001b[0m \u001b[0;32min\u001b[0m \u001b[0mrange\u001b[0m\u001b[0;34m(\u001b[0m\u001b[0mlen\u001b[0m\u001b[0;34m(\u001b[0m\u001b[0mr_HST\u001b[0m\u001b[0;34m)\u001b[0m\u001b[0;34m)\u001b[0m\u001b[0;34m:\u001b[0m\u001b[0;34m\u001b[0m\u001b[0;34m\u001b[0m\u001b[0m\n\u001b[0;32m---> 17\u001b[0;31m     \u001b[0;32mif\u001b[0m \u001b[0;36m0.2\u001b[0m\u001b[0;34m*\u001b[0m\u001b[0mu\u001b[0m\u001b[0;34m.\u001b[0m\u001b[0marcsec\u001b[0m \u001b[0;34m<=\u001b[0m \u001b[0;34m(\u001b[0m\u001b[0mr_HST\u001b[0m\u001b[0;34m[\u001b[0m\u001b[0mi\u001b[0m\u001b[0;34m]\u001b[0m\u001b[0;34m-\u001b[0m\u001b[0mr_JWST\u001b[0m\u001b[0;34m[\u001b[0m\u001b[0mi\u001b[0m\u001b[0;34m]\u001b[0m\u001b[0;34m)\u001b[0m\u001b[0;34m:\u001b[0m\u001b[0;34m\u001b[0m\u001b[0;34m\u001b[0m\u001b[0m\n\u001b[0m\u001b[1;32m     18\u001b[0m         \u001b[0mplt\u001b[0m\u001b[0;34m.\u001b[0m\u001b[0mplot\u001b[0m\u001b[0;34m(\u001b[0m\u001b[0mr_HST\u001b[0m\u001b[0;34m[\u001b[0m\u001b[0mi\u001b[0m\u001b[0;34m]\u001b[0m\u001b[0;34m,\u001b[0m\u001b[0mr_JWST\u001b[0m\u001b[0;34m[\u001b[0m\u001b[0mi\u001b[0m\u001b[0;34m]\u001b[0m\u001b[0;34m,\u001b[0m\u001b[0;34m'*'\u001b[0m\u001b[0;34m,\u001b[0m\u001b[0mcolor\u001b[0m\u001b[0;34m=\u001b[0m\u001b[0;34m'r'\u001b[0m\u001b[0;34m)\u001b[0m\u001b[0;34m\u001b[0m\u001b[0;34m\u001b[0m\u001b[0m\n\u001b[1;32m     19\u001b[0m         \u001b[0mcolors_globules\u001b[0m\u001b[0;34m.\u001b[0m\u001b[0mappend\u001b[0m\u001b[0;34m(\u001b[0m\u001b[0;34m'r'\u001b[0m\u001b[0;34m)\u001b[0m\u001b[0;34m\u001b[0m\u001b[0;34m\u001b[0m\u001b[0m\n",
      "\u001b[0;32m~/anaconda3/lib/python3.8/site-packages/astropy/units/quantity.py\u001b[0m in \u001b[0;36m__getitem__\u001b[0;34m(self, key)\u001b[0m\n\u001b[1;32m   1270\u001b[0m \u001b[0;34m\u001b[0m\u001b[0m\n\u001b[1;32m   1271\u001b[0m         \u001b[0;32mtry\u001b[0m\u001b[0;34m:\u001b[0m\u001b[0;34m\u001b[0m\u001b[0;34m\u001b[0m\u001b[0m\n\u001b[0;32m-> 1272\u001b[0;31m             \u001b[0mout\u001b[0m \u001b[0;34m=\u001b[0m \u001b[0msuper\u001b[0m\u001b[0;34m(\u001b[0m\u001b[0;34m)\u001b[0m\u001b[0;34m.\u001b[0m\u001b[0m__getitem__\u001b[0m\u001b[0;34m(\u001b[0m\u001b[0mkey\u001b[0m\u001b[0;34m)\u001b[0m\u001b[0;34m\u001b[0m\u001b[0;34m\u001b[0m\u001b[0m\n\u001b[0m\u001b[1;32m   1273\u001b[0m         \u001b[0;32mexcept\u001b[0m \u001b[0mIndexError\u001b[0m\u001b[0;34m:\u001b[0m\u001b[0;34m\u001b[0m\u001b[0;34m\u001b[0m\u001b[0m\n\u001b[1;32m   1274\u001b[0m             \u001b[0;31m# We want zero-dimensional Quantity objects to behave like scalars,\u001b[0m\u001b[0;34m\u001b[0m\u001b[0;34m\u001b[0m\u001b[0;34m\u001b[0m\u001b[0m\n",
      "\u001b[0;31mIndexError\u001b[0m: index 168 is out of bounds for axis 0 with size 168"
     ]
    },
    {
     "data": {
      "image/png": "[encoded data removed]",
      "text/plain": [
       "<Figure size 432x288 with 1 Axes>"
      ]
     },
     "metadata": {
      "needs_background": "light"
     },
     "output_type": "display_data"
    }
   ],
   "source": [
    "r_FWHM_HST = 2*(np.sqrt(2*(np.log(2))))*datos_HST['Rcore']\n",
    "r_FWHM_JWST = 2*(np.sqrt(2*(np.log(2))))*datos_JWST['Rcore']\n",
    "\n",
    "from astropy import units as u\n",
    "from astropy import constants as cte\n",
    "w_HST = 0.067*u.arcsec\n",
    "r_HST = (r_FWHM_HST**2-w_HST**2)**(1/2)\n",
    "w_JWST = 0.033*u.arcsec\n",
    "r_JWST = (r_FWHM_JWST**2-w_JWST**2)**(1/2)\n",
    "\n",
    "r = np.linspace(0,1)*u.arcsec\n",
    "r_HST_model = np.hypot(r,w_HST)\n",
    "r_JWST_model = np.hypot(r,w_JWST)\n",
    "#plt.plot(r_HST,r_JWST,'*',color='b')\n",
    "colors_globules = []\n",
    "for i in range(len(r_HST)):\n",
    "    if 0.2*u.arcsec <= (r_HST[i]-r_JWST[i]):\n",
    "        plt.plot(r_HST[i],r_JWST[i],'*',color='r')\n",
    "        colors_globules.append('r')\n",
    "    elif -0.2*u.arcsec >= (r_HST[i]-r_JWST[i]):\n",
    "        plt.plot(r_HST[i],r_JWST[i],'*',color='g')\n",
    "        colors_globules.append('g')\n",
    "    else:\n",
    "        plt.plot(r_HST[i],r_JWST[i],'*',color='k')\n",
    "        colors_globules.append('k')\n",
    "plt.plot(r_HST_model,r_JWST_model,color='r')\n",
    "plt.xlabel(r'$r_{HST}$')\n",
    "plt.ylabel(r'$r_{JWST}$')\n",
    "plt.xlim(0,1)\n",
    "plt.ylim(0,1)\n",
    "plt.gca().set_aspect('equal')\n",
    "plt.show()"
   ]
  },
  {
   "cell_type": "code",
   "execution_count": 12,
   "metadata": {},
   "outputs": [
    {
     "ename": "ValueError",
     "evalue": "Inconsistent data column lengths",
     "output_type": "error",
     "traceback": [
      "\u001b[0;31m---------------------------------------------------------------------------\u001b[0m",
      "\u001b[0;31mValueError\u001b[0m                                Traceback (most recent call last)",
      "\u001b[0;32m<ipython-input-12-5662b429395c>\u001b[0m in \u001b[0;36m<module>\u001b[0;34m\u001b[0m\n\u001b[0;32m----> 1\u001b[0;31m \u001b[0mdatos_HST\u001b[0m\u001b[0;34m[\u001b[0m\u001b[0;34m'Color'\u001b[0m\u001b[0;34m]\u001b[0m \u001b[0;34m=\u001b[0m \u001b[0mcolors_globules\u001b[0m\u001b[0;34m\u001b[0m\u001b[0;34m\u001b[0m\u001b[0m\n\u001b[0m\u001b[1;32m      2\u001b[0m \u001b[0mdatos_JWST\u001b[0m\u001b[0;34m[\u001b[0m\u001b[0;34m'Color'\u001b[0m\u001b[0;34m]\u001b[0m \u001b[0;34m=\u001b[0m \u001b[0mcolors_globules\u001b[0m\u001b[0;34m\u001b[0m\u001b[0;34m\u001b[0m\u001b[0m\n",
      "\u001b[0;32m~/anaconda3/lib/python3.8/site-packages/astropy/table/table.py\u001b[0m in \u001b[0;36m__setitem__\u001b[0;34m(self, item, value)\u001b[0m\n\u001b[1;32m   2112\u001b[0m         \u001b[0;31m# If that column doesn't already exist then create it now.\u001b[0m\u001b[0;34m\u001b[0m\u001b[0;34m\u001b[0m\u001b[0;34m\u001b[0m\u001b[0m\n\u001b[1;32m   2113\u001b[0m         \u001b[0;32mif\u001b[0m \u001b[0misinstance\u001b[0m\u001b[0;34m(\u001b[0m\u001b[0mitem\u001b[0m\u001b[0;34m,\u001b[0m \u001b[0mstr\u001b[0m\u001b[0;34m)\u001b[0m \u001b[0;32mand\u001b[0m \u001b[0mitem\u001b[0m \u001b[0;32mnot\u001b[0m \u001b[0;32min\u001b[0m \u001b[0mself\u001b[0m\u001b[0;34m.\u001b[0m\u001b[0mcolnames\u001b[0m\u001b[0;34m:\u001b[0m\u001b[0;34m\u001b[0m\u001b[0;34m\u001b[0m\u001b[0m\n\u001b[0;32m-> 2114\u001b[0;31m             \u001b[0mself\u001b[0m\u001b[0;34m.\u001b[0m\u001b[0madd_column\u001b[0m\u001b[0;34m(\u001b[0m\u001b[0mvalue\u001b[0m\u001b[0;34m,\u001b[0m \u001b[0mname\u001b[0m\u001b[0;34m=\u001b[0m\u001b[0mitem\u001b[0m\u001b[0;34m,\u001b[0m \u001b[0mcopy\u001b[0m\u001b[0;34m=\u001b[0m\u001b[0;32mTrue\u001b[0m\u001b[0;34m)\u001b[0m\u001b[0;34m\u001b[0m\u001b[0;34m\u001b[0m\u001b[0m\n\u001b[0m\u001b[1;32m   2115\u001b[0m \u001b[0;34m\u001b[0m\u001b[0m\n\u001b[1;32m   2116\u001b[0m         \u001b[0;32melse\u001b[0m\u001b[0;34m:\u001b[0m\u001b[0;34m\u001b[0m\u001b[0;34m\u001b[0m\u001b[0m\n",
      "\u001b[0;32m~/anaconda3/lib/python3.8/site-packages/astropy/table/table.py\u001b[0m in \u001b[0;36madd_column\u001b[0;34m(self, col, index, name, rename_duplicate, copy, default_name)\u001b[0m\n\u001b[1;32m   2422\u001b[0m         \u001b[0;31m# Ensure that new column is the right length\u001b[0m\u001b[0;34m\u001b[0m\u001b[0;34m\u001b[0m\u001b[0;34m\u001b[0m\u001b[0m\n\u001b[1;32m   2423\u001b[0m         \u001b[0;32mif\u001b[0m \u001b[0mlen\u001b[0m\u001b[0;34m(\u001b[0m\u001b[0mself\u001b[0m\u001b[0;34m.\u001b[0m\u001b[0mcolumns\u001b[0m\u001b[0;34m)\u001b[0m \u001b[0;34m>\u001b[0m \u001b[0;36m0\u001b[0m \u001b[0;32mand\u001b[0m \u001b[0mlen\u001b[0m\u001b[0;34m(\u001b[0m\u001b[0mcol\u001b[0m\u001b[0;34m)\u001b[0m \u001b[0;34m!=\u001b[0m \u001b[0mlen\u001b[0m\u001b[0;34m(\u001b[0m\u001b[0mself\u001b[0m\u001b[0;34m)\u001b[0m\u001b[0;34m:\u001b[0m\u001b[0;34m\u001b[0m\u001b[0;34m\u001b[0m\u001b[0m\n\u001b[0;32m-> 2424\u001b[0;31m             \u001b[0;32mraise\u001b[0m \u001b[0mValueError\u001b[0m\u001b[0;34m(\u001b[0m\u001b[0;34m\"Inconsistent data column lengths\"\u001b[0m\u001b[0;34m)\u001b[0m\u001b[0;34m\u001b[0m\u001b[0;34m\u001b[0m\u001b[0m\n\u001b[0m\u001b[1;32m   2425\u001b[0m \u001b[0;34m\u001b[0m\u001b[0m\n\u001b[1;32m   2426\u001b[0m         \u001b[0;32mif\u001b[0m \u001b[0mrename_duplicate\u001b[0m\u001b[0;34m:\u001b[0m\u001b[0;34m\u001b[0m\u001b[0;34m\u001b[0m\u001b[0m\n",
      "\u001b[0;31mValueError\u001b[0m: Inconsistent data column lengths"
     ]
    }
   ],
   "source": [
    "datos_HST['Color'] = colors_globules\n",
    "datos_JWST['Color'] = colors_globules"
   ]
  },
  {
   "cell_type": "code",
   "execution_count": null,
   "metadata": {},
   "outputs": [],
   "source": [
    "r_1_0_HST = datos_HST['Rshell']/datos_HST['Rcore']\n",
    "r_1_0_JWST = datos_JWST['Rshell']/datos_JWST['Rcore']"
   ]
  },
  {
   "cell_type": "code",
   "execution_count": null,
   "metadata": {},
   "outputs": [],
   "source": [
    "plt.hist(r_1_0_HST,bins=20)"
   ]
  },
  {
   "cell_type": "code",
   "execution_count": null,
   "metadata": {},
   "outputs": [],
   "source": [
    "plt.hist(r_1_0_JWST,bins=20)"
   ]
  },
  {
   "cell_type": "code",
   "execution_count": null,
   "metadata": {},
   "outputs": [],
   "source": [
    "datos_HST['X'] = r_1_0_HST\n",
    "datos_JWST['X'] = r_1_0_JWST"
   ]
  },
  {
   "cell_type": "markdown",
   "metadata": {},
   "source": [
    " ## densidades"
   ]
  },
  {
   "cell_type": "code",
   "execution_count": null,
   "metadata": {},
   "outputs": [],
   "source": [
    "E = (6.61E-27*2.99E10)/(6.563E-5)*(u.erg)\n",
    "l_HST = 2*np.sqrt(2*datos_HST['Rshell'].value*D.value*datos_HST['Hshell'].value*D.value)*u.AU\n",
    "EM_HST = (datos_HST['Bshell'])*(0.0137*4*np.pi)/(3.61E5*E.value)*u.pc/(u.cm**6)\n",
    "n_shell_HST = (EM_HST/(l_HST.to('pc')))**(1/2)"
   ]
  },
  {
   "cell_type": "code",
   "execution_count": null,
   "metadata": {},
   "outputs": [],
   "source": [
    "datos_HST['n_shell'] = n_shell_HST\n",
    "datos_HST"
   ]
  },
  {
   "cell_type": "code",
   "execution_count": null,
   "metadata": {},
   "outputs": [],
   "source": [
    "plt.hist(datos_HST['n_shell'])"
   ]
  },
  {
   "cell_type": "code",
   "execution_count": null,
   "metadata": {},
   "outputs": [],
   "source": [
    "T = 6000*u.K\n",
    "m = (0.6*u.M_p).to('g')\n",
    "c_s = np.sqrt((cte.k_B).to('erg/K')*T/m)\n",
    "c_s.to('km/s')"
   ]
  },
  {
   "cell_type": "code",
   "execution_count": null,
   "metadata": {},
   "outputs": [],
   "source": [
    "v_A_1 = 1*u.km/u.second\n",
    "n10_1 = (v_A_1/c_s.to('km/s'))**2\n",
    "v_A_2 = 2*u.km/u.second\n",
    "n10_2 = (v_A_2/c_s.to('km/s'))**2\n",
    "v_A_3 = 3*u.km/u.second\n",
    "n10_3 = (v_A_3/c_s.to('km/s'))**2\n",
    "print(n10_1,n10_2,n10_3)"
   ]
  },
  {
   "cell_type": "markdown",
   "metadata": {},
   "source": [
    "## Presiones"
   ]
  },
  {
   "cell_type": "code",
   "execution_count": null,
   "metadata": {},
   "outputs": [],
   "source": [
    "P = (M_loss*v_inf)/(4*np.pi*((datos_HST['Sep'].value*D.value*u.AU).to('cm'))**2)\n",
    "plt.hist(P)"
   ]
  },
  {
   "cell_type": "code",
   "execution_count": null,
   "metadata": {},
   "outputs": [],
   "source": [
    "P_g = 2*datos_HST['n_shell']*m*c_s**2\n",
    "plt.hist(P_g)"
   ]
  },
  {
   "cell_type": "code",
   "execution_count": null,
   "metadata": {},
   "outputs": [],
   "source": [
    "plt.hist((P.cgs)/(P_g.cgs),bins=30)"
   ]
  },
  {
   "cell_type": "code",
   "execution_count": null,
   "metadata": {},
   "outputs": [],
   "source": [
    "datos_HST['X_P'] = (P.cgs)/(P_g.cgs)\n",
    "datos_HST"
   ]
  },
  {
   "cell_type": "code",
   "execution_count": null,
   "metadata": {},
   "outputs": [],
   "source": [
    "plt.plot(datos_HST['X'],datos_HST['X_P'],'*')\n",
    "plt.xlim(1,10)\n",
    "plt.ylim(0.001,15)\n",
    "plt.xscale('log')\n",
    "plt.yscale('log')\n",
    "\n"
   ]
  },
  {
   "cell_type": "code",
   "execution_count": null,
   "metadata": {},
   "outputs": [],
   "source": [
    "type(datos_HST['Color'][0])"
   ]
  },
  {
   "cell_type": "code",
   "execution_count": null,
   "metadata": {},
   "outputs": [],
   "source": [
    "from scipy.optimize import fsolve\n",
    "\n",
    "def find_root(x):\n",
    "    \"\"\"Should be called with vector argument of same length as P_P_0\"\"\"\n",
    "    return ((1+x**2)/2)*(np.e**((1-x**2)/2)) - P_P0 #equation to find the root\n",
    "\n",
    "#M0 = fsolve(func_to_find_M0, 1.5 * np.ones_like(P_P_0)) \n",
    "\n",
    "P_P0 = np.arange(0.01,1.01,0.01)\n",
    "M0 = fsolve(find_root,1.5 * np.ones_like(P_P0))\n",
    "alpha=2      #spherical case\n",
    "rho1 = np.exp((1-M0**2)/2)\n",
    "r1 = (M0**(-1/alpha))*np.exp((M0**2-1)/(2*alpha))\n",
    "rho2 = (M0**2)*rho1\n",
    "h2 = (3/(4*M0**2)) * r1\n",
    "#EM2a = (rho2)**2 * h2 / h_0\n",
    "#EM2=(rho2)**2*(r1*h2/h_0)**(1/2)\n",
    "plt.plot(r1,P_P0,label=r'$P/P_0$')\n",
    "#plt.plot(r1,EM2a,label=r'$E_2/E_0$ perpendicular emission measure ')\n",
    "#plt.plot(r1,EM2,label=r'$S_2/S_0$ tangential emission measure ')\n",
    "#plt.plot(r1,M0,label=r'$M_0$')\n",
    "plt.plot(r1,rho1,label=r'$\\rho_1/\\rho_0$')\n",
    "#plt.plot(r1,rho2,label=r'$\\rho_2/\\rho_0$')\n",
    "#plt.plot(r1,h2,label=r'$h_2/r_0$')\n",
    "\n",
    "plt.plot(datos_HST['X'],1/datos_HST['X_P'],'*')\n",
    "plt.plot(np.mean(datos_HST['X'][np.isfinite(datos_HST['X'])]),n10_1,'*',color='b')\n",
    "plt.plot(np.mean(datos_HST['X'][np.isfinite(datos_HST['X'])]),n10_2,'*',color='k')\n",
    "plt.plot(np.mean(datos_HST['X'][np.isfinite(datos_HST['X'])]),n10_3,'*',color='r')\n",
    "plt.xlim(1,10)\n",
    "plt.ylim(0.001,15)\n",
    "\n",
    "plt.xlabel(r'$r_1/r_0$')\n",
    "plt.legend()\n",
    "plt.yscale('log')\n",
    "plt.xscale('log')\n",
    "plt.grid()"
   ]
  },
  {
   "cell_type": "code",
   "execution_count": null,
   "metadata": {},
   "outputs": [],
   "source": [
    "np.mean(datos_HST['X'][np.isfinite(datos_HST['X'])])"
   ]
  },
  {
   "cell_type": "code",
   "execution_count": null,
   "metadata": {},
   "outputs": [],
   "source": [
    "dist = np.arange(3,35,0.1)*u.arcsec\n",
    "P_RAM = M_loss*v_inf/(4*np.pi*(((dist.value*D.value*u.AU)).to('cm'))**2)\n",
    "plt.plot(dist,P_RAM.cgs)\n",
    "plt.plot(datos_HST['Sep'],P_g.cgs,'*')\n",
    "plt.yscale('log')"
   ]
  },
  {
   "cell_type": "code",
   "execution_count": null,
   "metadata": {},
   "outputs": [],
   "source": [
    "cos_i = (1/datos_HST['X_P'])**(2/5)\n",
    "datos_HST['cos_i']=cos_i\n",
    "plt.hist(cos_i)"
   ]
  },
  {
   "cell_type": "code",
   "execution_count": null,
   "metadata": {},
   "outputs": [],
   "source": [
    "datos_HST"
   ]
  },
  {
   "cell_type": "code",
   "execution_count": null,
   "metadata": {},
   "outputs": [],
   "source": [
    "plt.plot(r1,P_P0,label=r'$P/P_0$')\n",
    "#plt.plot(r1,EM2a,label=r'$E_2/E_0$ perpendicular emission measure ')\n",
    "#plt.plot(r1,EM2,label=r'$S_2/S_0$ tangential emission measure ')\n",
    "#plt.plot(r1,M0,label=r'$M_0$')\n",
    "plt.plot(r1,rho1,label=r'$\\rho_1/\\rho_0$')\n",
    "#plt.plot(r1,rho2,label=r'$\\rho_2/\\rho_0$')\n",
    "#plt.plot(r1,h2,label=r'$h_2/r_0$')\n",
    "\n",
    "plt.plot(datos_HST['X'],1/datos_HST['X_P']*(cos_i**(5/2)),'*')\n",
    "plt.plot(datos_HST['X'],1/datos_HST['X_P'],'*',color='r')\n",
    "plt.plot(np.mean(datos_HST['X'][np.isfinite(datos_HST['X'])]),n10_1,'+',color='b')\n",
    "plt.plot(np.mean(datos_HST['X'][np.isfinite(datos_HST['X'])]),n10_2,'+',color='k')\n",
    "plt.plot(np.mean(datos_HST['X'][np.isfinite(datos_HST['X'])]),n10_3,'+',color='r')\n",
    "plt.xlim(1,10)\n",
    "plt.ylim(0.001,11)\n",
    "\n",
    "plt.xlabel(r'$r_1/r_0$')\n",
    "plt.legend()\n",
    "plt.yscale('log')\n",
    "plt.xscale('log')\n",
    "plt.grid()"
   ]
  },
  {
   "cell_type": "code",
   "execution_count": null,
   "metadata": {},
   "outputs": [],
   "source": [
    "plt.plot(r1,P_P0,label=r'$P/P_0$')\n",
    "plt.plot(r1,rho1,label=r'$\\rho_1/\\rho_0$')\n",
    "\n",
    "\n",
    "plt.plot(datos_JWST['X'],1/datos_HST['X_P']*(cos_i**(5/2)),'*')\n",
    "plt.plot(datos_JWST['X'],1/datos_HST['X_P'],'*',color='r')\n",
    "plt.plot(np.mean(datos_JWST['X'][np.isfinite(datos_JWST['X'])]),n10_1,'+',color='b')\n",
    "plt.plot(np.mean(datos_JWST['X'][np.isfinite(datos_JWST['X'])]),n10_2,'+',color='k')\n",
    "plt.plot(np.mean(datos_JWST['X'][np.isfinite(datos_JWST['X'])]),n10_3,'+',color='r')\n",
    "plt.xlim(1,15)\n",
    "plt.ylim(0.001,11)\n",
    "\n",
    "plt.xlabel(r'$r_1/r_0$')\n",
    "plt.legend()\n",
    "plt.yscale('log')\n",
    "plt.xscale('log')\n",
    "plt.grid()"
   ]
  },
  {
   "cell_type": "code",
   "execution_count": null,
   "metadata": {},
   "outputs": [],
   "source": [
    "for i in range(len(datos_HST)):\n",
    "    plt.plot(datos_HST['X'][i],1/datos_HST['X_P'][i],'*',color=datos_HST['Color'][i])\n",
    "\n",
    "plt.plot(r1,P_P0,label=r'$P/P_0$')\n",
    "plt.plot(r1,rho1,label=r'$\\rho_1/\\rho_0$')\n",
    "plt.xlim(1,15)\n",
    "plt.ylim(0.001,11)\n",
    "\n",
    "plt.xlabel(r'$r_1/r_0$')\n",
    "plt.legend()\n",
    "plt.yscale('log')\n",
    "plt.xscale('log')\n",
    "plt.grid()"
   ]
  },
  {
   "cell_type": "code",
   "execution_count": null,
   "metadata": {},
   "outputs": [],
   "source": [
    "for i in range(len(datos_HST)):\n",
    "    plt.plot(datos_HST['X'][i],1/datos_HST['X_P'][i]*cos_i[i]**(5/2),'*',color=datos_HST['Color'][i])\n",
    "\n",
    "plt.plot(r1,P_P0,label=r'$P/P_0$')\n",
    "plt.plot(r1,rho1,label=r'$\\rho_1/\\rho_0$')\n",
    "plt.xlim(1,15)\n",
    "plt.ylim(0.001,11)\n",
    "\n",
    "plt.xlabel(r'$r_1/r_0$')\n",
    "plt.legend()\n",
    "plt.yscale('log')\n",
    "plt.xscale('log')\n",
    "plt.grid()"
   ]
  },
  {
   "cell_type": "code",
   "execution_count": null,
   "metadata": {},
   "outputs": [],
   "source": [
    "for i in range(len(datos_HST)):\n",
    "    plt.plot(datos_JWST['X'][i],1/datos_HST['X_P'][i],'*',color=datos_HST['Color'][i])\n",
    "\n",
    "plt.plot(r1,P_P0,label=r'$P/P_0$')\n",
    "plt.plot(r1,rho1,label=r'$\\rho_1/\\rho_0$')\n",
    "plt.xlim(1,15)\n",
    "plt.ylim(0.001,11)\n",
    "\n",
    "plt.xlabel(r'$r_1/r_0$')\n",
    "plt.legend()\n",
    "plt.yscale('log')\n",
    "plt.xscale('log')\n",
    "plt.grid()"
   ]
  },
  {
   "cell_type": "code",
   "execution_count": null,
   "metadata": {},
   "outputs": [],
   "source": [
    "for i in range(len(datos_HST)):\n",
    "    plt.plot(datos_JWST['X'][i],1/datos_HST['X_P'][i]*cos_i[i]**(5/2),'*',color=datos_HST['Color'][i])\n",
    "\n",
    "plt.plot(r1,P_P0,label=r'$P/P_0$')\n",
    "plt.plot(r1,rho1,label=r'$\\rho_1/\\rho_0$')\n",
    "plt.xlim(1,15)\n",
    "plt.ylim(0.001,11)\n",
    "\n",
    "plt.xlabel(r'$r_1/r_0$')\n",
    "plt.legend()\n",
    "plt.yscale('log')\n",
    "plt.xscale('log')\n",
    "plt.grid()"
   ]
  },
  {
   "cell_type": "code",
   "execution_count": null,
   "metadata": {},
   "outputs": [],
   "source": [
    "curiosos = np.loadtxt('checar.txt')\n",
    "curiosos"
   ]
  },
  {
   "cell_type": "code",
   "execution_count": null,
   "metadata": {},
   "outputs": [],
   "source": [
    "for i in range(len(datos_HST)):\n",
    "    if i in curiosos:\n",
    "        plt.plot(datos_JWST['X'][i],1/datos_HST['X_P'][i]*cos_i[i]**(5/2),'*',color=datos_HST['Color'][i])\n",
    "\n",
    "plt.plot(r1,P_P0,label=r'$P/P_0$')\n",
    "plt.plot(r1,rho1,label=r'$\\rho_1/\\rho_0$')\n",
    "plt.xlim(1,15)\n",
    "plt.ylim(0.001,11)\n",
    "\n",
    "plt.xlabel(r'$r_1/r_0$')\n",
    "plt.legend()\n",
    "plt.yscale('log')\n",
    "plt.xscale('log')\n",
    "plt.grid()"
   ]
  },
  {
   "cell_type": "code",
   "execution_count": null,
   "metadata": {},
   "outputs": [],
   "source": [
    "good = np.loadtxt('Seleccionados_ind.txt')\n",
    "good"
   ]
  },
  {
   "cell_type": "code",
   "execution_count": null,
   "metadata": {},
   "outputs": [],
   "source": [
    "for i in range(len(datos_HST)):\n",
    "    if i in good:\n",
    "        plt.plot(datos_JWST['X'][i],1/datos_HST['X_P'][i]*cos_i[i]**(5/2),'*',color=datos_HST['Color'][i])\n",
    "\n",
    "plt.plot(r1,P_P0,label=r'$P/P_0$')\n",
    "plt.plot(r1,rho1,label=r'$\\rho_1/\\rho_0$')\n",
    "plt.xlim(1,15)\n",
    "plt.ylim(0.001,11)\n",
    "\n",
    "plt.xlabel(r'$r_1/r_0$')\n",
    "plt.legend()\n",
    "plt.yscale('log')\n",
    "plt.xscale('log')\n",
    "plt.grid()"
   ]
  },
  {
   "cell_type": "code",
   "execution_count": null,
   "metadata": {},
   "outputs": [],
   "source": [
    "for i in range(len(datos_HST)):\n",
    "    if i in good:\n",
    "        plt.plot(datos_JWST['X'][i],1/datos_HST['X_P'][i],'*',color=datos_HST['Color'][i])\n",
    "\n",
    "plt.plot(r1,P_P0,label=r'$P/P_0$')\n",
    "plt.plot(r1,rho1,label=r'$\\rho_1/\\rho_0$')\n",
    "plt.xlim(1,15)\n",
    "plt.ylim(0.001,11)\n",
    "\n",
    "plt.xlabel(r'$r_1/r_0$')\n",
    "plt.legend()\n",
    "plt.yscale('log')\n",
    "plt.xscale('log')\n",
    "plt.grid()"
   ]
  },
  {
   "cell_type": "code",
   "execution_count": null,
   "metadata": {},
   "outputs": [],
   "source": [
    "for i in range(len(datos_HST)):\n",
    "    if i in good:\n",
    "        plt.plot(datos_HST['X'][i],1/datos_HST['X_P'][i],'*',color=datos_HST['Color'][i])\n",
    "\n",
    "plt.plot(r1,P_P0,label=r'$P/P_0$')\n",
    "plt.plot(r1,rho1,label=r'$\\rho_1/\\rho_0$')\n",
    "plt.xlim(1,15)\n",
    "plt.ylim(0.001,11)\n",
    "\n",
    "plt.xlabel(r'$r_1/r_0$')\n",
    "plt.legend()\n",
    "plt.yscale('log')\n",
    "plt.xscale('log')\n",
    "plt.grid()"
   ]
  },
  {
   "cell_type": "code",
   "execution_count": null,
   "metadata": {},
   "outputs": [],
   "source": [
    "for i in range(len(datos_HST)):\n",
    "    if i in good:\n",
    "        plt.plot(datos_HST['X'][i],1/datos_HST['X_P'][i]*cos_i[i]**(5/2),'*',color=datos_HST['Color'][i])\n",
    "\n",
    "plt.plot(r1,P_P0,label=r'$P/P_0$')\n",
    "plt.plot(r1,rho1,label=r'$\\rho_1/\\rho_0$')\n",
    "plt.xlim(1,15)\n",
    "plt.ylim(0.001,11)\n",
    "\n",
    "plt.xlabel(r'$r_1/r_0$')\n",
    "plt.legend()\n",
    "plt.yscale('log')\n",
    "plt.xscale('log')\n",
    "plt.grid()"
   ]
  },
  {
   "cell_type": "code",
   "execution_count": null,
   "metadata": {},
   "outputs": [],
   "source": []
  }
 ],
 "metadata": {
  "kernelspec": {
   "display_name": "Python 3",
   "language": "python",
   "name": "python3"
  },
  "language_info": {
   "codemirror_mode": {
    "name": "ipython",
    "version": 3
   },
   "file_extension": ".py",
   "mimetype": "text/x-python",
   "name": "python",
   "nbconvert_exporter": "python",
   "pygments_lexer": "ipython3",
   "version": "3.8.5"
  }
 },
 "nbformat": 4,
 "nbformat_minor": 5
}
