{
 "cells": [
  {
   "cell_type": "code",
   "execution_count": 2,
   "metadata": {},
   "outputs": [],
   "source": [
    "import numpy as np\n",
    "from astropy import units as u\n",
    "from astropy import constants as cte\n",
    "import matplotlib.pyplot as plt"
   ]
  },
  {
   "cell_type": "markdown",
   "metadata": {},
   "source": [
    "# Estimate of  superfitial brightness intensity\n",
    "\n",
    "We want to estimate the brightness using the EM of the observational data for diferents $\\lambda$ in the range of JWST.\n",
    "\n",
    "For this, we want to know if what we see in the free-free emission, so first we estimate the intensity of this emission."
   ]
  },
  {
   "cell_type": "markdown",
   "metadata": {},
   "source": [
    "For the Gaunt factor we calculate in a general way by the ec. 10.7 from Draine\n",
    "\n",
    "$$g_{ff}\\approx 6.155(Z\\nu_9)^{-0.118}T_4^{0.177}$$\n",
    "\n",
    "where $\\nu_9=\\nu/1GHz$ y $T_4=T/10^4K$"
   ]
  },
  {
   "cell_type": "code",
   "execution_count": 3,
   "metadata": {},
   "outputs": [],
   "source": [
    "def gaunt_factor(Z,nu,T1):\n",
    "    '''T1 does not have units'''\n",
    "    T = T1*u.K\n",
    "    nu_9 = nu.to('Hz')/(1e9*u.Hz)\n",
    "    T_4 = T/(1e4*u.K)\n",
    "    return(6.155*((Z*nu_9)**(-0.118))*((T_4)**0.177))\n"
   ]
  },
  {
   "cell_type": "code",
   "execution_count": 4,
   "metadata": {},
   "outputs": [],
   "source": [
    "wave_micro = [0.9,1.5,2.1,3.35,4.44,7.7,11,12.5,18] # micrometer\n",
    "nu = cte.c/((np.array(wave_micro))*u.micrometer)    "
   ]
  },
  {
   "cell_type": "markdown",
   "metadata": {},
   "source": [
    "First we take the intensity from Rybicki ec. 5.14b\n",
    "\n",
    "The emissivity is:\n",
    "\n",
    "$$\\epsilon = 6.8\\times 10^{38}Z^2T^{-1/2}n_en_i e^{-h\\nu/kT}g_{ff}$$\n",
    "\n",
    "with units $\\frac{erg}{s cm^3 Hz}$.\n",
    "\n",
    "To have the units of $sr$ we divide by $4\\pi$. If we assuming that $n_e=n_i$ and using the EM we have that\n",
    "\n",
    "$$I_\\nu=\\int j_\\nu dz=\\frac{EM}{4\\pi} 6.8\\times 10^{38}Z^2T^{-1/2} e^{-h\\nu/kT}g_{ff}$$\n",
    "\n",
    "with units of  $Jy/sr$ an later we convert to $MJy/sr$."
   ]
  },
  {
   "cell_type": "code",
   "execution_count": 5,
   "metadata": {},
   "outputs": [],
   "source": [
    "def intensity(EM,Z,T,lamb,):\n",
    "    '''lambda must have lengths units'''\n",
    "    '''T does not have units'''\n",
    "    nu =cte.c/(lamb)\n",
    "    g_ff = gaunt_factor(Z,nu,T)\n",
    "    exp = np.exp(-cte.h*nu/(cte.k_B*T*u.K))\n",
    "    return (EM*(6.8e-38)/(4*np.pi)*Z**2*(T**(-1/2))*exp*g_ff*u.erg/(u.second*(u.cm)**3*u.Hz*u.sr)*u.cm)"
   ]
  },
  {
   "cell_type": "code",
   "execution_count": 6,
   "metadata": {},
   "outputs": [
    {
     "name": "stderr",
     "output_type": "stream",
     "text": [
      "/home/roberto/anaconda3/lib/python3.8/site-packages/pandas/core/computation/expressions.py:20: UserWarning: Pandas requires version '2.7.3' or newer of 'numexpr' (version '2.7.1' currently installed).\n",
      "  from pandas.core.computation.check import NUMEXPR_INSTALLED\n"
     ]
    }
   ],
   "source": [
    "from astropy.table import QTable\n",
    "'''Here we import the EM and others parameters'''\n",
    "'''Our EM units are pc cm^-6'''\n",
    "\n",
    "tab = QTable.read(\"/home/roberto/globule-seminario/m1-67/m1-67-globule-parameters.ecsv\")\n",
    "#tab = QTable.read(\"../m1-67/m1-67-globule-parameters.ecsv\") the ... the direction in our server\n",
    "df = tab.to_pandas()\n",
    "D = 5429*u.pc                      # conversation with Jane\n",
    "v_inf = 710*u.km*(1/u.second)      # Hanmman\n",
    "M_loss = (2.0E-5)*u.M_sun*(1/u.yr) #Crowther 1999\n",
    "L = 10**(49.1)*(1/u.second)        # Hanmman\n",
    "E = (6.61E-27*2.99E10)/(6.563E-5)*(u.erg)\n",
    "EM = (df['Bshell'])*(0.0137*4*np.pi)/(3.61E5*E)*(u.pc/(u.cm**5))\n",
    "EM\n",
    "l = 2*(df['Rshell']*df['Hshell'])**(1/2)*D*4.84814e-6 #factor to converto to cm\n",
    "l\n",
    "n = (EM/(l))**(1/2)"
   ]
  },
  {
   "cell_type": "markdown",
   "metadata": {},
   "source": [
    "conversion factor to $\\frac{MJy}{sr}$"
   ]
  },
  {
   "cell_type": "code",
   "execution_count": 7,
   "metadata": {},
   "outputs": [],
   "source": [
    "convert_to_MJy_sr = 1*u.MJy/(1*u.sr)"
   ]
  },
  {
   "cell_type": "markdown",
   "metadata": {},
   "source": [
    "To convert the EM in $cm^{-5}$ we multiply by $3.086\\times10^{18}$"
   ]
  },
  {
   "cell_type": "code",
   "execution_count": 8,
   "metadata": {},
   "outputs": [
    {
     "data": {
      "text/latex": [
       "$0.12176988 \\; \\mathrm{\\frac{MJy}{sr}}$"
      ],
      "text/plain": [
       "<Quantity 0.12176988 MJy / sr>"
      ]
     },
     "execution_count": 8,
     "metadata": {},
     "output_type": "execute_result"
    }
   ],
   "source": [
    "intensity(EM[2]*3.086e18,1,6000,0.9*u.micrometer).to(convert_to_MJy_sr)"
   ]
  },
  {
   "cell_type": "code",
   "execution_count": 10,
   "metadata": {},
   "outputs": [
    {
     "data": {
      "text/plain": [
       "(array([23., 33., 17., 13., 11.,  5.,  7.,  3.,  0.,  4.]),\n",
       " array([  5978.9763341 ,  20158.82153433,  34338.66673456,  48518.51193479,\n",
       "         62698.35713503,  76878.20233526,  91058.04753549, 105237.89273572,\n",
       "        119417.73793595, 133597.58313618, 147777.42833641]),\n",
       " <BarContainer object of 10 artists>)"
      ]
     },
     "execution_count": 10,
     "metadata": {},
     "output_type": "execute_result"
    },
    {
     "data": {
      "image/png": "[encoded data removed]",
      "text/plain": [
       "<Figure size 432x288 with 1 Axes>"
      ]
     },
     "metadata": {
      "needs_background": "light"
     },
     "output_type": "display_data"
    }
   ],
   "source": [
    "plt.hist(EM)"
   ]
  },
  {
   "cell_type": "markdown",
   "metadata": {},
   "source": [
    "In the histogram we see that a tipic value is $\\sim 30000$, so we use the data with index 167"
   ]
  },
  {
   "cell_type": "code",
   "execution_count": 11,
   "metadata": {},
   "outputs": [
    {
     "data": {
      "text/latex": [
       "$0.059139744 \\; \\mathrm{\\frac{MJy}{sr}}$"
      ],
      "text/plain": [
       "<Quantity 0.05913974 MJy / sr>"
      ]
     },
     "execution_count": 11,
     "metadata": {},
     "output_type": "execute_result"
    }
   ],
   "source": [
    "'''The intensity at 9 micrometer'''\n",
    "intensity(EM[167]*3.086e18,1,6000,0.9*u.micrometer).to(convert_to_MJy_sr)"
   ]
  },
  {
   "cell_type": "code",
   "execution_count": 13,
   "metadata": {},
   "outputs": [
    {
     "name": "stdout",
     "output_type": "stream",
     "text": [
      "at 0.9 $\\mu $m   the intensity is: 0.05913974361805958 MJy / sr\n",
      "at 1.5 $\\mu $m   the intensity is: 0.18235243176246824 MJy / sr\n",
      "at 2.1 $\\mu $m   the intensity is: 0.29958540666495975 MJy / sr\n",
      "at 3.35 $\\mu $m   the intensity is: 0.48472672286052876 MJy / sr\n",
      "at 4.44 $\\mu $m   the intensity is: 0.5973798352610536 MJy / sr\n",
      "at 7.7 $\\mu $m   the intensity is: 0.8012538212595678 MJy / sr\n",
      "at 11 $\\mu $m   the intensity is: 0.9175366188622557 MJy / sr\n",
      "at 12.5 $\\mu $m   the intensity is: 0.9561706565233719 MJy / sr\n",
      "at 18 $\\mu $m   the intensity is: 1.0584714639725215 MJy / sr\n"
     ]
    }
   ],
   "source": [
    "for i in wave_micro:\n",
    "    print('at', i,rf'$\\mu $m   the intensity is:', intensity(EM[167]*3.086e18,1,6000,i*u.micrometer).to(convert_to_MJy_sr))"
   ]
  },
  {
   "cell_type": "code",
   "execution_count": null,
   "metadata": {},
   "outputs": [],
   "source": []
  }
 ],
 "metadata": {
  "kernelspec": {
   "display_name": "Python 3",
   "language": "python",
   "name": "python3"
  },
  "language_info": {
   "codemirror_mode": {
    "name": "ipython",
    "version": 3
   },
   "file_extension": ".py",
   "mimetype": "text/x-python",
   "name": "python",
   "nbconvert_exporter": "python",
   "pygments_lexer": "ipython3",
   "version": "3.8.5"
  }
 },
 "nbformat": 4,
 "nbformat_minor": 4
}
