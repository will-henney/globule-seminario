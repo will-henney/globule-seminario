{
 "cells": [
  {
   "cell_type": "code",
   "execution_count": 1,
   "metadata": {},
   "outputs": [],
   "source": [
    "from astropy.io import fits\n",
    "import pyregion\n",
    "import numpy as np\n",
    "import matplotlib.pyplot as plt\n",
    "from astropy import units as u\n",
    "from astropy import constants as cte \n",
    "import regions\n",
    "from astropy.wcs import WCS\n",
    "import cmasher as cm\n",
    "import seaborn as sn\n",
    "from discrete_gaussian_model import DiscreteGaussianModel\n",
    "from astropy.nddata import Cutout2D\n",
    "from astropy.coordinates import Angle\n",
    "from astropy.modeling import models, fitting\n",
    "from astropy.modeling.models import Const1D\n",
    "from astropy.table import QTable, Table\n",
    "from astropy.coordinates import SkyCoord\n",
    "FITTER = fitting.LevMarLSQFitter()"
   ]
  },
  {
   "cell_type": "code",
   "execution_count": 40,
   "metadata": {},
   "outputs": [],
   "source": [
    "G1 = np.array([\n",
    "    1\n",
    "])\n",
    "G2 = np.array([\n",
    "    1.5,-4\n",
    "])\n",
    "G3 = np.array([\n",
    "    1.5,9,15,-2,-8\n",
    "])\n",
    "G4 = np.array([\n",
    "    2,4,-2,-12\n",
    "])\n",
    "G5 = np.array([\n",
    "    2,10,19,-2,-8,-13\n",
    "])\n",
    "G6 = np.array([\n",
    "    2.5,-1,-9,-18\n",
    "])"
   ]
  },
  {
   "cell_type": "code",
   "execution_count": 56,
   "metadata": {},
   "outputs": [],
   "source": [
    "Rend = np.array([-18,-11.3,-5.1,0,9.4,16.5,23.8])"
   ]
  },
  {
   "cell_type": "code",
   "execution_count": 6,
   "metadata": {},
   "outputs": [],
   "source": [
    "def dis(x,y):\n",
    "    d = np.sqrt(x**2+y**2)\n",
    "    return(d)"
   ]
  },
  {
   "cell_type": "code",
   "execution_count": 26,
   "metadata": {},
   "outputs": [
    {
     "name": "stdout",
     "output_type": "stream",
     "text": [
      "[18.02775638] [358.48178673]\n"
     ]
    }
   ],
   "source": [
    "print(dis(G1,Rend[0]),np.arctan(-1*G1+Rend[0])%360)"
   ]
  },
  {
   "cell_type": "code",
   "execution_count": 59,
   "metadata": {},
   "outputs": [
    {
     "data": {
      "text/plain": [
       "array([11.39912277, 11.98707637])"
      ]
     },
     "execution_count": 59,
     "metadata": {},
     "output_type": "execute_result"
    }
   ],
   "source": [
    "dis(G2,Rend[1])"
   ]
  },
  {
   "cell_type": "code",
   "execution_count": 60,
   "metadata": {},
   "outputs": [
    {
     "data": {
      "text/plain": [
       "array([ 5.31601354, 10.34456379, 15.84329511,  5.47813837,  9.48736001])"
      ]
     },
     "execution_count": 60,
     "metadata": {},
     "output_type": "execute_result"
    }
   ],
   "source": [
    "dis(G3,Rend[2])"
   ]
  },
  {
   "cell_type": "code",
   "execution_count": 61,
   "metadata": {},
   "outputs": [
    {
     "data": {
      "text/plain": [
       "array([ 2.,  4.,  2., 12.])"
      ]
     },
     "execution_count": 61,
     "metadata": {},
     "output_type": "execute_result"
    }
   ],
   "source": [
    "dis(G4,Rend[3])"
   ]
  },
  {
   "cell_type": "code",
   "execution_count": 62,
   "metadata": {},
   "outputs": [
    {
     "data": {
      "text/plain": [
       "array([ 9.61041102, 13.72443077, 21.19811312,  9.61041102, 12.3434193 ,\n",
       "       16.0424437 ])"
      ]
     },
     "execution_count": 62,
     "metadata": {},
     "output_type": "execute_result"
    }
   ],
   "source": [
    "dis(G5,Rend[4])"
   ]
  },
  {
   "cell_type": "code",
   "execution_count": 63,
   "metadata": {},
   "outputs": [
    {
     "data": {
      "text/plain": [
       "array([16.68831927, 16.53027525, 18.79494613, 24.41823089])"
      ]
     },
     "execution_count": 63,
     "metadata": {},
     "output_type": "execute_result"
    }
   ],
   "source": [
    "dis(G6,Rend[5])"
   ]
  },
  {
   "cell_type": "code",
   "execution_count": 108,
   "metadata": {},
   "outputs": [],
   "source": [
    "def PA(x,y):\n",
    "    Pa = (atan2(y,x)*(180/np.pi))%360\n",
    "    return(Pa)"
   ]
  },
  {
   "cell_type": "code",
   "execution_count": 107,
   "metadata": {},
   "outputs": [
    {
     "data": {
      "text/plain": [
       "274.76364169072616"
      ]
     },
     "execution_count": 107,
     "metadata": {},
     "output_type": "execute_result"
    }
   ],
   "source": [
    "from math import atan2\n",
    "(atan2(Rend[0],G2[0])*(180/np.pi))%360"
   ]
  },
  {
   "cell_type": "code",
   "execution_count": 70,
   "metadata": {},
   "outputs": [
    {
     "data": {
      "text/plain": [
       "array([358.50717031, 358.56534263])"
      ]
     },
     "execution_count": 70,
     "metadata": {},
     "output_type": "execute_result"
    }
   ],
   "source": [
    "np.arctan(-1*G2+Rend[1])%360"
   ]
  },
  {
   "cell_type": "code",
   "execution_count": 71,
   "metadata": {},
   "outputs": [
    {
     "name": "stdout",
     "output_type": "stream",
     "text": [
      "[18.02775638] [358.48178673]\n"
     ]
    }
   ],
   "source": [
    "print(dis(G1,Rend[0]),np.arctan(-1*G1+Rend[0])%360)"
   ]
  },
  {
   "cell_type": "code",
   "execution_count": 72,
   "metadata": {},
   "outputs": [],
   "source": [
    "from dataclasses import dataclass\n",
    "\n",
    "@dataclass\n",
    "class GlobuleGroup:\n",
    "    \"\"\"A spatial group of globules defined as a rectangle in PA, Sep space\"\"\"\n",
    "    name: str\n",
    "    pa0: u.Quantity[\"angle\"]\n",
    "    sep0: float\n",
    "    dpa: u.Quantity[\"angle\"] = 60 * u.deg\n",
    "    dsep: float = 5.0\n",
    "\n",
    "    def contains(self, pa, sep) -> bool:\n",
    "        \"\"\"Is a given PA, and Sep inside the box or not?\"\"\"\n",
    "        Dsep = abs(sep - self.sep0)\n",
    "        sep_check =  Dsep <= self.dsep / 2\n",
    "        Dpa = abs(Angle(pa - self.pa0).wrap_at(180 * u.deg)) \n",
    "        pa_check = Dpa <= self.dpa / 2\n",
    "        # print(Dsep, sep_check, Dpa, pa_check)\n",
    "        return sep_check and pa_check\n",
    "\n",
    "\n",
    "globule_groups = [\n",
    "    GlobuleGroup(\"NE-04\", 15 * u.deg, 3.5, 150 * u.deg,  7.0),\n",
    "    GlobuleGroup(\"S-07\", 200 * u.deg, 7.5, 100 * u.deg,  4.0),\n",
    "    GlobuleGroup(\"W-08\", 270 * u.deg, 9.0, 60 * u.deg,  6.0),\n",
    "    GlobuleGroup(\"N-10\", 350 * u.deg, 9.5, 60 * u.deg,  5.0),\n",
    "    GlobuleGroup(\"S-12\", 195 * u.deg, 12.0, 90 * u.deg,  6.0),\n",
    "    GlobuleGroup(\"E-13\", 70 * u.deg, 12.0, 100 * u.deg,  11.0),\n",
    "    GlobuleGroup(\"N-16\", 350 * u.deg, 17.0, 60 * u.deg,  8.0),\n",
    "    GlobuleGroup(\"E-20\", 90 * u.deg, 20.0, 40 * u.deg,  6.0),\n",
    "    GlobuleGroup(\"S-20\", 200 * u.deg, 20.0, 100 * u.deg,  8.0),\n",
    "    GlobuleGroup(\"W-21\", 280 * u.deg, 21.0, 40 * u.deg,  8.0),\n",
    "    GlobuleGroup(\"E-27\", 90 * u.deg, 29.0, 60 * u.deg,  8.0),\n",
    "    GlobuleGroup(\"SW-27\", 210 * u.deg, 27.0, 120 * u.deg,  6.0),\n",
    "    GlobuleGroup(\"N-27\", 340 * u.deg, 26.0, 60 * u.deg,  6.0),\n",
    "    GlobuleGroup(\"S-33\", 160 * u.deg, 34.0, 40 * u.deg,  4.0),\n",
    "\n",
    "]\n",
    "\n",
    "def assign_to_group(pa: u.Quantity[\"angle\"], sep: u.Quantity[\"angle\"]) -> str:\n",
    "    for _group in globule_groups:\n",
    "        if _group.contains(pa, sep.to(u.arcsec).value):\n",
    "            # The first match is the one we use\n",
    "            return _group.name\n",
    "    # Case of no match\n",
    "    return None"
   ]
  },
  {
   "cell_type": "code",
   "execution_count": 109,
   "metadata": {},
   "outputs": [
    {
     "name": "stdout",
     "output_type": "stream",
     "text": [
      "W-21\n"
     ]
    }
   ],
   "source": [
    "for i in range(len(G1)):\n",
    "    print(assign_to_group(PA(G1[i],Rend[0])*u.deg,dis(G1[i],Rend[0])*u.arcsec))"
   ]
  },
  {
   "cell_type": "code",
   "execution_count": 110,
   "metadata": {},
   "outputs": [
    {
     "name": "stdout",
     "output_type": "stream",
     "text": [
      "W-08\n",
      "W-08\n"
     ]
    }
   ],
   "source": [
    "for i in range(len(G2)):\n",
    "    print(assign_to_group(PA(G2[i],Rend[1])*u.deg,dis(G2[i],Rend[1])*u.arcsec))"
   ]
  },
  {
   "cell_type": "code",
   "execution_count": 111,
   "metadata": {},
   "outputs": [
    {
     "name": "stdout",
     "output_type": "stream",
     "text": [
      "None\n",
      "N-10\n",
      "N-16\n",
      "None\n",
      "S-07\n"
     ]
    }
   ],
   "source": [
    "for i in range(len(G3)):\n",
    "    print(assign_to_group(PA(G3[i],Rend[2])*u.deg,dis(G3[i],Rend[2])*u.arcsec))"
   ]
  },
  {
   "cell_type": "code",
   "execution_count": 112,
   "metadata": {},
   "outputs": [
    {
     "name": "stdout",
     "output_type": "stream",
     "text": [
      "NE-04\n",
      "NE-04\n",
      "None\n",
      "S-12\n"
     ]
    }
   ],
   "source": [
    "for i in range(len(G4)):\n",
    "    print(assign_to_group(PA(G4[i],Rend[3])*u.deg,dis(G4[i],Rend[3])*u.arcsec))"
   ]
  },
  {
   "cell_type": "code",
   "execution_count": 113,
   "metadata": {},
   "outputs": [
    {
     "name": "stdout",
     "output_type": "stream",
     "text": [
      "E-13\n",
      "E-13\n",
      "None\n",
      "E-13\n",
      "None\n",
      "None\n"
     ]
    }
   ],
   "source": [
    "for i in range(len(G5)):\n",
    "    print(assign_to_group(PA(G5[i],Rend[4])*u.deg,dis(G5[i],Rend[4])*u.arcsec))"
   ]
  },
  {
   "cell_type": "code",
   "execution_count": 114,
   "metadata": {},
   "outputs": [
    {
     "name": "stdout",
     "output_type": "stream",
     "text": [
      "E-13\n",
      "E-13\n",
      "None\n",
      "None\n"
     ]
    }
   ],
   "source": [
    "for i in range(len(G6)):\n",
    "    print(assign_to_group(PA(G6[i],Rend[5])*u.deg,dis(G6[i],Rend[5])*u.arcsec))"
   ]
  },
  {
   "cell_type": "code",
   "execution_count": null,
   "metadata": {},
   "outputs": [],
   "source": []
  },
  {
   "cell_type": "markdown",
   "metadata": {},
   "source": [
    "# Mapeo 3D\n",
    "\n",
    "Ahora vamos a utilizar el articulo de Zavala para tener una distribución mejor en cuanto a los glóbulos\n",
    "\n",
    "Para esto tenemos que localizar los glóbulos que hay en cada rendija, con esto podemos tener\n",
    " * Su distancia\n",
    " * su PA\n",
    " * velocidad\n",
    "\n",
    "Creemos que hay un par de cáscaras en las que se encuentran ciertos glóbulos por lo que vamos a comprobar."
   ]
  },
  {
   "cell_type": "code",
   "execution_count": 115,
   "metadata": {},
   "outputs": [],
   "source": [
    "from astropy.io import fits\n",
    "import pyregion\n",
    "import numpy as np\n",
    "import matplotlib.pyplot as plt\n",
    "from astropy import units as u\n",
    "from astropy import constants as cte \n",
    "import regions\n",
    "from astropy.wcs import WCS\n",
    "import cmasher as cm\n",
    "import seaborn as sn\n",
    "from discrete_gaussian_model import DiscreteGaussianModel\n",
    "from astropy.nddata import Cutout2D\n",
    "from astropy.coordinates import Angle\n",
    "from astropy.modeling import models, fitting\n",
    "from astropy.modeling.models import Const1D\n",
    "from astropy.table import QTable, Table\n",
    "from astropy.coordinates import SkyCoord\n",
    "FITTER = fitting.LevMarLSQFitter()"
   ]
  },
  {
   "cell_type": "code",
   "execution_count": 346,
   "metadata": {},
   "outputs": [],
   "source": [
    "def dis(x,y):\n",
    "    d = np.sqrt(x**2+y**2)\n",
    "    return(d)\n",
    "\n",
    "from math import atan2\n",
    "\n",
    "def PA(x,y):\n",
    "    Pa = (atan2(y,-x)%360)#*(180/np.pi))%360\n",
    "    return(Pa)"
   ]
  },
  {
   "cell_type": "code",
   "execution_count": 118,
   "metadata": {},
   "outputs": [
    {
     "data": {
      "text/plain": [
       "14"
      ]
     },
     "execution_count": 118,
     "metadata": {},
     "output_type": "execute_result"
    }
   ],
   "source": [
    "Rendijas = [\n",
    "    -53.6,-41.1,-34.4,-26.8,-18.0,-11.3,5.1,0,9.4,16.5,23.8,32.1,41.1,49.9\n",
    "]\n",
    "len(Rendijas)"
   ]
  },
  {
   "cell_type": "code",
   "execution_count": 122,
   "metadata": {},
   "outputs": [
    {
     "data": {
      "text/plain": [
       "11"
      ]
     },
     "execution_count": 122,
     "metadata": {},
     "output_type": "execute_result"
    }
   ],
   "source": [
    "Y = [\n",
    "    1.64,1.98,2.33,2.67,3.02,3.36,3.70,4.05,4.39,4.74,5.08\n",
    "]\n",
    "Pos = [\n",
    "    50,40,30,20,10,0,-10,-20,-30,-40,-50\n",
    "]\n",
    "len(Pos)"
   ]
  },
  {
   "cell_type": "code",
   "execution_count": 193,
   "metadata": {},
   "outputs": [],
   "source": [
    "def POS_Y(num):\n",
    "    ele = 0\n",
    "    for i in range(len(Pos)):\n",
    "        if num < Y[i]:\n",
    "            ele = i-1\n",
    "            lon = np.abs(round((Y[i]-Y[i-1])/10,3))\n",
    "            p1 = round(Y[i]-num,3)\n",
    "            val1 = round(p1/lon,3)\n",
    "            res = round(Y[i]+val1,3)\n",
    "            print(round(Pos[i]+val1,3),lon,p1,val1,res)"
   ]
  },
  {
   "cell_type": "code",
   "execution_count": 310,
   "metadata": {},
   "outputs": [
    {
     "name": "stdout",
     "output_type": "stream",
     "text": [
      "-20.588 0.034 0.32 9.412 13.802\n",
      "-20.857 0.035 0.67 19.143 23.883\n",
      "-20.294 0.034 1.01 29.706 34.786\n"
     ]
    }
   ],
   "source": [
    "POS_Y(4.07)"
   ]
  },
  {
   "cell_type": "code",
   "execution_count": 162,
   "metadata": {},
   "outputs": [
    {
     "data": {
      "text/plain": [
       "4.239992"
      ]
     },
     "execution_count": 162,
     "metadata": {},
     "output_type": "execute_result"
    }
   ],
   "source": [
    "4.05+(0.034*5.588)"
   ]
  },
  {
   "cell_type": "code",
   "execution_count": 140,
   "metadata": {},
   "outputs": [
    {
     "data": {
      "text/plain": [
       "4.46"
      ]
     },
     "execution_count": 140,
     "metadata": {},
     "output_type": "execute_result"
    }
   ],
   "source": [
    "4.39+.035*2"
   ]
  },
  {
   "cell_type": "code",
   "execution_count": 187,
   "metadata": {},
   "outputs": [
    {
     "data": {
      "text/plain": [
       "3.05999375"
      ]
     },
     "execution_count": 187,
     "metadata": {},
     "output_type": "execute_result"
    }
   ],
   "source": [
    "3.04+.004375*4.57"
   ]
  },
  {
   "cell_type": "code",
   "execution_count": 300,
   "metadata": {},
   "outputs": [
    {
     "data": {
      "text/plain": [
       "True"
      ]
     },
     "execution_count": 300,
     "metadata": {},
     "output_type": "execute_result"
    }
   ],
   "source": [
    "BY = [\n",
    "    -32,-25.5,-1.76,-1.47,1.47,4.41,22.5\n",
    "]\n",
    "Bvs = [\n",
    "    4,25.1,-16,6,-4.57,-7,14\n",
    "]\n",
    "len(BY) == len(Bvs)"
   ]
  },
  {
   "cell_type": "code",
   "execution_count": 301,
   "metadata": {},
   "outputs": [
    {
     "data": {
      "text/plain": [
       "True"
      ]
     },
     "execution_count": 301,
     "metadata": {},
     "output_type": "execute_result"
    }
   ],
   "source": [
    "CY = [\n",
    "    24.4,27.35,8.52,18.28\n",
    "]\n",
    "Cvs =[\n",
    "    20,12,34,34\n",
    "]\n",
    "len(CY) == len(Cvs)"
   ]
  },
  {
   "cell_type": "code",
   "execution_count": 302,
   "metadata": {},
   "outputs": [
    {
     "data": {
      "text/plain": [
       "True"
      ]
     },
     "execution_count": 302,
     "metadata": {},
     "output_type": "execute_result"
    }
   ],
   "source": [
    "DY = [\n",
    "    -19.71,-18,-3.52,0.29,10.28,14,19.14\n",
    "]\n",
    "Dvs = [\n",
    "    30,46,-18,36,34,30,22\n",
    "]\n",
    "len(DY)==len(Dvs)"
   ]
  },
  {
   "cell_type": "code",
   "execution_count": 303,
   "metadata": {},
   "outputs": [
    {
     "data": {
      "text/plain": [
       "True"
      ]
     },
     "execution_count": 303,
     "metadata": {},
     "output_type": "execute_result"
    }
   ],
   "source": [
    "EY = [\n",
    "    -37.71,-33.14,-28.23,-25.88,-23.82,-26.47,-22.64,-19.14,-9.07,-4.11,-2.35,.88,3.52,9.70,15.71,16,18.57\n",
    "]\n",
    "Evs = [\n",
    "    4,-2,-14,-18,-16,36,42,-30,-12,-10,40,34,34,-34,-34,26,24\n",
    "]\n",
    "len(EY)==len(Evs)"
   ]
  },
  {
   "cell_type": "code",
   "execution_count": 305,
   "metadata": {},
   "outputs": [
    {
     "data": {
      "text/plain": [
       "True"
      ]
     },
     "execution_count": 305,
     "metadata": {},
     "output_type": "execute_result"
    }
   ],
   "source": [
    "FY = [\n",
    "    -32.85,-31.71,-25.29,-25.88,-21.17,-13.14,-13.14,-8.23,-3.82,0,1.76,8.82,7.35,9.41,14,22.35\n",
    "]\n",
    "Fvs = [\n",
    "    0,16,-26,30,34,-34,34,44,-18,-26,38,-34,50,30,32,38\n",
    "]\n",
    "len(FY)==len(Fvs)"
   ]
  },
  {
   "cell_type": "code",
   "execution_count": 306,
   "metadata": {},
   "outputs": [
    {
     "data": {
      "text/plain": [
       "True"
      ]
     },
     "execution_count": 306,
     "metadata": {},
     "output_type": "execute_result"
    }
   ],
   "source": [
    "GY = [\n",
    "    -35.42,-19.42,-12.85,-10.57,3.23,8.52,18,21.76\n",
    "]\n",
    "Gvs = [\n",
    "    0,32,36,36,42,42,44,30\n",
    "]\n",
    "len(GY)==len(Gvs)"
   ]
  },
  {
   "cell_type": "code",
   "execution_count": 309,
   "metadata": {},
   "outputs": [
    {
     "data": {
      "text/plain": [
       "True"
      ]
     },
     "execution_count": 309,
     "metadata": {},
     "output_type": "execute_result"
    }
   ],
   "source": [
    "HY = [\n",
    "    18.28,15.14,10,3.23,-3.23,-8.23,-12.57,-14.85,-17.4,-23.52,-35.42,-37.71\n",
    "]\n",
    "Hvs =[\n",
    "    22,30,36,44,46,38,40,22,34,32,-2,2\n",
    "]\n",
    "len(HY)==len(Hvs)"
   ]
  },
  {
   "cell_type": "code",
   "execution_count": 311,
   "metadata": {},
   "outputs": [
    {
     "data": {
      "text/plain": [
       "True"
      ]
     },
     "execution_count": 311,
     "metadata": {},
     "output_type": "execute_result"
    }
   ],
   "source": [
    "IY = [\n",
    "    -34.28,-27.64,-18,-20.58,-18.28,-18.57,-15.17,-10.85,-8.23,-2.94,4.41,20,23.82,24.7,26.47\n",
    "]\n",
    "Ivs =[\n",
    "    8,-18,-34,22,14,34,36,44,44,48,48,24,22,6,20\n",
    "]\n",
    "len(IY)==len(Ivs)"
   ]
  },
  {
   "cell_type": "code",
   "execution_count": 312,
   "metadata": {},
   "outputs": [
    {
     "data": {
      "text/plain": [
       "True"
      ]
     },
     "execution_count": 312,
     "metadata": {},
     "output_type": "execute_result"
    }
   ],
   "source": [
    "JY = [\n",
    "    21.17,7.35,-1.76,-7.35,-17.14,-21.76,-23.52,-30.57,-38.28\n",
    "]\n",
    "Jvs = [\n",
    "    44,50,46,52,36,22,-12,-8,2\n",
    "]\n",
    "len(JY)==len(Jvs)"
   ]
  },
  {
   "cell_type": "code",
   "execution_count": 313,
   "metadata": {},
   "outputs": [
    {
     "data": {
      "text/plain": [
       "True"
      ]
     },
     "execution_count": 313,
     "metadata": {},
     "output_type": "execute_result"
    }
   ],
   "source": [
    "KY = [\n",
    "    -22.35,-14.85,-12,-1.76\n",
    "]\n",
    "Kvs = [\n",
    "    26,24,26,32\n",
    "]\n",
    "len(KY)==len(Kvs)"
   ]
  },
  {
   "cell_type": "code",
   "execution_count": 314,
   "metadata": {},
   "outputs": [
    {
     "data": {
      "text/plain": [
       "True"
      ]
     },
     "execution_count": 314,
     "metadata": {},
     "output_type": "execute_result"
    }
   ],
   "source": [
    "LY = [\n",
    "    -29.41,-27.05,-20.88,-19.14,-14.85,-7.05\n",
    "]\n",
    "Lvs = [\n",
    "    18,-2,20,-34,-34,-40\n",
    "]\n",
    "len(LY)==len(Lvs)"
   ]
  },
  {
   "cell_type": "code",
   "execution_count": 315,
   "metadata": {},
   "outputs": [
    {
     "data": {
      "text/plain": [
       "True"
      ]
     },
     "execution_count": 315,
     "metadata": {},
     "output_type": "execute_result"
    }
   ],
   "source": [
    "MY = [\n",
    "    -22.94,-13.14,-6.76\n",
    "]\n",
    "Mvs =[\n",
    "    0,-24,14\n",
    "]\n",
    "len(MY)==len(Mvs)"
   ]
  },
  {
   "cell_type": "code",
   "execution_count": 332,
   "metadata": {},
   "outputs": [],
   "source": [
    "Bdis = []\n",
    "for i in BY:\n",
    "    Bdis.append(dis(i,Rendijas[1]))\n",
    "                \n",
    "Cdis = []\n",
    "for i in CY:\n",
    "    Cdis.append(dis(i,Rendijas[2]))\n",
    "                \n",
    "Ddis = []\n",
    "for i in DY:\n",
    "    Ddis.append(dis(i,Rendijas[3]))\n",
    "                \n",
    "Edis = []\n",
    "for i in EY:\n",
    "    Edis.append(dis(i,Rendijas[4]))\n",
    "                \n",
    "Fdis = []\n",
    "for i in FY:\n",
    "    Fdis.append(dis(i,Rendijas[5]))\n",
    "                \n",
    "Gdis = []\n",
    "for i in GY:\n",
    "    Gdis.append(dis(i,Rendijas[6]))\n",
    "                \n",
    "Hdis = []\n",
    "for i in HY:\n",
    "    Hdis.append(dis(i,Rendijas[7]))\n",
    "                \n",
    "Mdis = []\n",
    "for i in MY:\n",
    "    Mdis.append(dis(i,Rendijas[12]))\n",
    "                \n",
    "Ldis = []\n",
    "for i in LY:\n",
    "    Ldis.append(dis(i,Rendijas[11]))\n",
    "                \n",
    "Idis = []\n",
    "for i in IY:\n",
    "    Idis.append(dis(i,Rendijas[8]))\n",
    "                \n",
    "Jdis = []\n",
    "for i in JY:\n",
    "    Jdis.append(dis(i,Rendijas[9]))\n",
    "                \n",
    "Kdis = []\n",
    "for i in KY:\n",
    "    Kdis.append(dis(i,Rendijas[10]))\n",
    "                "
   ]
  },
  {
   "cell_type": "code",
   "execution_count": 358,
   "metadata": {},
   "outputs": [],
   "source": [
    "import pandas as pd\n",
    "B = pd.DataFrame(\n",
    "    {\n",
    "        'Y' : BY,\n",
    "        'Dist' : Bdis,\n",
    "        'v' : Bvs,\n",
    "        'X' : Rendijas[1],\n",
    "        'PA' : [PA(Rendijas[1],i) for i in BY]\n",
    "    }\n",
    ")\n",
    "C = pd.DataFrame(\n",
    "    {\n",
    "        'Y' : CY,\n",
    "        'Dist' : Cdis,\n",
    "        'v' : Cvs,\n",
    "        'X' : Rendijas[2],\n",
    "        'PA' : [PA(Rendijas[2],i) for i in CY]\n",
    "    }\n",
    ")\n",
    "D = pd.DataFrame(\n",
    "    {\n",
    "        'Y' : DY,\n",
    "        'Dist' : Ddis,\n",
    "        'v' : Dvs,\n",
    "        'X' : Rendijas[3],\n",
    "        'PA' : [PA(Rendijas[3],i) for i in DY]\n",
    "    }\n",
    ")\n",
    "E = pd.DataFrame(\n",
    "    {\n",
    "        'Y' : EY,\n",
    "        'Dist' : Edis,\n",
    "        'v' : Evs,\n",
    "        'X' : Rendijas[4],\n",
    "        'PA' : [PA(Rendijas[4],i) for i in EY]\n",
    "    }\n",
    ")\n",
    "F = pd.DataFrame(\n",
    "    {\n",
    "        'Y' : FY,\n",
    "        'Dist' : Fdis,\n",
    "        'v' : Fvs,\n",
    "        'X' : Rendijas[5],\n",
    "        'PA' : [PA(Rendijas[5],i) for i in FY]\n",
    "    }\n",
    ")\n",
    "G = pd.DataFrame(\n",
    "    {\n",
    "        'Y' : GY,\n",
    "        'Dist' : Gdis,\n",
    "        'v' : Gvs,\n",
    "        'X' : Rendijas[6],\n",
    "        'PA' : [PA(Rendijas[6],i) for i in GY]\n",
    "    }\n",
    ")\n",
    "H = pd.DataFrame(\n",
    "    {\n",
    "        'Y' : HY,\n",
    "        'Dist' : Hdis,\n",
    "        'v' : Hvs,\n",
    "        'X' : Rendijas[7],\n",
    "        'PA' : [PA(Rendijas[7],i) for i in HY]\n",
    "    }\n",
    ")\n",
    "I = pd.DataFrame(\n",
    "    {\n",
    "        'Y' : IY,\n",
    "        'Dist' : Idis,\n",
    "        'v' : Ivs,\n",
    "        'X' : Rendijas[8],\n",
    "        'PA' : [PA(Rendijas[8],i) for i in IY]\n",
    "    }\n",
    ")\n",
    "J = pd.DataFrame(\n",
    "    {\n",
    "        'Y' : JY,\n",
    "        'Dist' : Jdis,\n",
    "        'v' : Jvs,\n",
    "        'X' : Rendijas[9],\n",
    "        'PA' : [PA(Rendijas[9],i) for i in JY]\n",
    "    }\n",
    ")\n",
    "K = pd.DataFrame(\n",
    "    {\n",
    "        'Y' : KY,\n",
    "        'Dist' : Kdis,\n",
    "        'v' : Kvs,\n",
    "        'X' : Rendijas[10],\n",
    "        'PA' : [PA(Rendijas[10],i) for i in KY]\n",
    "    }\n",
    ")\n",
    "L = pd.DataFrame(\n",
    "    {\n",
    "        'Y' : LY,\n",
    "        'Dist' : Ldis,\n",
    "        'v' : Lvs,\n",
    "        'X' : Rendijas[11],\n",
    "        'PA' : [PA(Rendijas[11],i) for i in LY]\n",
    "    }\n",
    ")\n",
    "M = pd.DataFrame(\n",
    "    {\n",
    "        'Y' : MY,\n",
    "        'Dist' : Mdis,\n",
    "        'v' : Mvs,\n",
    "        'X' : Rendijas[12],\n",
    "        'PA' : [PA(Rendijas[12],i) for i in MY]\n",
    "    }\n",
    ")\n"
   ]
  },
  {
   "cell_type": "code",
   "execution_count": 359,
   "metadata": {},
   "outputs": [
    {
     "data": {
      "text/html": [
       "<div>\n",
       "<style scoped>\n",
       "    .dataframe tbody tr th:only-of-type {\n",
       "        vertical-align: middle;\n",
       "    }\n",
       "\n",
       "    .dataframe tbody tr th {\n",
       "        vertical-align: top;\n",
       "    }\n",
       "\n",
       "    .dataframe thead th {\n",
       "        text-align: right;\n",
       "    }\n",
       "</style>\n",
       "<table border=\"1\" class=\"dataframe\">\n",
       "  <thead>\n",
       "    <tr style=\"text-align: right;\">\n",
       "      <th></th>\n",
       "      <th>Y</th>\n",
       "      <th>Dist</th>\n",
       "      <th>v</th>\n",
       "      <th>X</th>\n",
       "      <th>PA</th>\n",
       "    </tr>\n",
       "  </thead>\n",
       "  <tbody>\n",
       "    <tr>\n",
       "      <th>0</th>\n",
       "      <td>18.28</td>\n",
       "      <td>18.28</td>\n",
       "      <td>22</td>\n",
       "      <td>0</td>\n",
       "      <td>0.0</td>\n",
       "    </tr>\n",
       "    <tr>\n",
       "      <th>1</th>\n",
       "      <td>15.14</td>\n",
       "      <td>15.14</td>\n",
       "      <td>30</td>\n",
       "      <td>0</td>\n",
       "      <td>0.0</td>\n",
       "    </tr>\n",
       "    <tr>\n",
       "      <th>2</th>\n",
       "      <td>10.00</td>\n",
       "      <td>10.00</td>\n",
       "      <td>36</td>\n",
       "      <td>0</td>\n",
       "      <td>0.0</td>\n",
       "    </tr>\n",
       "    <tr>\n",
       "      <th>3</th>\n",
       "      <td>3.23</td>\n",
       "      <td>3.23</td>\n",
       "      <td>44</td>\n",
       "      <td>0</td>\n",
       "      <td>0.0</td>\n",
       "    </tr>\n",
       "    <tr>\n",
       "      <th>4</th>\n",
       "      <td>-3.23</td>\n",
       "      <td>3.23</td>\n",
       "      <td>46</td>\n",
       "      <td>0</td>\n",
       "      <td>180.0</td>\n",
       "    </tr>\n",
       "    <tr>\n",
       "      <th>5</th>\n",
       "      <td>-8.23</td>\n",
       "      <td>8.23</td>\n",
       "      <td>38</td>\n",
       "      <td>0</td>\n",
       "      <td>180.0</td>\n",
       "    </tr>\n",
       "    <tr>\n",
       "      <th>6</th>\n",
       "      <td>-12.57</td>\n",
       "      <td>12.57</td>\n",
       "      <td>40</td>\n",
       "      <td>0</td>\n",
       "      <td>180.0</td>\n",
       "    </tr>\n",
       "    <tr>\n",
       "      <th>7</th>\n",
       "      <td>-14.85</td>\n",
       "      <td>14.85</td>\n",
       "      <td>22</td>\n",
       "      <td>0</td>\n",
       "      <td>180.0</td>\n",
       "    </tr>\n",
       "    <tr>\n",
       "      <th>8</th>\n",
       "      <td>-17.40</td>\n",
       "      <td>17.40</td>\n",
       "      <td>34</td>\n",
       "      <td>0</td>\n",
       "      <td>180.0</td>\n",
       "    </tr>\n",
       "    <tr>\n",
       "      <th>9</th>\n",
       "      <td>-23.52</td>\n",
       "      <td>23.52</td>\n",
       "      <td>32</td>\n",
       "      <td>0</td>\n",
       "      <td>180.0</td>\n",
       "    </tr>\n",
       "    <tr>\n",
       "      <th>10</th>\n",
       "      <td>-35.42</td>\n",
       "      <td>35.42</td>\n",
       "      <td>-2</td>\n",
       "      <td>0</td>\n",
       "      <td>180.0</td>\n",
       "    </tr>\n",
       "    <tr>\n",
       "      <th>11</th>\n",
       "      <td>-37.71</td>\n",
       "      <td>37.71</td>\n",
       "      <td>2</td>\n",
       "      <td>0</td>\n",
       "      <td>180.0</td>\n",
       "    </tr>\n",
       "  </tbody>\n",
       "</table>\n",
       "</div>"
      ],
      "text/plain": [
       "        Y   Dist   v  X     PA\n",
       "0   18.28  18.28  22  0    0.0\n",
       "1   15.14  15.14  30  0    0.0\n",
       "2   10.00  10.00  36  0    0.0\n",
       "3    3.23   3.23  44  0    0.0\n",
       "4   -3.23   3.23  46  0  180.0\n",
       "5   -8.23   8.23  38  0  180.0\n",
       "6  -12.57  12.57  40  0  180.0\n",
       "7  -14.85  14.85  22  0  180.0\n",
       "8  -17.40  17.40  34  0  180.0\n",
       "9  -23.52  23.52  32  0  180.0\n",
       "10 -35.42  35.42  -2  0  180.0\n",
       "11 -37.71  37.71   2  0  180.0"
      ]
     },
     "execution_count": 359,
     "metadata": {},
     "output_type": "execute_result"
    }
   ],
   "source": [
    "H"
   ]
  },
  {
   "cell_type": "code",
   "execution_count": 352,
   "metadata": {},
   "outputs": [],
   "source": [
    "def PA(x,y):\n",
    "    Pa = (atan2(y,x)*(180/np.pi))%360-90\n",
    "    return(Pa)"
   ]
  },
  {
   "cell_type": "code",
   "execution_count": 353,
   "metadata": {},
   "outputs": [
    {
     "name": "stdout",
     "output_type": "stream",
     "text": [
      "0.0\n",
      "0.0\n",
      "0.0\n",
      "0.0\n",
      "180.0\n",
      "180.0\n",
      "180.0\n",
      "180.0\n",
      "180.0\n",
      "180.0\n",
      "180.0\n",
      "180.0\n"
     ]
    }
   ],
   "source": [
    "for i in H['Y']:\n",
    "    print(PA(Rendijas[7],i))"
   ]
  },
  {
   "cell_type": "code",
   "execution_count": 354,
   "metadata": {},
   "outputs": [
    {
     "name": "stdout",
     "output_type": "stream",
     "text": [
      "240.8318922352608\n",
      "252.27050445646375\n",
      "260.659795229958\n"
     ]
    }
   ],
   "source": [
    "for i in M['Y']:\n",
    "    print(PA(Rendijas[12],i))"
   ]
  },
  {
   "cell_type": "code",
   "execution_count": null,
   "metadata": {},
   "outputs": [],
   "source": []
  }
 ],
 "metadata": {
  "kernelspec": {
   "display_name": "Python 3",
   "language": "python",
   "name": "python3"
  },
  "language_info": {
   "codemirror_mode": {
    "name": "ipython",
    "version": 3
   },
   "file_extension": ".py",
   "mimetype": "text/x-python",
   "name": "python",
   "nbconvert_exporter": "python",
   "pygments_lexer": "ipython3",
   "version": "3.8.5"
  }
 },
 "nbformat": 4,
 "nbformat_minor": 5
}
