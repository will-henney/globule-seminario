{
 "cells": [
  {
   "cell_type": "code",
   "execution_count": 2,
   "id": "3d86c3f1-1680-4b69-9700-cfac362f0a68",
   "metadata": {},
   "outputs": [],
   "source": [
    "import uncertainties\n",
    "from uncertainties import unumpy as unp\n",
    "import astropy.units as u\n",
    "import numpy as np"
   ]
  },
  {
   "cell_type": "markdown",
   "id": "b12dfe83-d2de-4e65-a542-2cc1afe1121f",
   "metadata": {},
   "source": [
    "We want to check the interaction between uncertainties (unumpy) and astropy.units"
   ]
  },
  {
   "cell_type": "code",
   "execution_count": 23,
   "id": "f72f90b0-6274-43db-a6d1-0d6c59eab56b",
   "metadata": {},
   "outputs": [
    {
     "data": {
      "text/plain": [
       "array([1.0+/-1.0, 2.0+/-1.0, 3.0+/-1.0, 4.0+/-1.0], dtype=object)"
      ]
     },
     "execution_count": 23,
     "metadata": {},
     "output_type": "execute_result"
    }
   ],
   "source": [
    "x = unp.uarray(1 + np.arange(4), np.ones((4)))\n",
    "xx = unp.uarray(1 + np.arange(4), np.ones((4)))\n",
    "x"
   ]
  },
  {
   "cell_type": "code",
   "execution_count": 24,
   "id": "70da2a86-994a-4a26-ae0f-5087eb00ea5f",
   "metadata": {},
   "outputs": [
    {
     "data": {
      "text/plain": [
       "(array([1.0+/-2.0, 4.0+/-4.0, 9.0+/-6.0, 16.0+/-8.0], dtype=object),\n",
       " array([1.0+/-1.4142135623730951, 4.0+/-2.8284271247461903,\n",
       "        9.0+/-4.242640687119285, 16.0+/-5.656854249492381], dtype=object))"
      ]
     },
     "execution_count": 24,
     "metadata": {},
     "output_type": "execute_result"
    }
   ],
   "source": [
    "x**2, x * xx"
   ]
  },
  {
   "cell_type": "code",
   "execution_count": 25,
   "id": "d34e4732-1469-43d8-9438-d52d38a4d479",
   "metadata": {},
   "outputs": [
    {
     "data": {
      "text/plain": [
       "(array([1.0+/-0, 1.0+/-0, 1.0+/-0, 1.0+/-0], dtype=object),\n",
       " array([1.0+/-1.4142135623730951, 1.0+/-0.7071067811865476,\n",
       "        1.0+/-0.4714045207910317, 1.0+/-0.3535533905932738], dtype=object))"
      ]
     },
     "execution_count": 25,
     "metadata": {},
     "output_type": "execute_result"
    }
   ],
   "source": [
    "x / x, xx / x"
   ]
  },
  {
   "cell_type": "code",
   "execution_count": 26,
   "id": "92c71b29-ec28-4d6a-a8f7-f1beefec2e3a",
   "metadata": {},
   "outputs": [],
   "source": [
    "y = x * (1.0 * u.cm)\n",
    "yy = xx * (1.0 * u.cm)"
   ]
  },
  {
   "cell_type": "code",
   "execution_count": 27,
   "id": "d325d533-1c50-4746-8090-8748a105b723",
   "metadata": {},
   "outputs": [
    {
     "data": {
      "text/plain": [
       "(<Quantity [1.0+/-1.0, 2.0+/-1.0, 3.0+/-1.0, 4.0+/-1.0] cm>,\n",
       " <Quantity [1.0+/-1.0, 2.0+/-1.0, 3.0+/-1.0, 4.0+/-1.0] cm>)"
      ]
     },
     "execution_count": 27,
     "metadata": {},
     "output_type": "execute_result"
    }
   ],
   "source": [
    "y, yy"
   ]
  },
  {
   "cell_type": "code",
   "execution_count": 28,
   "id": "4f3c0a5f-111d-4bc5-afdf-20da64bc51b7",
   "metadata": {},
   "outputs": [
    {
     "data": {
      "text/plain": [
       "(<Quantity [1.0+/-2.0, 4.0+/-4.0, 9.0+/-6.0, 16.0+/-8.0] cm2>,\n",
       " <Quantity [1.0+/-1.4142135623730951, 4.0+/-2.8284271247461903,\n",
       "            9.0+/-4.242640687119285, 16.0+/-5.656854249492381] cm2>)"
      ]
     },
     "execution_count": 28,
     "metadata": {},
     "output_type": "execute_result"
    }
   ],
   "source": [
    "y**2, y * yy"
   ]
  },
  {
   "cell_type": "code",
   "execution_count": 29,
   "id": "c2dd7200-2320-45e6-b927-05d23e21082a",
   "metadata": {},
   "outputs": [
    {
     "data": {
      "text/plain": [
       "(<Quantity [1.0+/-0, 1.0+/-0, 1.0+/-0, 1.0+/-0]>,\n",
       " <Quantity [1.0+/-1.4142135623730951, 1.0+/-0.7071067811865476,\n",
       "            1.0+/-0.4714045207910317, 1.0+/-0.3535533905932738]>)"
      ]
     },
     "execution_count": 29,
     "metadata": {},
     "output_type": "execute_result"
    }
   ],
   "source": [
    "y / y, yy / y"
   ]
  },
  {
   "cell_type": "code",
   "execution_count": 30,
   "id": "0aa27241-9e63-4ab7-bdbd-f6da633dc9ed",
   "metadata": {},
   "outputs": [],
   "source": [
    "z = y * yy"
   ]
  },
  {
   "cell_type": "code",
   "execution_count": 37,
   "id": "03f109b9-e32b-4b65-b2b7-54f81b75a86a",
   "metadata": {},
   "outputs": [
    {
     "data": {
      "text/plain": [
       "array([[1.        , 0.70710678],\n",
       "       [0.70710678, 1.        ]])"
      ]
     },
     "execution_count": 37,
     "metadata": {},
     "output_type": "execute_result"
    }
   ],
   "source": [
    "uncertainties.correlation_matrix([y.value[3], z.value[3]])"
   ]
  },
  {
   "cell_type": "code",
   "execution_count": 31,
   "id": "ffc1c517-c687-4874-93ad-cc54627e027f",
   "metadata": {},
   "outputs": [
    {
     "data": {
      "text/plain": [
       "(array([ 1.,  4.,  9., 16.]),\n",
       " array([1.41421356, 2.82842712, 4.24264069, 5.65685425]))"
      ]
     },
     "execution_count": 31,
     "metadata": {},
     "output_type": "execute_result"
    }
   ],
   "source": [
    "unp.nominal_values(z.value), unp.std_devs(z.value)"
   ]
  },
  {
   "cell_type": "markdown",
   "id": "6894f7ba-ecc5-46da-92f3-bec759a62e26",
   "metadata": {},
   "source": [
    "Test with functions"
   ]
  },
  {
   "cell_type": "code",
   "execution_count": 41,
   "id": "948d5e94-a064-436a-9f2f-66c8620c923d",
   "metadata": {},
   "outputs": [],
   "source": [
    "xxx = unp.degrees(unp.arctan(x))"
   ]
  },
  {
   "cell_type": "code",
   "execution_count": 42,
   "id": "a666f6f9-b646-4a17-8d56-8b588eb6ca4c",
   "metadata": {},
   "outputs": [
    {
     "data": {
      "text/plain": [
       "array([45.0+/-28.64788975654116, 63.43494882292202+/-11.459155902616466,\n",
       "       71.56505117707799+/-5.729577951308233,\n",
       "       75.96375653207353+/-3.3703399713577835], dtype=object)"
      ]
     },
     "execution_count": 42,
     "metadata": {},
     "output_type": "execute_result"
    }
   ],
   "source": [
    "xxx"
   ]
  },
  {
   "cell_type": "code",
   "execution_count": 43,
   "id": "34bcc011-bb68-4cff-bc8b-07f62b244d43",
   "metadata": {},
   "outputs": [],
   "source": [
    "xxx = unp.degrees(unp.arctan(y.value))"
   ]
  },
  {
   "cell_type": "code",
   "execution_count": 44,
   "id": "0eadc495-6a73-423d-b45f-a2cfe77e6fd0",
   "metadata": {},
   "outputs": [
    {
     "data": {
      "text/plain": [
       "array([1.0+/-1.0, 2.0+/-1.0, 3.0+/-1.0, 4.0+/-1.0], dtype=object)"
      ]
     },
     "execution_count": 44,
     "metadata": {},
     "output_type": "execute_result"
    }
   ],
   "source": [
    "y.value"
   ]
  },
  {
   "cell_type": "code",
   "execution_count": 47,
   "id": "ef306d26-8bbb-42d2-b9c3-edb4d624e336",
   "metadata": {},
   "outputs": [
    {
     "data": {
      "text/plain": [
       "array([45.        , 63.43494882, 71.56505118, 75.96375653])"
      ]
     },
     "execution_count": 47,
     "metadata": {},
     "output_type": "execute_result"
    }
   ],
   "source": [
    "unp.nominal_values(xxx)"
   ]
  },
  {
   "cell_type": "code",
   "execution_count": null,
   "id": "368adbc2-8a72-4ccd-b281-31dc9350d40b",
   "metadata": {},
   "outputs": [],
   "source": []
  }
 ],
 "metadata": {
  "kernelspec": {
   "display_name": "Python 3 (ipykernel)",
   "language": "python",
   "name": "python3"
  },
  "language_info": {
   "codemirror_mode": {
    "name": "ipython",
    "version": 3
   },
   "file_extension": ".py",
   "mimetype": "text/x-python",
   "name": "python",
   "nbconvert_exporter": "python",
   "pygments_lexer": "ipython3",
   "version": "3.9.9"
  }
 },
 "nbformat": 4,
 "nbformat_minor": 5
}
