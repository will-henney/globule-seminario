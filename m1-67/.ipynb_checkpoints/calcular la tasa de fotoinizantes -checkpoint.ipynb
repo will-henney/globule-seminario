{
 "cells": [
  {
   "cell_type": "code",
   "execution_count": 1,
   "metadata": {},
   "outputs": [],
   "source": [
    "import astropy.units as u\n",
    "from scipy import integrate\n",
    "from scipy.optimize import fsolve\n",
    "import numpy as np\n",
    "from astropy import constants as const #constants"
   ]
  },
  {
   "cell_type": "markdown",
   "metadata": {},
   "source": [
    "# Vamos a tratar de encontrar la temperatura a la cual tengamos la cantidad de fotones ionizantes que necesitamos y que concuerden con los calculado spor Hamman\n",
    "\n",
    "Haremos esto ya que en nuestros modelos usamos la emision de un BllackBody y es por eso que necesitmos encontrar la temperatura.\n",
    "\n",
    "Para esto tenemos que  $$Q_*=\\pi \\int_{\\nu_0}^{\\infty} \\frac{B_\\lambda(T)}{h\\nu} d\\nu 4\\pi r^2$$\n",
    "\n",
    "Ya que en un primer calculo no obteniamos resultados coherentes debido a los altos valores que tenemos, decidimos adimensionar los valores usando $$x\\equiv \\frac{h\\nu}{kT}$$ por lo que nuuestra función de BlackBody queda como $$B_x(T)dx=\\int \\frac{k^4T^4}{c^2h^3}\\frac{2x^3}{e^x-1}dx$$\n",
    "\n",
    "y para la tasa de fotonesionizantes tenemos que $$Q_*=\\pi\\int\\frac{B_nu(T)}{h\\nu}d\\nu 4\\pi r^2$$ con el cambio de variable adimensional tenemos que $h\\nu=xkT$ por lo que\n",
    "$$\\int\\frac{B_\\nu(T)}{h\\nu}d\\nu=\\int\\frac{B_x(X)}{xkT}dx=\\frac{k^4T^4}{c^2h^3kT}\\int\\frac{2c^3}{x}\\frac{1}{e^x-1}dx$$ $$=\\frac{2}{c^2}\\Big(\\frac{kT}{h}\\Big)^3\\int\\frac{x^2}{e^x-1}dx$$\n",
    "y de $$\\sigma=\\frac{2\\pi^5}{15}\\frac{k^4}{c^3h^3}=\\Big(\\frac{2k^3}{c^2h^3}\\Big)\\frac{\\pi^5k}{15}$$\n",
    "$$\\Rightarrow \\frac{2k^3}{c^2h^3}=\\frac{15\\sigma}{\\pi^5k}$$\n",
    "Por lo que $$\\int\\frac{B_x(T)}{xkT}dx=\\frac{15\\sigma}{\\pi^5k}T^3\\int\\frac{x^2}{e^x-1}dx=\\frac{15\\sigma}{\\pi^5kT}T^4\\int\\frac{x^2}{e^x-1}dx$$\n",
    "Entonces nuestra tasa de fotones ionizantes está dada por \n",
    "$$Q_*=4\\pi^2r^2\\frac{15\\sigma}{\\pi^5kT}T^4\\int\\frac{x^2}{e^x-1}dx=\\frac{4r^2}{\\pi^2}\\frac{15}{kT}\\sigma\\frac{T^4}{\\pi}\\int\\frac{x^2}{e^x-1}dx$$\n",
    "$$=\\frac{4r^215}{\\pi^2kT}\\int B_\\nu(T)d\\nu\\int\\frac{x^2}{e^x-1}dx$$\n",
    "$$Q_*=\\frac{4r^2}{\\pi}\\frac{15}{kT}\\int_0^\\infty B_\\nu(T) \\int_{x_0}^{\\infty}\\frac{x^2}{e^x-1}dx$$"
   ]
  },
  {
   "cell_type": "code",
   "execution_count": 3,
   "metadata": {},
   "outputs": [
    {
     "name": "stderr",
     "output_type": "stream",
     "text": [
      "<ipython-input-3-8bc9ea80dd04>:2: RuntimeWarning: overflow encountered in exp\n",
      "  return (2*x**3)/(np.exp(x)-1)\n"
     ]
    },
    {
     "data": {
      "text/latex": [
       "$1.2717515 \\times 10^{49} \\; \\mathrm{\\frac{1}{s}}$"
      ],
      "text/plain": [
       "<Quantity 1.27175154e+49 1 / s>"
      ]
     },
     "execution_count": 3,
     "metadata": {},
     "output_type": "execute_result"
    }
   ],
   "source": [
    "def planck_adimensional(x):\n",
    "    return (2*x**3)/(np.exp(x)-1)\n",
    "\n",
    "def BB_hnu(x):\n",
    "    return (x**2)/(np.exp(x)-1)\n",
    "\n",
    "'''Esta temperatura es la qeu vamos a estar cambiando hasta tener una tasa de fotones ionizantes comparadas con las de Hamann'''\n",
    "Tem = 5150*u.K\n",
    "#es la temperatura efectiva si emitiera como cuerpo negro\n",
    "\n",
    "'''Este es el radio al que estamos midiendo, use un valor tipico de la localizacion de los globulos'''\n",
    "r = (0.5*u.pc).to('cm')\n",
    "#la mayoria de los globulos se localizaban a 0.5 pc de distancia\n",
    "\n",
    "BB_x, err1 = integrate.quad(lambda x: planck_adimensional(x),0,np.inf)\n",
    "#valor de la funcion de planck adimensional\n",
    "\n",
    "Int_1 = (((const.k_B)**4*Tem**4)/((const.c)**2*(const.h)**3)*BB_x).cgs\n",
    "#valor con unidades de la funcion de planck en todo e espectro\n",
    "\n",
    "x_0 = ((13.6*u.eV)/(const.k_B*Tem)).cgs.value\n",
    "#esta es nuestro valor adimensional en el cual la energia es 13.6eV\n",
    "\n",
    "BB_hx, err1 = integrate.quad(lambda x: BB_hnu(x),x_0,np.inf)\n",
    "#El valor de la segunda integral en la ecuacion de la tasa de fotones ionizantes\n",
    "\n",
    "Q_o = ((15*4*r**2)/((np.pi**2)*const.k_B*Tem)*Int_1*BB_hx).cgs\n",
    "#Valor de la tasa de fotones ionizantes\n",
    "\n",
    "Q_o"
   ]
  },
  {
   "cell_type": "code",
   "execution_count": null,
   "metadata": {},
   "outputs": [],
   "source": []
  }
 ],
 "metadata": {
  "kernelspec": {
   "display_name": "Python 3.8.5 64-bit ('base': conda)",
   "language": "python",
   "name": "python38564bitbasecondab56a9e3744354fe6950b72f8491071c9"
  },
  "language_info": {
   "codemirror_mode": {
    "name": "ipython",
    "version": 3
   },
   "file_extension": ".py",
   "mimetype": "text/x-python",
   "name": "python",
   "nbconvert_exporter": "python",
   "pygments_lexer": "ipython3",
   "version": "3.8.5"
  }
 },
 "nbformat": 4,
 "nbformat_minor": 4
}
