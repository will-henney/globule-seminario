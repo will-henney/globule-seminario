{
 "cells": [
  {
   "cell_type": "code",
   "execution_count": 5,
   "id": "f1ee2740-fc65-45c7-b440-88a9ab6accc4",
   "metadata": {},
   "outputs": [
    {
     "name": "stderr",
     "output_type": "stream",
     "text": [
      "**WARNING**: LOCAL JWST PRD VERSION PRDOPSSOC-062 CANNOT BE CHECKED AGAINST ONLINE VERSION\n"
     ]
    }
   ],
   "source": [
    "import sys\n",
    "sys.path.append(\"../scripts\")\n",
    "import psflib"
   ]
  },
  {
   "cell_type": "code",
   "execution_count": 6,
   "id": "bb4d6023-32d8-4c3b-8d17-d72e4295cfbc",
   "metadata": {},
   "outputs": [
    {
     "data": {
      "text/plain": [
       "\u001b[0;31mType:\u001b[0m        module\n",
       "\u001b[0;31mString form:\u001b[0m <module 'psflib' from '/Users/will/Dropbox/globule-seminario/m1-67/psf-notebooks/../scripts/psflib.py'>\n",
       "\u001b[0;31mFile:\u001b[0m        ~/Dropbox/globule-seminario/m1-67/scripts/psflib.py\n",
       "\u001b[0;31mDocstring:\u001b[0m   Tools for fitting and removing PSFs from images."
      ]
     },
     "metadata": {},
     "output_type": "display_data"
    }
   ],
   "source": [
    "psflib?"
   ]
  },
  {
   "cell_type": "code",
   "execution_count": null,
   "id": "009aca9c-afe4-43a9-add9-9aeb5d4937c9",
   "metadata": {},
   "outputs": [],
   "source": []
  }
 ],
 "metadata": {
  "kernelspec": {
   "display_name": "Python 3 (ipykernel)",
   "language": "python",
   "name": "python3"
  },
  "language_info": {
   "codemirror_mode": {
    "name": "ipython",
    "version": 3
   },
   "file_extension": ".py",
   "mimetype": "text/x-python",
   "name": "python",
   "nbconvert_exporter": "python",
   "pygments_lexer": "ipython3",
   "version": "3.9.9"
  }
 },
 "nbformat": 4,
 "nbformat_minor": 5
}
