{
 "cells": [
  {
   "cell_type": "markdown",
   "id": "d7cf4d2a-c219-4bf0-bb53-3ca837c567ea",
   "metadata": {},
   "source": [
    "# Relative contributions to different JWST MIRI filters from MRS spectra"
   ]
  },
  {
   "cell_type": "markdown",
   "id": "14e8d039-d2f3-40d1-b8b4-8a6a0294e6c2",
   "metadata": {},
   "source": [
    "## Setup"
   ]
  },
  {
   "cell_type": "markdown",
   "id": "4b6de4ba-00b6-45d5-b07d-49b36e47dc7b",
   "metadata": {},
   "source": [
    "### Imports"
   ]
  },
  {
   "cell_type": "code",
   "execution_count": 1,
   "id": "14cd25bb-0559-4279-96ea-355e0d4acc22",
   "metadata": {},
   "outputs": [],
   "source": [
    "from pathlib import Path\n",
    "from astropy.io import fits\n",
    "import numpy as np\n",
    "from matplotlib import pyplot as plt\n",
    "import seaborn as sns"
   ]
  },
  {
   "cell_type": "markdown",
   "id": "df500e71-6926-474e-ae9d-d02dd20ccf7b",
   "metadata": {},
   "source": [
    "### Paths"
   ]
  },
  {
   "cell_type": "markdown",
   "id": "ab631219-a3b8-4a7f-947d-9f566ca7757d",
   "metadata": {},
   "source": [
    "Data directory"
   ]
  },
  {
   "cell_type": "code",
   "execution_count": 2,
   "id": "e0042a5c-af82-4ffc-885d-fd4278d5529d",
   "metadata": {},
   "outputs": [],
   "source": [
    "DD = Path.cwd().parent / \"data\" / \"jwst-miri-mrs\""
   ]
  },
  {
   "cell_type": "markdown",
   "id": "b1d5c628-275c-4e30-942c-338c595b6ea4",
   "metadata": {},
   "source": [
    "## Relative contributions\n",
    "\n",
    "We are working with the star-subtracted data cube since this should be more representative of the broader nebula. The original cube is dominated by the star, especially at shorter wavelengths. \n",
    "\n",
    "Note that the star subtraction is not perfect, leading to artefacts in the continuum contribution especially. Hopefully, I can improve the subtraction process later.\n",
    "\n",
    "We consider 3 different types of contribution to each wave band:\n",
    "\n",
    "* Continuum: variation on scales $\\Delta\\lambda/\\lambda > 0.1$\n",
    "* Bands: AIB emission bands with $\\Delta\\lambda/\\lambda \\sim 0.01$\n",
    "* Lines: narrow emission lines with $\\Delta\\lambda/\\lambda \\sim 0.001$\n",
    "\n",
    "Ideally, the star-subtraction has removed all the stellar wind lines, leaving only the very narrow nebular lines"
   ]
  },
  {
   "cell_type": "code",
   "execution_count": null,
   "id": "39103853-32aa-4d60-8b62-20614a7c36e4",
   "metadata": {},
   "outputs": [],
   "source": []
  }
 ],
 "metadata": {
  "kernelspec": {
   "display_name": "Python 3 (ipykernel)",
   "language": "python",
   "name": "python3"
  },
  "language_info": {
   "codemirror_mode": {
    "name": "ipython",
    "version": 3
   },
   "file_extension": ".py",
   "mimetype": "text/x-python",
   "name": "python",
   "nbconvert_exporter": "python",
   "pygments_lexer": "ipython3",
   "version": "3.9.9"
  }
 },
 "nbformat": 4,
 "nbformat_minor": 5
}
