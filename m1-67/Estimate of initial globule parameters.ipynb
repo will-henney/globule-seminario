{
 "cells": [
  {
   "cell_type": "markdown",
   "metadata": {},
   "source": [
    "In [Bertoldi,1989](https://ui.adsabs.harvard.edu/abs/1989ApJ...346..735B/abstract) we find this Figure\n",
    "\n",
    "![Fig1](https://private-user-images.githubusercontent.com/161264/303747374-0f9399ae-b415-430e-a2ed-db6a7a5b32aa.jpg?jwt=eyJhbGciOiJIUzI1NiIsInR5cCI6IkpXVCJ9.eyJpc3MiOiJnaXRodWIuY29tIiwiYXVkIjoicmF3LmdpdGh1YnVzZXJjb250ZW50LmNvbSIsImtleSI6ImtleTUiLCJleHAiOjE3MDc3NjEwMzksIm5iZiI6MTcwNzc2MDczOSwicGF0aCI6Ii8xNjEyNjQvMzAzNzQ3Mzc0LTBmOTM5OWFlLWI0MTUtNDMwZS1hMmVkLWRiNmE3YTViMzJhYS5qcGc_WC1BbXotQWxnb3JpdGhtPUFXUzQtSE1BQy1TSEEyNTYmWC1BbXotQ3JlZGVudGlhbD1BS0lBVkNPRFlMU0E1M1BRSzRaQSUyRjIwMjQwMjEyJTJGdXMtZWFzdC0xJTJGczMlMkZhd3M0X3JlcXVlc3QmWC1BbXotRGF0ZT0yMDI0MDIxMlQxNzU4NTlaJlgtQW16LUV4cGlyZXM9MzAwJlgtQW16LVNpZ25hdHVyZT02ZjU0NjEwZTVhZDBkNWE5YTkyMzcxYWM2NWVmNTdmNzZkYWJjMGY0N2Y2NWNjYjllY2Y4ZGJmOGFlYTZmYzJmJlgtQW16LVNpZ25lZEhlYWRlcnM9aG9zdCZhY3Rvcl9pZD0wJmtleV9pZD0wJnJlcG9faWQ9MCJ9.uhvjcuoj703lb39zPp4SlsfKb0HligtJLW6ZY4ZbPUk)\n",
    "\n",
    "And we want to estimate teh initial parameters, first we make a calculation of $\\eta$ and $\\Gamma$ but with the actual parameters on the observations.\n",
    "\n",
    "# $\\eta$\n",
    "\n",
    "![eta](https://github.com/will-henney/globule-seminario/assets/161264/9c069424-2226-4b87-b165-f864899f584a)\n",
    "\n",
    "For $r_0$ we make a histogram of HST image and only we considerer 3 radius:\n",
    "* $r_{min}=0.08$ arcsec\n",
    "* $r_{mean}=0.14$ arcsec\n",
    "* $r_{max}=0.22$ arcsec\n",
    "\n",
    "![1](data:image/png;base64,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)\n",
    "\n",
    "For the density we use the VEM and we have that\n",
    "$$n_0=\\sqrt{\\frac{VEM}{\\pi\\xi_0 r_0^3}}$$ and we obtain 3 $n_0$.\n",
    "\n",
    "For the JWST image we find \n",
    "![JWST](data:image/png;base64,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)\n",
    "\n",
    "$\\Rightarrow$\n",
    "* $r_{min}=0.04$ arcsec\n",
    "* $r_{mean}=0.09$ arcsec\n",
    "* $r_{max}=0.15$ arcsec\n",
    "and for the densities we use the VEM again."
   ]
  },
  {
   "cell_type": "markdown",
   "metadata": {},
   "source": [
    "## Radius and densities"
   ]
  },
  {
   "cell_type": "code",
   "execution_count": 1,
   "metadata": {},
   "outputs": [
    {
     "name": "stdout",
     "output_type": "stream",
     "text": [
      "the radius are [6.49733472e+15 1.13703358e+16 1.78676705e+16] cm and the densities are [28436.19187783 12283.28031714  6235.515962  ] 1 / cm3\n"
     ]
    }
   ],
   "source": [
    "'''HST image'''\n",
    "\n",
    "import numpy as np\n",
    "from astropy import units as u\n",
    "from astropy import constants as cte\n",
    "\n",
    "HST = np.array([0.08,.14,.22])*u.arcsec\n",
    "VEM = 1.5969046e56/(u.cm**3)\n",
    "xi_0 = 0.229182\n",
    "D = 5429*u.pc\n",
    "\n",
    "r_HST = (((HST*D).value)*u.AU).to('cm')\n",
    "n_HST = np.sqrt(VEM/(np.pi*xi_0*r_HST**3))\n",
    "print(rf'the radius are {r_HST} and the densities are {n_HST}')"
   ]
  },
  {
   "cell_type": "code",
   "execution_count": 2,
   "metadata": {},
   "outputs": [
    {
     "name": "stdout",
     "output_type": "stream",
     "text": [
      "the radius are [3.24866736e+15 7.30950156e+15 1.21825026e+16] cm and the densities are [80429.69643175 23831.02116496 11075.6577714 ] 1 / cm3\n"
     ]
    }
   ],
   "source": [
    "'''JWST image'''\n",
    "\n",
    "JWST = np.array([.04,.09,.15])\n",
    "\n",
    "r_JWST = (((JWST*D).value)*u.AU).to('cm')\n",
    "n_JWST = np.sqrt(VEM/(np.pi*xi_0*r_JWST**3))\n",
    "print(rf'the radius are {r_JWST} and the densities are {n_JWST}')"
   ]
  },
  {
   "cell_type": "markdown",
   "metadata": {},
   "source": [
    "# $\\eta$\n",
    "\n",
    "$r_0$ is normalized in pc and $n_0$ in $cm^{-3}$ so we have "
   ]
  },
  {
   "cell_type": "code",
   "execution_count": 4,
   "metadata": {},
   "outputs": [
    {
     "data": {
      "text/plain": [
       "array([4.62359324, 4.50207422, 4.4039269 ])"
      ]
     },
     "execution_count": 4,
     "metadata": {},
     "output_type": "execute_result"
    }
   ],
   "source": [
    "eta_HST = 702*((r_HST).to('pc')).value*n_HST.value\n",
    "np.log10(eta_HST)"
   ]
  },
  {
   "cell_type": "code",
   "execution_count": 5,
   "metadata": {},
   "outputs": [
    {
     "data": {
      "text/plain": [
       "array([4.77410824, 4.59801698, 4.48709261])"
      ]
     },
     "execution_count": 5,
     "metadata": {},
     "output_type": "execute_result"
    }
   ],
   "source": [
    "eta_JWST = 702*((r_JWST).to('pc')).value*n_JWST.value\n",
    "np.log10(eta_JWST)"
   ]
  },
  {
   "cell_type": "markdown",
   "metadata": {},
   "source": [
    "## $\\Gamma$\n",
    "\n",
    "![gamma](https://github.com/will-henney/globule-seminario/assets/161264/6cce01a7-99ad-4abb-8e38-ae38adcf53ec)\n",
    "\n",
    "first we estimate $$F = \\frac{S}{4\\pi R_0^2}$$ where $S$ is the Lymann continuum and $R_0$ is teh separation for the globule to the star.\n",
    "\n",
    "On the image we consider only 3 distances\n",
    "* 2.9841 arcsec\n",
    "* 16.4769 arcsec\n",
    "* 35.0963 arcsec\n",
    "\n",
    "For this calculations we only consider $r_{mean}$ and $n_{mean}$ "
   ]
  },
  {
   "cell_type": "code",
   "execution_count": 10,
   "metadata": {},
   "outputs": [
    {
     "name": "stdout",
     "output_type": "stream",
     "text": [
      "the distance are [0.07854311 0.43368082 0.92375338] pc\n"
     ]
    },
    {
     "data": {
      "text/latex": [
       "$[-1.3342622,~-2.8183864,~-3.4751581] \\; \\mathrm{}$"
      ],
      "text/plain": [
       "<Quantity [-1.33426218, -2.81838645, -3.4751581 ]>"
      ]
     },
     "execution_count": 10,
     "metadata": {},
     "output_type": "execute_result"
    }
   ],
   "source": [
    "'''HST image'''\n",
    "\n",
    "R = np.array([2.9841,16.4769,35.0963])*u.arcsec\n",
    "R_0 = (((R*D).value)*u.AU).to('cm')\n",
    "d = R_0.to('pc')\n",
    "\n",
    "print(rf'the distance are {d}')\n",
    "\n",
    "L = 10**49.1/u.second\n",
    "F = L/(4*np.pi*R_0**2)\n",
    "\n",
    "Gamma = F/(n_HST[1]*(cte.c).cgs)\n",
    "np.log10(Gamma)"
   ]
  },
  {
   "cell_type": "code",
   "execution_count": 11,
   "metadata": {},
   "outputs": [
    {
     "data": {
      "text/latex": [
       "$[-1.6220905,~-3.1062147,~-3.7629864] \\; \\mathrm{}$"
      ],
      "text/plain": [
       "<Quantity [-1.62209047, -3.10621474, -3.76298639]>"
      ]
     },
     "execution_count": 11,
     "metadata": {},
     "output_type": "execute_result"
    }
   ],
   "source": [
    "'''JWST image'''\n",
    "\n",
    "Gamma = F/(n_JWST[1]*(cte.c).cgs)\n",
    "np.log10(Gamma)"
   ]
  },
  {
   "cell_type": "code",
   "execution_count": 19,
   "metadata": {},
   "outputs": [
    {
     "data": {
      "text/html": [
       "\n",
       "        <iframe\n",
       "            width=\"600\"\n",
       "            height=\"300\"\n",
       "            src=\"Bertoldi_1.pdf\"\n",
       "            frameborder=\"0\"\n",
       "            allowfullscreen\n",
       "        ></iframe>\n",
       "        "
      ],
      "text/plain": [
       "<IPython.lib.display.IFrame at 0x7f647862cd30>"
      ]
     },
     "execution_count": 19,
     "metadata": {},
     "output_type": "execute_result"
    }
   ],
   "source": [
    "from IPython .display import IFrame\n",
    "IFrame('Bertoldi_1.pdf',width=600,height=300)"
   ]
  },
  {
   "cell_type": "markdown",
   "metadata": {},
   "source": [
    "With the actual parameters we ares onthe green zone"
   ]
  },
  {
   "cell_type": "code",
   "execution_count": null,
   "metadata": {},
   "outputs": [],
   "source": []
  }
 ],
 "metadata": {
  "kernelspec": {
   "display_name": "Python 3",
   "language": "python",
   "name": "python3"
  },
  "language_info": {
   "codemirror_mode": {
    "name": "ipython",
    "version": 3
   },
   "file_extension": ".py",
   "mimetype": "text/x-python",
   "name": "python",
   "nbconvert_exporter": "python",
   "pygments_lexer": "ipython3",
   "version": "3.8.5"
  }
 },
 "nbformat": 4,
 "nbformat_minor": 4
}
